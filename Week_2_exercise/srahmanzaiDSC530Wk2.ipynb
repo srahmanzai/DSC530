{
 "cells": [
  {
   "cell_type": "code",
   "execution_count": 4,
   "id": "ed146611",
   "metadata": {
    "scrolled": true
   },
   "outputs": [
    {
     "name": "stdout",
     "output_type": "stream",
     "text": [
      "Hello World! I wonder why that is always the default coding text to start with\n"
     ]
    }
   ],
   "source": [
    "print(\"Hello World! I wonder why that is always the default coding text to start with\")\n"
   ]
  },
  {
   "cell_type": "code",
   "execution_count": 5,
   "id": "341c7152",
   "metadata": {},
   "outputs": [
    {
     "data": {
      "text/plain": [
       "15"
      ]
     },
     "execution_count": 5,
     "metadata": {},
     "output_type": "execute_result"
    }
   ],
   "source": [
    "5 + 10"
   ]
  },
  {
   "cell_type": "code",
   "execution_count": 6,
   "id": "b4afeedc",
   "metadata": {},
   "outputs": [
    {
     "data": {
      "text/plain": [
       "15"
      ]
     },
     "execution_count": 6,
     "metadata": {},
     "output_type": "execute_result"
    }
   ],
   "source": [
    "20 - 5"
   ]
  },
  {
   "cell_type": "code",
   "execution_count": 7,
   "id": "a1726c70",
   "metadata": {},
   "outputs": [
    {
     "data": {
      "text/plain": [
       "15"
      ]
     },
     "execution_count": 7,
     "metadata": {},
     "output_type": "execute_result"
    }
   ],
   "source": [
    "3 * 5"
   ]
  },
  {
   "cell_type": "code",
   "execution_count": 8,
   "id": "745c4668",
   "metadata": {},
   "outputs": [
    {
     "data": {
      "text/plain": [
       "5.0"
      ]
     },
     "execution_count": 8,
     "metadata": {},
     "output_type": "execute_result"
    }
   ],
   "source": [
    "15 / 3"
   ]
  },
  {
   "cell_type": "code",
   "execution_count": 9,
   "id": "4c995893",
   "metadata": {},
   "outputs": [
    {
     "data": {
      "text/plain": [
       "'Hello! Looking forward to learn Python!'"
      ]
     },
     "execution_count": 9,
     "metadata": {},
     "output_type": "execute_result"
    }
   ],
   "source": [
    "\"Hello!\" + \" \" + \"Looking forward to learn Python!\""
   ]
  },
  {
   "cell_type": "code",
   "execution_count": 10,
   "id": "ead209cd",
   "metadata": {},
   "outputs": [
    {
     "data": {
      "text/plain": [
       "['Tiger Woods', [65, 66, 70, 65], 'Master Championship 2022', 'Winner!']"
      ]
     },
     "execution_count": 10,
     "metadata": {},
     "output_type": "execute_result"
    }
   ],
   "source": [
    "Golf_Forecast = [\"Tiger Woods\", [65,66,70,65], \"Master Championship 2022\", \"Winner!\"]\n",
    "Golf_Forecast"
   ]
  },
  {
   "cell_type": "code",
   "execution_count": 11,
   "id": "2c9aa88a",
   "metadata": {},
   "outputs": [],
   "source": [
    "Golf_Forecast.append(\"Augusta GA\")\n"
   ]
  },
  {
   "cell_type": "code",
   "execution_count": 12,
   "id": "0c455845",
   "metadata": {},
   "outputs": [
    {
     "data": {
      "text/plain": [
       "['Tiger Woods',\n",
       " [65, 66, 70, 65],\n",
       " 'Master Championship 2022',\n",
       " 'Winner!',\n",
       " 'Augusta GA']"
      ]
     },
     "execution_count": 12,
     "metadata": {},
     "output_type": "execute_result"
    }
   ],
   "source": [
    "Golf_Forecast"
   ]
  },
  {
   "cell_type": "code",
   "execution_count": 13,
   "id": "b09d52c4",
   "metadata": {},
   "outputs": [
    {
     "data": {
      "text/plain": [
       "('Nelli Korda', 'Gold Medalist', 2020, 'Tokyo')"
      ]
     },
     "execution_count": 13,
     "metadata": {},
     "output_type": "execute_result"
    }
   ],
   "source": [
    "Golf_USA_Olympics = (\"Nelli Korda\", \"Gold Medalist\", 2020, \"Tokyo\")\n",
    "Golf_USA_Olympics"
   ]
  },
  {
   "cell_type": "code",
   "execution_count": null,
   "id": "cb00648f",
   "metadata": {},
   "outputs": [],
   "source": []
  }
 ],
 "metadata": {
  "kernelspec": {
   "display_name": "Python 3 (ipykernel)",
   "language": "python",
   "name": "python3"
  },
  "language_info": {
   "codemirror_mode": {
    "name": "ipython",
    "version": 3
   },
   "file_extension": ".py",
   "mimetype": "text/x-python",
   "name": "python",
   "nbconvert_exporter": "python",
   "pygments_lexer": "ipython3",
   "version": "3.9.7"
  }
 },
 "nbformat": 4,
 "nbformat_minor": 5
}
