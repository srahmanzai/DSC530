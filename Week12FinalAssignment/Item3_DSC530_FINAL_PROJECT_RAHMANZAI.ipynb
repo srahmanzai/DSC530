{
 "cells": [
  {
   "cell_type": "code",
   "execution_count": 178,
   "id": "40defe36",
   "metadata": {},
   "outputs": [],
   "source": [
    "from __future__ import print_function, division\n",
    "\n",
    "\n",
    "\n",
    "import thinkplot\n",
    "import random\n",
    "import numpy as np\n",
    "import pandas as pd\n",
    "import scipy.stats as stats\n",
    "import matplotlib.pyplot as plt\n",
    "%matplotlib inline\n",
    "\n",
    "\n",
    "from statsmodels.formula.api import ols\n",
    "from scipy import stats\n",
    "import statsmodels.api as sm\n",
    "\n"
   ]
  },
  {
   "cell_type": "code",
   "execution_count": 2,
   "id": "0d7a4aeb",
   "metadata": {},
   "outputs": [
    {
     "data": {
      "text/html": [
       "<div>\n",
       "<style scoped>\n",
       "    .dataframe tbody tr th:only-of-type {\n",
       "        vertical-align: middle;\n",
       "    }\n",
       "\n",
       "    .dataframe tbody tr th {\n",
       "        vertical-align: top;\n",
       "    }\n",
       "\n",
       "    .dataframe thead th {\n",
       "        text-align: right;\n",
       "    }\n",
       "</style>\n",
       "<table border=\"1\" class=\"dataframe\">\n",
       "  <thead>\n",
       "    <tr style=\"text-align: right;\">\n",
       "      <th></th>\n",
       "      <th>Description</th>\n",
       "    </tr>\n",
       "  </thead>\n",
       "  <tbody>\n",
       "    <tr>\n",
       "      <th>0</th>\n",
       "      <td>CVE-1999-0001</td>\n",
       "    </tr>\n",
       "    <tr>\n",
       "      <th>1</th>\n",
       "      <td>CVE-1999-0002</td>\n",
       "    </tr>\n",
       "    <tr>\n",
       "      <th>2</th>\n",
       "      <td>CVE-1999-0003</td>\n",
       "    </tr>\n",
       "    <tr>\n",
       "      <th>3</th>\n",
       "      <td>CVE-1999-0004</td>\n",
       "    </tr>\n",
       "    <tr>\n",
       "      <th>4</th>\n",
       "      <td>CVE-1999-0005</td>\n",
       "    </tr>\n",
       "  </tbody>\n",
       "</table>\n",
       "</div>"
      ],
      "text/plain": [
       "     Description\n",
       "0  CVE-1999-0001\n",
       "1  CVE-1999-0002\n",
       "2  CVE-1999-0003\n",
       "3  CVE-1999-0004\n",
       "4  CVE-1999-0005"
      ]
     },
     "execution_count": 2,
     "metadata": {},
     "output_type": "execute_result"
    }
   ],
   "source": [
    "#Dataset#1:  CVE® is a list of publicly disclosed cybersecurity vulnerabilities.obtained from mitre.org.  \n",
    "# Data generated in 2022-01-21.  Data is from Jan 1999 to Jan 2022.\n",
    "allitems = pd.read_csv(\"allitems.csv\")\n",
    "allitems.head()\n",
    "#WE just needed the first column data. I will be extracting the year from this column as will be my dependent variable as CVE\n",
    "# listed is identified by year.\n"
   ]
  },
  {
   "cell_type": "code",
   "execution_count": 3,
   "id": "1c8f6392",
   "metadata": {},
   "outputs": [
    {
     "data": {
      "text/plain": [
       "pandas.core.frame.DataFrame"
      ]
     },
     "execution_count": 3,
     "metadata": {},
     "output_type": "execute_result"
    }
   ],
   "source": [
    "type(allitems)\n",
    "# shows the data is in a dataframe"
   ]
  },
  {
   "cell_type": "code",
   "execution_count": 4,
   "id": "f3d71b32",
   "metadata": {},
   "outputs": [
    {
     "name": "stdout",
     "output_type": "stream",
     "text": [
      "<class 'pandas.core.frame.DataFrame'>\n",
      "RangeIndex: 226679 entries, 0 to 226678\n",
      "Data columns (total 1 columns):\n",
      " #   Column       Non-Null Count   Dtype \n",
      "---  ------       --------------   ----- \n",
      " 0   Description  226679 non-null  object\n",
      "dtypes: object(1)\n",
      "memory usage: 1.7+ MB\n"
     ]
    }
   ],
   "source": [
    "allitems.info()"
   ]
  },
  {
   "cell_type": "code",
   "execution_count": 5,
   "id": "288f8e16",
   "metadata": {},
   "outputs": [
    {
     "name": "stdout",
     "output_type": "stream",
     "text": [
      "<class 'pandas.core.frame.DataFrame'>\n",
      "RangeIndex: 226679 entries, 0 to 226678\n",
      "Data columns (total 2 columns):\n",
      " #   Column       Non-Null Count   Dtype \n",
      "---  ------       --------------   ----- \n",
      " 0   Description  226679 non-null  object\n",
      " 1   Year         226679 non-null  object\n",
      "dtypes: object(2)\n",
      "memory usage: 3.5+ MB\n"
     ]
    }
   ],
   "source": [
    "allitems['Year']=allitems['Description'].str.split('-').str[1]\n",
    "allitems.head()\n",
    "allitems.info()"
   ]
  },
  {
   "cell_type": "code",
   "execution_count": 6,
   "id": "b7b97a78",
   "metadata": {},
   "outputs": [
    {
     "data": {
      "text/html": [
       "<div>\n",
       "<style scoped>\n",
       "    .dataframe tbody tr th:only-of-type {\n",
       "        vertical-align: middle;\n",
       "    }\n",
       "\n",
       "    .dataframe tbody tr th {\n",
       "        vertical-align: top;\n",
       "    }\n",
       "\n",
       "    .dataframe thead th {\n",
       "        text-align: right;\n",
       "    }\n",
       "</style>\n",
       "<table border=\"1\" class=\"dataframe\">\n",
       "  <thead>\n",
       "    <tr style=\"text-align: right;\">\n",
       "      <th></th>\n",
       "      <th>Description</th>\n",
       "      <th>Year</th>\n",
       "      <th>Vulnerabilities</th>\n",
       "    </tr>\n",
       "  </thead>\n",
       "  <tbody>\n",
       "    <tr>\n",
       "      <th>0</th>\n",
       "      <td>CVE-1999-0001</td>\n",
       "      <td>1999</td>\n",
       "      <td>CVE-1999-0001</td>\n",
       "    </tr>\n",
       "    <tr>\n",
       "      <th>1</th>\n",
       "      <td>CVE-1999-0002</td>\n",
       "      <td>1999</td>\n",
       "      <td>CVE-1999-0002</td>\n",
       "    </tr>\n",
       "    <tr>\n",
       "      <th>2</th>\n",
       "      <td>CVE-1999-0003</td>\n",
       "      <td>1999</td>\n",
       "      <td>CVE-1999-0003</td>\n",
       "    </tr>\n",
       "    <tr>\n",
       "      <th>3</th>\n",
       "      <td>CVE-1999-0004</td>\n",
       "      <td>1999</td>\n",
       "      <td>CVE-1999-0004</td>\n",
       "    </tr>\n",
       "    <tr>\n",
       "      <th>4</th>\n",
       "      <td>CVE-1999-0005</td>\n",
       "      <td>1999</td>\n",
       "      <td>CVE-1999-0005</td>\n",
       "    </tr>\n",
       "  </tbody>\n",
       "</table>\n",
       "</div>"
      ],
      "text/plain": [
       "     Description  Year Vulnerabilities\n",
       "0  CVE-1999-0001  1999   CVE-1999-0001\n",
       "1  CVE-1999-0002  1999   CVE-1999-0002\n",
       "2  CVE-1999-0003  1999   CVE-1999-0003\n",
       "3  CVE-1999-0004  1999   CVE-1999-0004\n",
       "4  CVE-1999-0005  1999   CVE-1999-0005"
      ]
     },
     "execution_count": 6,
     "metadata": {},
     "output_type": "execute_result"
    }
   ],
   "source": [
    "allitems['Vulnerabilities']=allitems['Description']\n",
    "allitems.head()"
   ]
  },
  {
   "cell_type": "code",
   "execution_count": 7,
   "id": "a7d7caf5",
   "metadata": {},
   "outputs": [
    {
     "data": {
      "text/plain": [
       "'1999'"
      ]
     },
     "execution_count": 7,
     "metadata": {},
     "output_type": "execute_result"
    }
   ],
   "source": [
    "Y=allitems['Year']\n",
    "Y.min()"
   ]
  },
  {
   "cell_type": "code",
   "execution_count": 8,
   "id": "c49cafb7",
   "metadata": {},
   "outputs": [
    {
     "data": {
      "text/plain": [
       "'2022'"
      ]
     },
     "execution_count": 8,
     "metadata": {},
     "output_type": "execute_result"
    }
   ],
   "source": [
    "Y.max()\n"
   ]
  },
  {
   "cell_type": "code",
   "execution_count": 223,
   "id": "c65166fe",
   "metadata": {},
   "outputs": [
    {
     "data": {
      "text/html": [
       "<div>\n",
       "<style scoped>\n",
       "    .dataframe tbody tr th:only-of-type {\n",
       "        vertical-align: middle;\n",
       "    }\n",
       "\n",
       "    .dataframe tbody tr th {\n",
       "        vertical-align: top;\n",
       "    }\n",
       "\n",
       "    .dataframe thead th {\n",
       "        text-align: right;\n",
       "    }\n",
       "</style>\n",
       "<table border=\"1\" class=\"dataframe\">\n",
       "  <thead>\n",
       "    <tr style=\"text-align: right;\">\n",
       "      <th></th>\n",
       "      <th>Description</th>\n",
       "      <th>Year</th>\n",
       "      <th>Vulnerabilities</th>\n",
       "    </tr>\n",
       "  </thead>\n",
       "  <tbody>\n",
       "    <tr>\n",
       "      <th>count</th>\n",
       "      <td>226679</td>\n",
       "      <td>226679</td>\n",
       "      <td>226679</td>\n",
       "    </tr>\n",
       "    <tr>\n",
       "      <th>unique</th>\n",
       "      <td>226679</td>\n",
       "      <td>24</td>\n",
       "      <td>226679</td>\n",
       "    </tr>\n",
       "    <tr>\n",
       "      <th>top</th>\n",
       "      <td>CVE-1999-0001</td>\n",
       "      <td>2020</td>\n",
       "      <td>CVE-1999-0001</td>\n",
       "    </tr>\n",
       "    <tr>\n",
       "      <th>freq</th>\n",
       "      <td>1</td>\n",
       "      <td>31086</td>\n",
       "      <td>1</td>\n",
       "    </tr>\n",
       "  </tbody>\n",
       "</table>\n",
       "</div>"
      ],
      "text/plain": [
       "          Description    Year Vulnerabilities\n",
       "count          226679  226679          226679\n",
       "unique         226679      24          226679\n",
       "top     CVE-1999-0001    2020   CVE-1999-0001\n",
       "freq                1   31086               1"
      ]
     },
     "execution_count": 223,
     "metadata": {},
     "output_type": "execute_result"
    }
   ],
   "source": [
    "allitems.describe(include='all')"
   ]
  },
  {
   "cell_type": "code",
   "execution_count": 9,
   "id": "fd4f4253",
   "metadata": {},
   "outputs": [],
   "source": [
    "## Dataset2:  Read the cyber-operations-incidents.csv containing the CVS of cyber incidents from 2005 to 2020, as reported by the\n",
    "##Council of Foreign Relations "
   ]
  },
  {
   "cell_type": "code",
   "execution_count": 10,
   "id": "6c9e7e4a",
   "metadata": {},
   "outputs": [
    {
     "data": {
      "text/html": [
       "<div>\n",
       "<style scoped>\n",
       "    .dataframe tbody tr th:only-of-type {\n",
       "        vertical-align: middle;\n",
       "    }\n",
       "\n",
       "    .dataframe tbody tr th {\n",
       "        vertical-align: top;\n",
       "    }\n",
       "\n",
       "    .dataframe thead th {\n",
       "        text-align: right;\n",
       "    }\n",
       "</style>\n",
       "<table border=\"1\" class=\"dataframe\">\n",
       "  <thead>\n",
       "    <tr style=\"text-align: right;\">\n",
       "      <th></th>\n",
       "      <th>Title</th>\n",
       "      <th>Date</th>\n",
       "      <th>Affiliations</th>\n",
       "      <th>Description</th>\n",
       "      <th>Response</th>\n",
       "      <th>Victims</th>\n",
       "      <th>Sponsor</th>\n",
       "      <th>Type</th>\n",
       "      <th>Category</th>\n",
       "      <th>Sources_1</th>\n",
       "      <th>Sources_2</th>\n",
       "      <th>Sources_3</th>\n",
       "    </tr>\n",
       "  </thead>\n",
       "  <tbody>\n",
       "    <tr>\n",
       "      <th>471</th>\n",
       "      <td>Compromise of the Pentagon’s NIPRNet</td>\n",
       "      <td>8/17/2006</td>\n",
       "      <td>NaN</td>\n",
       "      <td>Threat actors accessed unclassified informatio...</td>\n",
       "      <td>NaN</td>\n",
       "      <td>U.S. Department of Defense</td>\n",
       "      <td>China</td>\n",
       "      <td>Espionage</td>\n",
       "      <td>Military</td>\n",
       "      <td>http://www.csmonitor.com/2007/0914/p01s01-woap...</td>\n",
       "      <td>http://gcn.com/articles/2006/08/17/red-storm-r...</td>\n",
       "      <td>NaN</td>\n",
       "    </tr>\n",
       "    <tr>\n",
       "      <th>472</th>\n",
       "      <td>Compromise at U.S. Naval War College</td>\n",
       "      <td>12/4/2006</td>\n",
       "      <td>NaN</td>\n",
       "      <td>This undefined cyber incident at the U.S. Nava...</td>\n",
       "      <td>NaN</td>\n",
       "      <td>Naval War College</td>\n",
       "      <td>China</td>\n",
       "      <td>Espionage</td>\n",
       "      <td>Military</td>\n",
       "      <td>http://fcw.com/articles/2006/12/04/china-is-su...</td>\n",
       "      <td>http://www.nbcnews.com/id/16057306/ns/technolo...</td>\n",
       "      <td>NaN</td>\n",
       "    </tr>\n",
       "    <tr>\n",
       "      <th>473</th>\n",
       "      <td>Titan Rain</td>\n",
       "      <td>8/25/2005</td>\n",
       "      <td>Believed to be partially the work of PLA Unit ...</td>\n",
       "      <td>Titan Rain was a string of cyber operations th...</td>\n",
       "      <td>NaN</td>\n",
       "      <td>U.S. Department of State, U.S. Department of D...</td>\n",
       "      <td>China</td>\n",
       "      <td>Espionage</td>\n",
       "      <td>Military, Government</td>\n",
       "      <td>http://www.washingtonpost.com/wp-dyn/content/a...</td>\n",
       "      <td>http://content.time.com/time/magazine/article/...</td>\n",
       "      <td>http://www.theguardian.com/technology/2007/sep...</td>\n",
       "    </tr>\n",
       "    <tr>\n",
       "      <th>474</th>\n",
       "      <td>Trisis</td>\n",
       "      <td>NaN</td>\n",
       "      <td>Also known as Triton and Xenotime</td>\n",
       "      <td>This threat actor targets the Triconex safety ...</td>\n",
       "      <td>NaN</td>\n",
       "      <td>Saudi Arabia</td>\n",
       "      <td>NaN</td>\n",
       "      <td>Sabotage</td>\n",
       "      <td>Private sector</td>\n",
       "      <td>https://www.fireeye.com/blog/threat-research/2...</td>\n",
       "      <td>https://www.fireeye.com/blog/threat-research/2...</td>\n",
       "      <td>https://dragos.com/blog/trisis/TRISIS-01.pdf</td>\n",
       "    </tr>\n",
       "    <tr>\n",
       "      <th>475</th>\n",
       "      <td>APT-C-23</td>\n",
       "      <td>NaN</td>\n",
       "      <td>Also known as AridViper and Desert Falcon.</td>\n",
       "      <td>Previously targeted Israeli soldiers by preten...</td>\n",
       "      <td>NaN</td>\n",
       "      <td>Israel Defense Forces</td>\n",
       "      <td>Palestine, State of</td>\n",
       "      <td>NaN</td>\n",
       "      <td>NaN</td>\n",
       "      <td>https://www.bleepingcomputer.com/news/security...</td>\n",
       "      <td>https://research.checkpoint.com/2020/hamas-and...</td>\n",
       "      <td>https://malpedia.caad.fkie.fraunhofer.de/actor...</td>\n",
       "    </tr>\n",
       "    <tr>\n",
       "      <th>476</th>\n",
       "      <td>Compromises of government embassies, telecommu...</td>\n",
       "      <td>NaN</td>\n",
       "      <td>Believed to be the work of MuddyWater.</td>\n",
       "      <td>A group has attacked 131 victims in thirty org...</td>\n",
       "      <td>NaN</td>\n",
       "      <td>Russian Federation, Pakistan, Saudi Arabia, Tu...</td>\n",
       "      <td>Iran (Islamic Republic of)</td>\n",
       "      <td>Espionage</td>\n",
       "      <td>Government, Private sector</td>\n",
       "      <td>https://www.symantec.com/blogs/threat-intellig...</td>\n",
       "      <td>https://www.cyberscoop.com/middle-east-group-g...</td>\n",
       "      <td>NaN</td>\n",
       "    </tr>\n",
       "    <tr>\n",
       "      <th>477</th>\n",
       "      <td>Kimusky</td>\n",
       "      <td>NaN</td>\n",
       "      <td>Also known as Thallium and Smoke Screen</td>\n",
       "      <td>This threat actor targeted foreign ministries ...</td>\n",
       "      <td>NaN</td>\n",
       "      <td>France, Slovakia, Stanford University, U.S. Th...</td>\n",
       "      <td>NaN</td>\n",
       "      <td>NaN</td>\n",
       "      <td>Government, Private sector</td>\n",
       "      <td>https://blog.prevailion.com/2019/09/autumn-ape...</td>\n",
       "      <td>NaN</td>\n",
       "      <td>NaN</td>\n",
       "    </tr>\n",
       "    <tr>\n",
       "      <th>478</th>\n",
       "      <td>Leafminer</td>\n",
       "      <td>NaN</td>\n",
       "      <td>NaN</td>\n",
       "      <td>This threat actor targets government organizat...</td>\n",
       "      <td>NaN</td>\n",
       "      <td>Egypt, Israel, Saudi Arabia, United Arab Emira...</td>\n",
       "      <td>Iran (Islamic Republic of)</td>\n",
       "      <td>NaN</td>\n",
       "      <td>Private sector, Government</td>\n",
       "      <td>https://www.symantec.com/blogs/threat-intellig...</td>\n",
       "      <td>NaN</td>\n",
       "      <td>NaN</td>\n",
       "    </tr>\n",
       "    <tr>\n",
       "      <th>479</th>\n",
       "      <td>Allanite</td>\n",
       "      <td>NaN</td>\n",
       "      <td>Believed to be responsible for the targeting o...</td>\n",
       "      <td>This threat actor targets business and industr...</td>\n",
       "      <td>NaN</td>\n",
       "      <td>United States, United Kingdom</td>\n",
       "      <td>Russian Federation</td>\n",
       "      <td>Espionage</td>\n",
       "      <td>Private sector</td>\n",
       "      <td>https://dragos.com/blog/20180510Allanite.html</td>\n",
       "      <td>https://www.us-cert.gov/ncas/alerts/TA17-293A</td>\n",
       "      <td>NaN</td>\n",
       "    </tr>\n",
       "    <tr>\n",
       "      <th>480</th>\n",
       "      <td>Targeting of sporting and anti-doping organiza...</td>\n",
       "      <td>NaN</td>\n",
       "      <td>APT 28</td>\n",
       "      <td>Just prior to news reports suggesting that the...</td>\n",
       "      <td>NaN</td>\n",
       "      <td>Sixteen national and international sporting an...</td>\n",
       "      <td>Russian Federation</td>\n",
       "      <td>Espionage</td>\n",
       "      <td>Civil society, Government</td>\n",
       "      <td>https://blogs.microsoft.com/on-the-issues/2019...</td>\n",
       "      <td>https://www.zdnet.com/article/microsoft-russia...</td>\n",
       "      <td>https://www.wired.com/story/fancy-bear-antidop...</td>\n",
       "    </tr>\n",
       "  </tbody>\n",
       "</table>\n",
       "</div>"
      ],
      "text/plain": [
       "                                                 Title       Date  \\\n",
       "471               Compromise of the Pentagon’s NIPRNet  8/17/2006   \n",
       "472               Compromise at U.S. Naval War College  12/4/2006   \n",
       "473                                         Titan Rain  8/25/2005   \n",
       "474                                             Trisis        NaN   \n",
       "475                                           APT-C-23        NaN   \n",
       "476  Compromises of government embassies, telecommu...        NaN   \n",
       "477                                            Kimusky        NaN   \n",
       "478                                          Leafminer        NaN   \n",
       "479                                           Allanite        NaN   \n",
       "480  Targeting of sporting and anti-doping organiza...        NaN   \n",
       "\n",
       "                                          Affiliations  \\\n",
       "471                                                NaN   \n",
       "472                                                NaN   \n",
       "473  Believed to be partially the work of PLA Unit ...   \n",
       "474                  Also known as Triton and Xenotime   \n",
       "475         Also known as AridViper and Desert Falcon.   \n",
       "476             Believed to be the work of MuddyWater.   \n",
       "477            Also known as Thallium and Smoke Screen   \n",
       "478                                                NaN   \n",
       "479  Believed to be responsible for the targeting o...   \n",
       "480                                             APT 28   \n",
       "\n",
       "                                           Description Response  \\\n",
       "471  Threat actors accessed unclassified informatio...      NaN   \n",
       "472  This undefined cyber incident at the U.S. Nava...      NaN   \n",
       "473  Titan Rain was a string of cyber operations th...      NaN   \n",
       "474  This threat actor targets the Triconex safety ...      NaN   \n",
       "475  Previously targeted Israeli soldiers by preten...      NaN   \n",
       "476  A group has attacked 131 victims in thirty org...      NaN   \n",
       "477  This threat actor targeted foreign ministries ...      NaN   \n",
       "478  This threat actor targets government organizat...      NaN   \n",
       "479  This threat actor targets business and industr...      NaN   \n",
       "480  Just prior to news reports suggesting that the...      NaN   \n",
       "\n",
       "                                               Victims  \\\n",
       "471                         U.S. Department of Defense   \n",
       "472                                  Naval War College   \n",
       "473  U.S. Department of State, U.S. Department of D...   \n",
       "474                                       Saudi Arabia   \n",
       "475                              Israel Defense Forces   \n",
       "476  Russian Federation, Pakistan, Saudi Arabia, Tu...   \n",
       "477  France, Slovakia, Stanford University, U.S. Th...   \n",
       "478  Egypt, Israel, Saudi Arabia, United Arab Emira...   \n",
       "479                      United States, United Kingdom   \n",
       "480  Sixteen national and international sporting an...   \n",
       "\n",
       "                        Sponsor       Type                    Category  \\\n",
       "471                       China  Espionage                    Military   \n",
       "472                       China  Espionage                    Military   \n",
       "473                       China  Espionage        Military, Government   \n",
       "474                         NaN   Sabotage              Private sector   \n",
       "475         Palestine, State of        NaN                         NaN   \n",
       "476  Iran (Islamic Republic of)  Espionage  Government, Private sector   \n",
       "477                         NaN        NaN  Government, Private sector   \n",
       "478  Iran (Islamic Republic of)        NaN  Private sector, Government   \n",
       "479          Russian Federation  Espionage              Private sector   \n",
       "480          Russian Federation  Espionage   Civil society, Government   \n",
       "\n",
       "                                             Sources_1  \\\n",
       "471  http://www.csmonitor.com/2007/0914/p01s01-woap...   \n",
       "472  http://fcw.com/articles/2006/12/04/china-is-su...   \n",
       "473  http://www.washingtonpost.com/wp-dyn/content/a...   \n",
       "474  https://www.fireeye.com/blog/threat-research/2...   \n",
       "475  https://www.bleepingcomputer.com/news/security...   \n",
       "476  https://www.symantec.com/blogs/threat-intellig...   \n",
       "477  https://blog.prevailion.com/2019/09/autumn-ape...   \n",
       "478  https://www.symantec.com/blogs/threat-intellig...   \n",
       "479      https://dragos.com/blog/20180510Allanite.html   \n",
       "480  https://blogs.microsoft.com/on-the-issues/2019...   \n",
       "\n",
       "                                             Sources_2  \\\n",
       "471  http://gcn.com/articles/2006/08/17/red-storm-r...   \n",
       "472  http://www.nbcnews.com/id/16057306/ns/technolo...   \n",
       "473  http://content.time.com/time/magazine/article/...   \n",
       "474  https://www.fireeye.com/blog/threat-research/2...   \n",
       "475  https://research.checkpoint.com/2020/hamas-and...   \n",
       "476  https://www.cyberscoop.com/middle-east-group-g...   \n",
       "477                                                NaN   \n",
       "478                                                NaN   \n",
       "479      https://www.us-cert.gov/ncas/alerts/TA17-293A   \n",
       "480  https://www.zdnet.com/article/microsoft-russia...   \n",
       "\n",
       "                                             Sources_3  \n",
       "471                                                NaN  \n",
       "472                                                NaN  \n",
       "473  http://www.theguardian.com/technology/2007/sep...  \n",
       "474       https://dragos.com/blog/trisis/TRISIS-01.pdf  \n",
       "475  https://malpedia.caad.fkie.fraunhofer.de/actor...  \n",
       "476                                                NaN  \n",
       "477                                                NaN  \n",
       "478                                                NaN  \n",
       "479                                                NaN  \n",
       "480  https://www.wired.com/story/fancy-bear-antidop...  "
      ]
     },
     "execution_count": 10,
     "metadata": {},
     "output_type": "execute_result"
    }
   ],
   "source": [
    "cyberops_df = pd.read_csv(\"cyber-operations-incidents.csv\")\n",
    "cyberops_df.head()\n",
    "\n",
    "cyberops_df.tail(10)\n"
   ]
  },
  {
   "cell_type": "code",
   "execution_count": 11,
   "id": "859bf6c3",
   "metadata": {},
   "outputs": [
    {
     "name": "stdout",
     "output_type": "stream",
     "text": [
      "<class 'pandas.core.frame.DataFrame'>\n",
      "RangeIndex: 481 entries, 0 to 480\n",
      "Data columns (total 12 columns):\n",
      " #   Column        Non-Null Count  Dtype \n",
      "---  ------        --------------  ----- \n",
      " 0   Title         481 non-null    object\n",
      " 1   Date          474 non-null    object\n",
      " 2   Affiliations  347 non-null    object\n",
      " 3   Description   481 non-null    object\n",
      " 4   Response      86 non-null     object\n",
      " 5   Victims       453 non-null    object\n",
      " 6   Sponsor       439 non-null    object\n",
      " 7   Type          447 non-null    object\n",
      " 8   Category      458 non-null    object\n",
      " 9   Sources_1     475 non-null    object\n",
      " 10  Sources_2     355 non-null    object\n",
      " 11  Sources_3     168 non-null    object\n",
      "dtypes: object(12)\n",
      "memory usage: 45.2+ KB\n"
     ]
    }
   ],
   "source": [
    "cyberops_df.info()"
   ]
  },
  {
   "cell_type": "code",
   "execution_count": 12,
   "id": "6c3431a4",
   "metadata": {},
   "outputs": [
    {
     "name": "stdout",
     "output_type": "stream",
     "text": [
      "<class 'pandas.core.frame.DataFrame'>\n",
      "RangeIndex: 481 entries, 0 to 480\n",
      "Data columns (total 13 columns):\n",
      " #   Column        Non-Null Count  Dtype \n",
      "---  ------        --------------  ----- \n",
      " 0   Title         481 non-null    object\n",
      " 1   Date          474 non-null    object\n",
      " 2   Affiliations  347 non-null    object\n",
      " 3   Description   481 non-null    object\n",
      " 4   Response      86 non-null     object\n",
      " 5   Victims       453 non-null    object\n",
      " 6   Sponsor       439 non-null    object\n",
      " 7   Type          447 non-null    object\n",
      " 8   Category      458 non-null    object\n",
      " 9   Sources_1     475 non-null    object\n",
      " 10  Sources_2     355 non-null    object\n",
      " 11  Sources_3     168 non-null    object\n",
      " 12  Year          474 non-null    object\n",
      "dtypes: object(13)\n",
      "memory usage: 49.0+ KB\n"
     ]
    }
   ],
   "source": [
    "\n",
    "\n",
    "\n",
    "cyberops_df['Year']=cyberops_df['Date'].str.split('/').str[2]\n",
    "cyberops_df['Year']\n",
    "cyberops_df.info()\n",
    "\n",
    "\n"
   ]
  },
  {
   "cell_type": "code",
   "execution_count": 13,
   "id": "03582b8a",
   "metadata": {
    "scrolled": true
   },
   "outputs": [
    {
     "data": {
      "text/html": [
       "<div>\n",
       "<style scoped>\n",
       "    .dataframe tbody tr th:only-of-type {\n",
       "        vertical-align: middle;\n",
       "    }\n",
       "\n",
       "    .dataframe tbody tr th {\n",
       "        vertical-align: top;\n",
       "    }\n",
       "\n",
       "    .dataframe thead th {\n",
       "        text-align: right;\n",
       "    }\n",
       "</style>\n",
       "<table border=\"1\" class=\"dataframe\">\n",
       "  <thead>\n",
       "    <tr style=\"text-align: right;\">\n",
       "      <th></th>\n",
       "      <th>Year</th>\n",
       "      <th>Category</th>\n",
       "      <th>Type</th>\n",
       "      <th>Description</th>\n",
       "      <th>Title</th>\n",
       "      <th>Affiliations</th>\n",
       "      <th>Victims</th>\n",
       "      <th>Sponsor</th>\n",
       "    </tr>\n",
       "  </thead>\n",
       "  <tbody>\n",
       "    <tr>\n",
       "      <th>471</th>\n",
       "      <td>2006</td>\n",
       "      <td>Military</td>\n",
       "      <td>Espionage</td>\n",
       "      <td>Threat actors accessed unclassified informatio...</td>\n",
       "      <td>Compromise of the Pentagon’s NIPRNet</td>\n",
       "      <td>NaN</td>\n",
       "      <td>U.S. Department of Defense</td>\n",
       "      <td>China</td>\n",
       "    </tr>\n",
       "    <tr>\n",
       "      <th>472</th>\n",
       "      <td>2006</td>\n",
       "      <td>Military</td>\n",
       "      <td>Espionage</td>\n",
       "      <td>This undefined cyber incident at the U.S. Nava...</td>\n",
       "      <td>Compromise at U.S. Naval War College</td>\n",
       "      <td>NaN</td>\n",
       "      <td>Naval War College</td>\n",
       "      <td>China</td>\n",
       "    </tr>\n",
       "    <tr>\n",
       "      <th>473</th>\n",
       "      <td>2005</td>\n",
       "      <td>Military, Government</td>\n",
       "      <td>Espionage</td>\n",
       "      <td>Titan Rain was a string of cyber operations th...</td>\n",
       "      <td>Titan Rain</td>\n",
       "      <td>Believed to be partially the work of PLA Unit ...</td>\n",
       "      <td>U.S. Department of State, U.S. Department of D...</td>\n",
       "      <td>China</td>\n",
       "    </tr>\n",
       "    <tr>\n",
       "      <th>474</th>\n",
       "      <td>NaN</td>\n",
       "      <td>Private sector</td>\n",
       "      <td>Sabotage</td>\n",
       "      <td>This threat actor targets the Triconex safety ...</td>\n",
       "      <td>Trisis</td>\n",
       "      <td>Also known as Triton and Xenotime</td>\n",
       "      <td>Saudi Arabia</td>\n",
       "      <td>NaN</td>\n",
       "    </tr>\n",
       "    <tr>\n",
       "      <th>475</th>\n",
       "      <td>NaN</td>\n",
       "      <td>NaN</td>\n",
       "      <td>NaN</td>\n",
       "      <td>Previously targeted Israeli soldiers by preten...</td>\n",
       "      <td>APT-C-23</td>\n",
       "      <td>Also known as AridViper and Desert Falcon.</td>\n",
       "      <td>Israel Defense Forces</td>\n",
       "      <td>Palestine, State of</td>\n",
       "    </tr>\n",
       "    <tr>\n",
       "      <th>476</th>\n",
       "      <td>NaN</td>\n",
       "      <td>Government, Private sector</td>\n",
       "      <td>Espionage</td>\n",
       "      <td>A group has attacked 131 victims in thirty org...</td>\n",
       "      <td>Compromises of government embassies, telecommu...</td>\n",
       "      <td>Believed to be the work of MuddyWater.</td>\n",
       "      <td>Russian Federation, Pakistan, Saudi Arabia, Tu...</td>\n",
       "      <td>Iran (Islamic Republic of)</td>\n",
       "    </tr>\n",
       "    <tr>\n",
       "      <th>477</th>\n",
       "      <td>NaN</td>\n",
       "      <td>Government, Private sector</td>\n",
       "      <td>NaN</td>\n",
       "      <td>This threat actor targeted foreign ministries ...</td>\n",
       "      <td>Kimusky</td>\n",
       "      <td>Also known as Thallium and Smoke Screen</td>\n",
       "      <td>France, Slovakia, Stanford University, U.S. Th...</td>\n",
       "      <td>NaN</td>\n",
       "    </tr>\n",
       "    <tr>\n",
       "      <th>478</th>\n",
       "      <td>NaN</td>\n",
       "      <td>Private sector, Government</td>\n",
       "      <td>NaN</td>\n",
       "      <td>This threat actor targets government organizat...</td>\n",
       "      <td>Leafminer</td>\n",
       "      <td>NaN</td>\n",
       "      <td>Egypt, Israel, Saudi Arabia, United Arab Emira...</td>\n",
       "      <td>Iran (Islamic Republic of)</td>\n",
       "    </tr>\n",
       "    <tr>\n",
       "      <th>479</th>\n",
       "      <td>NaN</td>\n",
       "      <td>Private sector</td>\n",
       "      <td>Espionage</td>\n",
       "      <td>This threat actor targets business and industr...</td>\n",
       "      <td>Allanite</td>\n",
       "      <td>Believed to be responsible for the targeting o...</td>\n",
       "      <td>United States, United Kingdom</td>\n",
       "      <td>Russian Federation</td>\n",
       "    </tr>\n",
       "    <tr>\n",
       "      <th>480</th>\n",
       "      <td>NaN</td>\n",
       "      <td>Civil society, Government</td>\n",
       "      <td>Espionage</td>\n",
       "      <td>Just prior to news reports suggesting that the...</td>\n",
       "      <td>Targeting of sporting and anti-doping organiza...</td>\n",
       "      <td>APT 28</td>\n",
       "      <td>Sixteen national and international sporting an...</td>\n",
       "      <td>Russian Federation</td>\n",
       "    </tr>\n",
       "  </tbody>\n",
       "</table>\n",
       "</div>"
      ],
      "text/plain": [
       "     Year                    Category       Type  \\\n",
       "471  2006                    Military  Espionage   \n",
       "472  2006                    Military  Espionage   \n",
       "473  2005        Military, Government  Espionage   \n",
       "474   NaN              Private sector   Sabotage   \n",
       "475   NaN                         NaN        NaN   \n",
       "476   NaN  Government, Private sector  Espionage   \n",
       "477   NaN  Government, Private sector        NaN   \n",
       "478   NaN  Private sector, Government        NaN   \n",
       "479   NaN              Private sector  Espionage   \n",
       "480   NaN   Civil society, Government  Espionage   \n",
       "\n",
       "                                           Description  \\\n",
       "471  Threat actors accessed unclassified informatio...   \n",
       "472  This undefined cyber incident at the U.S. Nava...   \n",
       "473  Titan Rain was a string of cyber operations th...   \n",
       "474  This threat actor targets the Triconex safety ...   \n",
       "475  Previously targeted Israeli soldiers by preten...   \n",
       "476  A group has attacked 131 victims in thirty org...   \n",
       "477  This threat actor targeted foreign ministries ...   \n",
       "478  This threat actor targets government organizat...   \n",
       "479  This threat actor targets business and industr...   \n",
       "480  Just prior to news reports suggesting that the...   \n",
       "\n",
       "                                                 Title  \\\n",
       "471               Compromise of the Pentagon’s NIPRNet   \n",
       "472               Compromise at U.S. Naval War College   \n",
       "473                                         Titan Rain   \n",
       "474                                             Trisis   \n",
       "475                                           APT-C-23   \n",
       "476  Compromises of government embassies, telecommu...   \n",
       "477                                            Kimusky   \n",
       "478                                          Leafminer   \n",
       "479                                           Allanite   \n",
       "480  Targeting of sporting and anti-doping organiza...   \n",
       "\n",
       "                                          Affiliations  \\\n",
       "471                                                NaN   \n",
       "472                                                NaN   \n",
       "473  Believed to be partially the work of PLA Unit ...   \n",
       "474                  Also known as Triton and Xenotime   \n",
       "475         Also known as AridViper and Desert Falcon.   \n",
       "476             Believed to be the work of MuddyWater.   \n",
       "477            Also known as Thallium and Smoke Screen   \n",
       "478                                                NaN   \n",
       "479  Believed to be responsible for the targeting o...   \n",
       "480                                             APT 28   \n",
       "\n",
       "                                               Victims  \\\n",
       "471                         U.S. Department of Defense   \n",
       "472                                  Naval War College   \n",
       "473  U.S. Department of State, U.S. Department of D...   \n",
       "474                                       Saudi Arabia   \n",
       "475                              Israel Defense Forces   \n",
       "476  Russian Federation, Pakistan, Saudi Arabia, Tu...   \n",
       "477  France, Slovakia, Stanford University, U.S. Th...   \n",
       "478  Egypt, Israel, Saudi Arabia, United Arab Emira...   \n",
       "479                      United States, United Kingdom   \n",
       "480  Sixteen national and international sporting an...   \n",
       "\n",
       "                        Sponsor  \n",
       "471                       China  \n",
       "472                       China  \n",
       "473                       China  \n",
       "474                         NaN  \n",
       "475         Palestine, State of  \n",
       "476  Iran (Islamic Republic of)  \n",
       "477                         NaN  \n",
       "478  Iran (Islamic Republic of)  \n",
       "479          Russian Federation  \n",
       "480          Russian Federation  "
      ]
     },
     "execution_count": 13,
     "metadata": {},
     "output_type": "execute_result"
    }
   ],
   "source": [
    "df2 = cyberops_df[[\"Year\", \"Category\", \"Type\",\"Description\",\"Title\", \"Affiliations\", \"Victims\", \"Sponsor\" ]]\n",
    "\n",
    "df2.tail(10)"
   ]
  },
  {
   "cell_type": "code",
   "execution_count": 14,
   "id": "b7f036eb",
   "metadata": {},
   "outputs": [
    {
     "name": "stdout",
     "output_type": "stream",
     "text": [
      "<class 'pandas.core.frame.DataFrame'>\n",
      "Int64Index: 474 entries, 0 to 473\n",
      "Data columns (total 8 columns):\n",
      " #   Column        Non-Null Count  Dtype \n",
      "---  ------        --------------  ----- \n",
      " 0   Year          474 non-null    object\n",
      " 1   Category      452 non-null    object\n",
      " 2   Type          443 non-null    object\n",
      " 3   Description   474 non-null    object\n",
      " 4   Title         474 non-null    object\n",
      " 5   Affiliations  341 non-null    object\n",
      " 6   Victims       446 non-null    object\n",
      " 7   Sponsor       434 non-null    object\n",
      "dtypes: object(8)\n",
      "memory usage: 33.3+ KB\n"
     ]
    }
   ],
   "source": [
    "cyberopsfinal_df = df2.copy() # Create duplicate of data\n",
    "cyberopsfinal_df.dropna(subset = ['Year'], inplace = True) \n",
    "cyberopsfinal_df.tail()\n",
    "#I removed the Nan or blank Year rows by using the dropna command \n",
    "#as above.  The number of records reduced from 481 to 474.\n",
    "#Below shows 473 as first index row is 0 but total records are 474.\n",
    "cyberopsfinal_df.info()\n"
   ]
  },
  {
   "cell_type": "code",
   "execution_count": 15,
   "id": "82c685b9",
   "metadata": {},
   "outputs": [
    {
     "data": {
      "text/html": [
       "<div>\n",
       "<style scoped>\n",
       "    .dataframe tbody tr th:only-of-type {\n",
       "        vertical-align: middle;\n",
       "    }\n",
       "\n",
       "    .dataframe tbody tr th {\n",
       "        vertical-align: top;\n",
       "    }\n",
       "\n",
       "    .dataframe thead th {\n",
       "        text-align: right;\n",
       "    }\n",
       "</style>\n",
       "<table border=\"1\" class=\"dataframe\">\n",
       "  <thead>\n",
       "    <tr style=\"text-align: right;\">\n",
       "      <th></th>\n",
       "      <th>Year</th>\n",
       "      <th>Category</th>\n",
       "      <th>Description</th>\n",
       "      <th>Title</th>\n",
       "      <th>Affiliations</th>\n",
       "      <th>Victims</th>\n",
       "      <th>Sponsor</th>\n",
       "    </tr>\n",
       "    <tr>\n",
       "      <th>Type</th>\n",
       "      <th></th>\n",
       "      <th></th>\n",
       "      <th></th>\n",
       "      <th></th>\n",
       "      <th></th>\n",
       "      <th></th>\n",
       "      <th></th>\n",
       "    </tr>\n",
       "  </thead>\n",
       "  <tbody>\n",
       "    <tr>\n",
       "      <th>Data destruction</th>\n",
       "      <td>14</td>\n",
       "      <td>14</td>\n",
       "      <td>14</td>\n",
       "      <td>14</td>\n",
       "      <td>11</td>\n",
       "      <td>13</td>\n",
       "      <td>12</td>\n",
       "    </tr>\n",
       "    <tr>\n",
       "      <th>Defacement</th>\n",
       "      <td>5</td>\n",
       "      <td>5</td>\n",
       "      <td>5</td>\n",
       "      <td>5</td>\n",
       "      <td>3</td>\n",
       "      <td>5</td>\n",
       "      <td>5</td>\n",
       "    </tr>\n",
       "    <tr>\n",
       "      <th>Denial of service</th>\n",
       "      <td>18</td>\n",
       "      <td>18</td>\n",
       "      <td>18</td>\n",
       "      <td>18</td>\n",
       "      <td>6</td>\n",
       "      <td>18</td>\n",
       "      <td>18</td>\n",
       "    </tr>\n",
       "    <tr>\n",
       "      <th>Doxing</th>\n",
       "      <td>6</td>\n",
       "      <td>6</td>\n",
       "      <td>6</td>\n",
       "      <td>6</td>\n",
       "      <td>6</td>\n",
       "      <td>6</td>\n",
       "      <td>6</td>\n",
       "    </tr>\n",
       "    <tr>\n",
       "      <th>Espionage</th>\n",
       "      <td>371</td>\n",
       "      <td>361</td>\n",
       "      <td>371</td>\n",
       "      <td>371</td>\n",
       "      <td>270</td>\n",
       "      <td>353</td>\n",
       "      <td>338</td>\n",
       "    </tr>\n",
       "    <tr>\n",
       "      <th>Financial Theft</th>\n",
       "      <td>7</td>\n",
       "      <td>7</td>\n",
       "      <td>7</td>\n",
       "      <td>7</td>\n",
       "      <td>7</td>\n",
       "      <td>7</td>\n",
       "      <td>7</td>\n",
       "    </tr>\n",
       "    <tr>\n",
       "      <th>Sabotage</th>\n",
       "      <td>22</td>\n",
       "      <td>22</td>\n",
       "      <td>22</td>\n",
       "      <td>22</td>\n",
       "      <td>17</td>\n",
       "      <td>22</td>\n",
       "      <td>21</td>\n",
       "    </tr>\n",
       "  </tbody>\n",
       "</table>\n",
       "</div>"
      ],
      "text/plain": [
       "                   Year  Category  Description  Title  Affiliations  Victims  \\\n",
       "Type                                                                           \n",
       "Data destruction     14        14           14     14            11       13   \n",
       "Defacement            5         5            5      5             3        5   \n",
       "Denial of service    18        18           18     18             6       18   \n",
       "Doxing                6         6            6      6             6        6   \n",
       "Espionage           371       361          371    371           270      353   \n",
       "Financial Theft       7         7            7      7             7        7   \n",
       "Sabotage             22        22           22     22            17       22   \n",
       "\n",
       "                   Sponsor  \n",
       "Type                        \n",
       "Data destruction        12  \n",
       "Defacement               5  \n",
       "Denial of service       18  \n",
       "Doxing                   6  \n",
       "Espionage              338  \n",
       "Financial Theft          7  \n",
       "Sabotage                21  "
      ]
     },
     "execution_count": 15,
     "metadata": {},
     "output_type": "execute_result"
    }
   ],
   "source": [
    "Type_category=cyberopsfinal_df.groupby(['Type']).count()\n",
    "Type_category\n",
    "#As seen below, espionage has the highest frequency than any other type in aggregate."
   ]
  },
  {
   "cell_type": "code",
   "execution_count": 225,
   "id": "71974a97",
   "metadata": {},
   "outputs": [
    {
     "data": {
      "text/html": [
       "<div>\n",
       "<style scoped>\n",
       "    .dataframe tbody tr th:only-of-type {\n",
       "        vertical-align: middle;\n",
       "    }\n",
       "\n",
       "    .dataframe tbody tr th {\n",
       "        vertical-align: top;\n",
       "    }\n",
       "\n",
       "    .dataframe thead th {\n",
       "        text-align: right;\n",
       "    }\n",
       "</style>\n",
       "<table border=\"1\" class=\"dataframe\">\n",
       "  <thead>\n",
       "    <tr style=\"text-align: right;\">\n",
       "      <th></th>\n",
       "      <th>Year</th>\n",
       "      <th>Category</th>\n",
       "      <th>Type</th>\n",
       "      <th>Description</th>\n",
       "      <th>Title</th>\n",
       "      <th>Affiliations</th>\n",
       "      <th>Victims</th>\n",
       "      <th>Sponsor</th>\n",
       "    </tr>\n",
       "  </thead>\n",
       "  <tbody>\n",
       "    <tr>\n",
       "      <th>count</th>\n",
       "      <td>474</td>\n",
       "      <td>452</td>\n",
       "      <td>443</td>\n",
       "      <td>474</td>\n",
       "      <td>474</td>\n",
       "      <td>341</td>\n",
       "      <td>446</td>\n",
       "      <td>434</td>\n",
       "    </tr>\n",
       "    <tr>\n",
       "      <th>unique</th>\n",
       "      <td>16</td>\n",
       "      <td>24</td>\n",
       "      <td>7</td>\n",
       "      <td>472</td>\n",
       "      <td>470</td>\n",
       "      <td>257</td>\n",
       "      <td>381</td>\n",
       "      <td>39</td>\n",
       "    </tr>\n",
       "    <tr>\n",
       "      <th>top</th>\n",
       "      <td>2020</td>\n",
       "      <td>Private sector</td>\n",
       "      <td>Espionage</td>\n",
       "      <td>Gamaredon, a Russian-speaking APT, targeted Uk...</td>\n",
       "      <td>Targeting of Ukrainian government entities</td>\n",
       "      <td>Believed to be the work of APT 28</td>\n",
       "      <td>United States</td>\n",
       "      <td>China</td>\n",
       "    </tr>\n",
       "    <tr>\n",
       "      <th>freq</th>\n",
       "      <td>88</td>\n",
       "      <td>126</td>\n",
       "      <td>371</td>\n",
       "      <td>3</td>\n",
       "      <td>4</td>\n",
       "      <td>15</td>\n",
       "      <td>21</td>\n",
       "      <td>167</td>\n",
       "    </tr>\n",
       "  </tbody>\n",
       "</table>\n",
       "</div>"
      ],
      "text/plain": [
       "        Year        Category       Type  \\\n",
       "count    474             452        443   \n",
       "unique    16              24          7   \n",
       "top     2020  Private sector  Espionage   \n",
       "freq      88             126        371   \n",
       "\n",
       "                                              Description  \\\n",
       "count                                                 474   \n",
       "unique                                                472   \n",
       "top     Gamaredon, a Russian-speaking APT, targeted Uk...   \n",
       "freq                                                    3   \n",
       "\n",
       "                                             Title  \\\n",
       "count                                          474   \n",
       "unique                                         470   \n",
       "top     Targeting of Ukrainian government entities   \n",
       "freq                                             4   \n",
       "\n",
       "                             Affiliations        Victims Sponsor  \n",
       "count                                 341            446     434  \n",
       "unique                                257            381      39  \n",
       "top     Believed to be the work of APT 28  United States   China  \n",
       "freq                                   15             21     167  "
      ]
     },
     "execution_count": 225,
     "metadata": {},
     "output_type": "execute_result"
    }
   ],
   "source": [
    "cyberopsfinal_df.describe(include='all')"
   ]
  },
  {
   "cell_type": "code",
   "execution_count": 16,
   "id": "c2873b7a",
   "metadata": {},
   "outputs": [
    {
     "name": "stdout",
     "output_type": "stream",
     "text": [
      "<class 'pandas.core.frame.DataFrame'>\n",
      "RangeIndex: 140 entries, 0 to 139\n",
      "Data columns (total 31 columns):\n",
      " #   Column                          Non-Null Count  Dtype  \n",
      "---  ------                          --------------  -----  \n",
      " 0   Index                           140 non-null    int64  \n",
      " 1   Quarter                         140 non-null    object \n",
      " 2   Financial Year                  140 non-null    object \n",
      " 3   Quarter Start                   140 non-null    object \n",
      " 4   Quarter End                     140 non-null    object \n",
      " 5   Cyber Security Incident?        140 non-null    object \n",
      " 6   Incident Type                   140 non-null    object \n",
      " 7   Central Government              87 non-null     float64\n",
      " 8   Charitable and voluntary        106 non-null    float64\n",
      " 9   Education and childcare         123 non-null    float64\n",
      " 10  Finance, insurance and credit   115 non-null    float64\n",
      " 11  General business                116 non-null    float64\n",
      " 12  Health                          115 non-null    float64\n",
      " 13  Justice                         72 non-null     float64\n",
      " 14  Land or property services       98 non-null     float64\n",
      " 15  Legal                           100 non-null    float64\n",
      " 16  Local government                100 non-null    float64\n",
      " 17  Marketing                       34 non-null     float64\n",
      " 18  Media                           43 non-null     float64\n",
      " 19  Membership association          71 non-null     float64\n",
      " 20  Online Technology and Telecoms  87 non-null     float64\n",
      " 21  Political                       23 non-null     float64\n",
      " 22  Regulators                      27 non-null     float64\n",
      " 23  Religious                       46 non-null     float64\n",
      " 24  Retail and manufacture          116 non-null    float64\n",
      " 25  Social care                     81 non-null     float64\n",
      " 26  Transport and leisure           98 non-null     float64\n",
      " 27  Unassigned                      1 non-null      float64\n",
      " 28  Utilities                       61 non-null     float64\n",
      " 29  Sum of complaint categories     140 non-null    int64  \n",
      " 30  Total Complaints                140 non-null    int64  \n",
      "dtypes: float64(22), int64(3), object(6)\n",
      "memory usage: 34.0+ KB\n"
     ]
    }
   ],
   "source": [
    "### Dataset3:  Read the Security Incidents file.  This dataset looks at the data security incidents which have been reported to the Information\n",
    "## Commissioners Office (ICO).\n",
    "\n",
    "\n",
    "Secincident_df = pd.read_csv(\"Security Incident totals.csv\")\n",
    "Secincident_df.info()\n",
    "\n"
   ]
  },
  {
   "cell_type": "code",
   "execution_count": 17,
   "id": "1ae27246",
   "metadata": {},
   "outputs": [
    {
     "name": "stdout",
     "output_type": "stream",
     "text": [
      "<class 'pandas.core.frame.DataFrame'>\n",
      "RangeIndex: 140 entries, 0 to 139\n",
      "Data columns (total 32 columns):\n",
      " #   Column                          Non-Null Count  Dtype  \n",
      "---  ------                          --------------  -----  \n",
      " 0   Index                           140 non-null    int64  \n",
      " 1   Quarter                         140 non-null    object \n",
      " 2   Financial Year                  140 non-null    object \n",
      " 3   Quarter Start                   140 non-null    object \n",
      " 4   Quarter End                     140 non-null    object \n",
      " 5   Cyber Security Incident?        140 non-null    object \n",
      " 6   Incident Type                   140 non-null    object \n",
      " 7   Central Government              87 non-null     float64\n",
      " 8   Charitable and voluntary        106 non-null    float64\n",
      " 9   Education and childcare         123 non-null    float64\n",
      " 10  Finance, insurance and credit   115 non-null    float64\n",
      " 11  General business                116 non-null    float64\n",
      " 12  Health                          115 non-null    float64\n",
      " 13  Justice                         72 non-null     float64\n",
      " 14  Land or property services       98 non-null     float64\n",
      " 15  Legal                           100 non-null    float64\n",
      " 16  Local government                100 non-null    float64\n",
      " 17  Marketing                       34 non-null     float64\n",
      " 18  Media                           43 non-null     float64\n",
      " 19  Membership association          71 non-null     float64\n",
      " 20  Online Technology and Telecoms  87 non-null     float64\n",
      " 21  Political                       23 non-null     float64\n",
      " 22  Regulators                      27 non-null     float64\n",
      " 23  Religious                       46 non-null     float64\n",
      " 24  Retail and manufacture          116 non-null    float64\n",
      " 25  Social care                     81 non-null     float64\n",
      " 26  Transport and leisure           98 non-null     float64\n",
      " 27  Unassigned                      1 non-null      float64\n",
      " 28  Utilities                       61 non-null     float64\n",
      " 29  Sum of complaint categories     140 non-null    int64  \n",
      " 30  Total Complaints                140 non-null    int64  \n",
      " 31  Year                            140 non-null    object \n",
      "dtypes: float64(22), int64(3), object(7)\n",
      "memory usage: 35.1+ KB\n"
     ]
    }
   ],
   "source": [
    "#Next, I also extract the year from the Quarter End field as Year is my Dependent variable indicating\n",
    "#also the occurance of a vulnerability.\n",
    "Secincident_df['Year']=Secincident_df['Quarter End'].str.split('/').str[2]\n",
    "Secincident_df.head()\n",
    "Secincident_df.info()"
   ]
  },
  {
   "cell_type": "code",
   "execution_count": 18,
   "id": "9a269b7c",
   "metadata": {},
   "outputs": [
    {
     "data": {
      "text/plain": [
       "'2019'"
      ]
     },
     "execution_count": 18,
     "metadata": {},
     "output_type": "execute_result"
    }
   ],
   "source": [
    "Secincident_df['Year'].min()"
   ]
  },
  {
   "cell_type": "code",
   "execution_count": 19,
   "id": "6a220b45",
   "metadata": {},
   "outputs": [
    {
     "data": {
      "text/plain": [
       "'2020'"
      ]
     },
     "execution_count": 19,
     "metadata": {},
     "output_type": "execute_result"
    }
   ],
   "source": [
    "Secincident_df['Year'].max()"
   ]
  },
  {
   "cell_type": "code",
   "execution_count": 20,
   "id": "18d481f5",
   "metadata": {},
   "outputs": [
    {
     "data": {
      "text/html": [
       "<div>\n",
       "<style scoped>\n",
       "    .dataframe tbody tr th:only-of-type {\n",
       "        vertical-align: middle;\n",
       "    }\n",
       "\n",
       "    .dataframe tbody tr th {\n",
       "        vertical-align: top;\n",
       "    }\n",
       "\n",
       "    .dataframe thead th {\n",
       "        text-align: right;\n",
       "    }\n",
       "</style>\n",
       "<table border=\"1\" class=\"dataframe\">\n",
       "  <thead>\n",
       "    <tr style=\"text-align: right;\">\n",
       "      <th></th>\n",
       "      <th>Index</th>\n",
       "      <th>Quarter</th>\n",
       "      <th>Financial Year</th>\n",
       "      <th>Quarter Start</th>\n",
       "      <th>Quarter End</th>\n",
       "      <th>Incident Type</th>\n",
       "      <th>Central Government</th>\n",
       "      <th>Charitable and voluntary</th>\n",
       "      <th>Education and childcare</th>\n",
       "      <th>Finance, insurance and credit</th>\n",
       "      <th>...</th>\n",
       "      <th>Regulators</th>\n",
       "      <th>Religious</th>\n",
       "      <th>Retail and manufacture</th>\n",
       "      <th>Social care</th>\n",
       "      <th>Transport and leisure</th>\n",
       "      <th>Unassigned</th>\n",
       "      <th>Utilities</th>\n",
       "      <th>Sum of complaint categories</th>\n",
       "      <th>Total Complaints</th>\n",
       "      <th>Year</th>\n",
       "    </tr>\n",
       "    <tr>\n",
       "      <th>Cyber Security Incident?</th>\n",
       "      <th></th>\n",
       "      <th></th>\n",
       "      <th></th>\n",
       "      <th></th>\n",
       "      <th></th>\n",
       "      <th></th>\n",
       "      <th></th>\n",
       "      <th></th>\n",
       "      <th></th>\n",
       "      <th></th>\n",
       "      <th></th>\n",
       "      <th></th>\n",
       "      <th></th>\n",
       "      <th></th>\n",
       "      <th></th>\n",
       "      <th></th>\n",
       "      <th></th>\n",
       "      <th></th>\n",
       "      <th></th>\n",
       "      <th></th>\n",
       "      <th></th>\n",
       "    </tr>\n",
       "  </thead>\n",
       "  <tbody>\n",
       "    <tr>\n",
       "      <th>N</th>\n",
       "      <td>90</td>\n",
       "      <td>90</td>\n",
       "      <td>90</td>\n",
       "      <td>90</td>\n",
       "      <td>90</td>\n",
       "      <td>90</td>\n",
       "      <td>66</td>\n",
       "      <td>67</td>\n",
       "      <td>77</td>\n",
       "      <td>73</td>\n",
       "      <td>...</td>\n",
       "      <td>22</td>\n",
       "      <td>30</td>\n",
       "      <td>70</td>\n",
       "      <td>60</td>\n",
       "      <td>63</td>\n",
       "      <td>0</td>\n",
       "      <td>43</td>\n",
       "      <td>90</td>\n",
       "      <td>90</td>\n",
       "      <td>90</td>\n",
       "    </tr>\n",
       "    <tr>\n",
       "      <th>Y</th>\n",
       "      <td>50</td>\n",
       "      <td>50</td>\n",
       "      <td>50</td>\n",
       "      <td>50</td>\n",
       "      <td>50</td>\n",
       "      <td>50</td>\n",
       "      <td>21</td>\n",
       "      <td>39</td>\n",
       "      <td>46</td>\n",
       "      <td>42</td>\n",
       "      <td>...</td>\n",
       "      <td>5</td>\n",
       "      <td>16</td>\n",
       "      <td>46</td>\n",
       "      <td>21</td>\n",
       "      <td>35</td>\n",
       "      <td>1</td>\n",
       "      <td>18</td>\n",
       "      <td>50</td>\n",
       "      <td>50</td>\n",
       "      <td>50</td>\n",
       "    </tr>\n",
       "  </tbody>\n",
       "</table>\n",
       "<p>2 rows × 31 columns</p>\n",
       "</div>"
      ],
      "text/plain": [
       "                          Index  Quarter  Financial Year  Quarter Start  \\\n",
       "Cyber Security Incident?                                                  \n",
       "N                            90       90              90             90   \n",
       "Y                            50       50              50             50   \n",
       "\n",
       "                          Quarter End  Incident Type  Central Government  \\\n",
       "Cyber Security Incident?                                                   \n",
       "N                                  90             90                  66   \n",
       "Y                                  50             50                  21   \n",
       "\n",
       "                          Charitable and voluntary  Education and childcare  \\\n",
       "Cyber Security Incident?                                                      \n",
       "N                                               67                       77   \n",
       "Y                                               39                       46   \n",
       "\n",
       "                          Finance, insurance and credit  ...  Regulators  \\\n",
       "Cyber Security Incident?                                 ...               \n",
       "N                                                    73  ...          22   \n",
       "Y                                                    42  ...           5   \n",
       "\n",
       "                          Religious  Retail and manufacture  Social care  \\\n",
       "Cyber Security Incident?                                                   \n",
       "N                                30                      70           60   \n",
       "Y                                16                      46           21   \n",
       "\n",
       "                          Transport and leisure  Unassigned  Utilities  \\\n",
       "Cyber Security Incident?                                                 \n",
       "N                                            63           0         43   \n",
       "Y                                            35           1         18   \n",
       "\n",
       "                          Sum of complaint categories  Total Complaints  Year  \n",
       "Cyber Security Incident?                                                       \n",
       "N                                                  90                90    90  \n",
       "Y                                                  50                50    50  \n",
       "\n",
       "[2 rows x 31 columns]"
      ]
     },
     "execution_count": 20,
     "metadata": {},
     "output_type": "execute_result"
    }
   ],
   "source": [
    "Secincident_df.groupby(['Cyber Security Incident?']).count()\n",
    "\n"
   ]
  },
  {
   "cell_type": "code",
   "execution_count": 21,
   "id": "ca51121f",
   "metadata": {},
   "outputs": [
    {
     "name": "stdout",
     "output_type": "stream",
     "text": [
      "<class 'pandas.core.frame.DataFrame'>\n",
      "Int64Index: 50 entries, 0 to 139\n",
      "Data columns (total 3 columns):\n",
      " #   Column                    Non-Null Count  Dtype \n",
      "---  ------                    --------------  ----- \n",
      " 0   Year                      50 non-null     object\n",
      " 1   Cyber Security Incident?  50 non-null     object\n",
      " 2   Incident Type             50 non-null     object\n",
      "dtypes: object(3)\n",
      "memory usage: 1.6+ KB\n"
     ]
    },
    {
     "data": {
      "text/plain": [
       "'2020'"
      ]
     },
     "execution_count": 21,
     "metadata": {},
     "output_type": "execute_result"
    }
   ],
   "source": [
    "##Analyzing the file as shown above, found out that not every record is a breach.  \n",
    "# We will filter only those records where cyber incidents happened\n",
    "\n",
    "df2 = Secincident_df[(Secincident_df['Cyber Security Incident?'] == 'Y')]\n",
    "Secincidentfinal_df = df2[[\"Year\",\"Cyber Security Incident?\", \"Incident Type\"]]\n",
    "\n",
    "Secincidentfinal_df.head()\n",
    "\n",
    "Secincidentfinal_df.info()\n",
    "\n",
    "Secincidentfinal_df[\"Year\"].min()\n",
    "\n",
    "Secincidentfinal_df[\"Year\"].max()\n"
   ]
  },
  {
   "cell_type": "code",
   "execution_count": 22,
   "id": "f0156015",
   "metadata": {},
   "outputs": [
    {
     "data": {
      "text/html": [
       "<div>\n",
       "<style scoped>\n",
       "    .dataframe tbody tr th:only-of-type {\n",
       "        vertical-align: middle;\n",
       "    }\n",
       "\n",
       "    .dataframe tbody tr th {\n",
       "        vertical-align: top;\n",
       "    }\n",
       "\n",
       "    .dataframe thead th {\n",
       "        text-align: right;\n",
       "    }\n",
       "</style>\n",
       "<table border=\"1\" class=\"dataframe\">\n",
       "  <thead>\n",
       "    <tr style=\"text-align: right;\">\n",
       "      <th></th>\n",
       "      <th>Year</th>\n",
       "      <th>Cyber Security Incident?</th>\n",
       "      <th>Incident Type</th>\n",
       "    </tr>\n",
       "  </thead>\n",
       "  <tbody>\n",
       "    <tr>\n",
       "      <th>0</th>\n",
       "      <td>2019</td>\n",
       "      <td>Y</td>\n",
       "      <td>Unauthorised access</td>\n",
       "    </tr>\n",
       "    <tr>\n",
       "      <th>1</th>\n",
       "      <td>2019</td>\n",
       "      <td>Y</td>\n",
       "      <td>Brute Force</td>\n",
       "    </tr>\n",
       "    <tr>\n",
       "      <th>2</th>\n",
       "      <td>2019</td>\n",
       "      <td>Y</td>\n",
       "      <td>Hardware/software misconfiguration</td>\n",
       "    </tr>\n",
       "    <tr>\n",
       "      <th>3</th>\n",
       "      <td>2019</td>\n",
       "      <td>Y</td>\n",
       "      <td>Malware</td>\n",
       "    </tr>\n",
       "    <tr>\n",
       "      <th>4</th>\n",
       "      <td>2019</td>\n",
       "      <td>Y</td>\n",
       "      <td>Other cyber incident</td>\n",
       "    </tr>\n",
       "  </tbody>\n",
       "</table>\n",
       "</div>"
      ],
      "text/plain": [
       "   Year Cyber Security Incident?                       Incident Type\n",
       "0  2019                        Y                 Unauthorised access\n",
       "1  2019                        Y                         Brute Force\n",
       "2  2019                        Y  Hardware/software misconfiguration\n",
       "3  2019                        Y                             Malware\n",
       "4  2019                        Y                Other cyber incident"
      ]
     },
     "execution_count": 22,
     "metadata": {},
     "output_type": "execute_result"
    }
   ],
   "source": [
    "Secincidentfinal_df.head()\n"
   ]
  },
  {
   "cell_type": "code",
   "execution_count": 226,
   "id": "0ca1f0b0",
   "metadata": {},
   "outputs": [
    {
     "data": {
      "text/html": [
       "<div>\n",
       "<style scoped>\n",
       "    .dataframe tbody tr th:only-of-type {\n",
       "        vertical-align: middle;\n",
       "    }\n",
       "\n",
       "    .dataframe tbody tr th {\n",
       "        vertical-align: top;\n",
       "    }\n",
       "\n",
       "    .dataframe thead th {\n",
       "        text-align: right;\n",
       "    }\n",
       "</style>\n",
       "<table border=\"1\" class=\"dataframe\">\n",
       "  <thead>\n",
       "    <tr style=\"text-align: right;\">\n",
       "      <th></th>\n",
       "      <th>Year</th>\n",
       "      <th>Cyber Security Incident?</th>\n",
       "      <th>Incident Type</th>\n",
       "    </tr>\n",
       "  </thead>\n",
       "  <tbody>\n",
       "    <tr>\n",
       "      <th>count</th>\n",
       "      <td>50</td>\n",
       "      <td>50</td>\n",
       "      <td>50</td>\n",
       "    </tr>\n",
       "    <tr>\n",
       "      <th>unique</th>\n",
       "      <td>2</td>\n",
       "      <td>1</td>\n",
       "      <td>8</td>\n",
       "    </tr>\n",
       "    <tr>\n",
       "      <th>top</th>\n",
       "      <td>2020</td>\n",
       "      <td>Y</td>\n",
       "      <td>Unauthorised access</td>\n",
       "    </tr>\n",
       "    <tr>\n",
       "      <th>freq</th>\n",
       "      <td>29</td>\n",
       "      <td>50</td>\n",
       "      <td>7</td>\n",
       "    </tr>\n",
       "  </tbody>\n",
       "</table>\n",
       "</div>"
      ],
      "text/plain": [
       "        Year Cyber Security Incident?        Incident Type\n",
       "count     50                       50                   50\n",
       "unique     2                        1                    8\n",
       "top     2020                        Y  Unauthorised access\n",
       "freq      29                       50                    7"
      ]
     },
     "execution_count": 226,
     "metadata": {},
     "output_type": "execute_result"
    }
   ],
   "source": [
    "Secincidentfinal_df.describe(include='all')"
   ]
  },
  {
   "cell_type": "code",
   "execution_count": 228,
   "id": "2da70e95",
   "metadata": {},
   "outputs": [
    {
     "data": {
      "text/html": [
       "<div>\n",
       "<style scoped>\n",
       "    .dataframe tbody tr th:only-of-type {\n",
       "        vertical-align: middle;\n",
       "    }\n",
       "\n",
       "    .dataframe tbody tr th {\n",
       "        vertical-align: top;\n",
       "    }\n",
       "\n",
       "    .dataframe thead th {\n",
       "        text-align: right;\n",
       "    }\n",
       "</style>\n",
       "<table border=\"1\" class=\"dataframe\">\n",
       "  <thead>\n",
       "    <tr style=\"text-align: right;\">\n",
       "      <th></th>\n",
       "      <th>Date Made Public</th>\n",
       "      <th>Company</th>\n",
       "      <th>City</th>\n",
       "      <th>State</th>\n",
       "      <th>Type of breach</th>\n",
       "      <th>Type of organization</th>\n",
       "      <th>Total Records</th>\n",
       "      <th>Description of incident</th>\n",
       "      <th>Information Source</th>\n",
       "      <th>Source URL</th>\n",
       "      <th>Year of Breach</th>\n",
       "      <th>Latitude</th>\n",
       "      <th>Longitude</th>\n",
       "      <th>Unnamed: 13</th>\n",
       "      <th>Unnamed: 14</th>\n",
       "      <th>Unnamed: 15</th>\n",
       "    </tr>\n",
       "  </thead>\n",
       "  <tbody>\n",
       "    <tr>\n",
       "      <th>0</th>\n",
       "      <td>3/3/2006</td>\n",
       "      <td>PayDay OK LLC</td>\n",
       "      <td>NaN</td>\n",
       "      <td>New Jersey</td>\n",
       "      <td>HACK</td>\n",
       "      <td>BSF</td>\n",
       "      <td>88</td>\n",
       "      <td>The company's website was breached sometime ar...</td>\n",
       "      <td>California Attorney General</td>\n",
       "      <td>https://oag.ca.gov/</td>\n",
       "      <td>2006</td>\n",
       "      <td>40.058324</td>\n",
       "      <td>-74.405661</td>\n",
       "      <td>NaN</td>\n",
       "      <td>NaN</td>\n",
       "      <td>NaN</td>\n",
       "    </tr>\n",
       "    <tr>\n",
       "      <th>1</th>\n",
       "      <td>1/4/2012</td>\n",
       "      <td>SF Fire Credit Union, Pacifica-Coastside Credi...</td>\n",
       "      <td>San Francisco</td>\n",
       "      <td>California</td>\n",
       "      <td>PORT</td>\n",
       "      <td>BSF</td>\n",
       "      <td>0</td>\n",
       "      <td>The December 29, 2011 theft of a laptop from a...</td>\n",
       "      <td>California Attorney General</td>\n",
       "      <td>NaN</td>\n",
       "      <td>2012</td>\n",
       "      <td>37.774930</td>\n",
       "      <td>-122.419416</td>\n",
       "      <td>NaN</td>\n",
       "      <td>NaN</td>\n",
       "      <td>NaN</td>\n",
       "    </tr>\n",
       "    <tr>\n",
       "      <th>2</th>\n",
       "      <td>2/18/2012</td>\n",
       "      <td>BDO USA, Rubio's Restaurants, Inc.</td>\n",
       "      <td>San Diego</td>\n",
       "      <td>California</td>\n",
       "      <td>PORT</td>\n",
       "      <td>BSR</td>\n",
       "      <td>0</td>\n",
       "      <td>BDO was contracted by Rubio's to perform finan...</td>\n",
       "      <td>California Attorney General</td>\n",
       "      <td>NaN</td>\n",
       "      <td>2012</td>\n",
       "      <td>32.715329</td>\n",
       "      <td>-117.157255</td>\n",
       "      <td>NaN</td>\n",
       "      <td>NaN</td>\n",
       "      <td>NaN</td>\n",
       "    </tr>\n",
       "    <tr>\n",
       "      <th>3</th>\n",
       "      <td>2/22/2012</td>\n",
       "      <td>DHI Mortgage Company, Ltd.</td>\n",
       "      <td>Austin</td>\n",
       "      <td>Texas</td>\n",
       "      <td>HACK</td>\n",
       "      <td>BSF</td>\n",
       "      <td>0</td>\n",
       "      <td>On February 10, 2012, DHI Mortgage became awar...</td>\n",
       "      <td>California Attorney General</td>\n",
       "      <td>NaN</td>\n",
       "      <td>2012</td>\n",
       "      <td>30.267153</td>\n",
       "      <td>-97.743061</td>\n",
       "      <td>NaN</td>\n",
       "      <td>NaN</td>\n",
       "      <td>NaN</td>\n",
       "    </tr>\n",
       "    <tr>\n",
       "      <th>4</th>\n",
       "      <td>3/12/2012</td>\n",
       "      <td>Impairment Resources, LLC</td>\n",
       "      <td>San Diego</td>\n",
       "      <td>California</td>\n",
       "      <td>PORT</td>\n",
       "      <td>MED</td>\n",
       "      <td>14,000</td>\n",
       "      <td>An office burglary on New Year's Eve 2011 resu...</td>\n",
       "      <td>California Attorney General</td>\n",
       "      <td>NaN</td>\n",
       "      <td>2012</td>\n",
       "      <td>32.715329</td>\n",
       "      <td>-117.157255</td>\n",
       "      <td>NaN</td>\n",
       "      <td>NaN</td>\n",
       "      <td>NaN</td>\n",
       "    </tr>\n",
       "  </tbody>\n",
       "</table>\n",
       "</div>"
      ],
      "text/plain": [
       "  Date Made Public                                            Company  \\\n",
       "0         3/3/2006                                      PayDay OK LLC   \n",
       "1         1/4/2012  SF Fire Credit Union, Pacifica-Coastside Credi...   \n",
       "2        2/18/2012                 BDO USA, Rubio's Restaurants, Inc.   \n",
       "3        2/22/2012                         DHI Mortgage Company, Ltd.   \n",
       "4        3/12/2012                          Impairment Resources, LLC   \n",
       "\n",
       "            City       State Type of breach Type of organization  \\\n",
       "0            NaN  New Jersey           HACK                  BSF   \n",
       "1  San Francisco  California           PORT                  BSF   \n",
       "2      San Diego  California           PORT                  BSR   \n",
       "3         Austin       Texas           HACK                  BSF   \n",
       "4      San Diego  California           PORT                  MED   \n",
       "\n",
       "  Total Records                            Description of incident  \\\n",
       "0            88  The company's website was breached sometime ar...   \n",
       "1             0  The December 29, 2011 theft of a laptop from a...   \n",
       "2             0  BDO was contracted by Rubio's to perform finan...   \n",
       "3             0  On February 10, 2012, DHI Mortgage became awar...   \n",
       "4        14,000  An office burglary on New Year's Eve 2011 resu...   \n",
       "\n",
       "            Information Source           Source URL  Year of Breach  \\\n",
       "0  California Attorney General  https://oag.ca.gov/            2006   \n",
       "1  California Attorney General                  NaN            2012   \n",
       "2  California Attorney General                  NaN            2012   \n",
       "3  California Attorney General                  NaN            2012   \n",
       "4  California Attorney General                  NaN            2012   \n",
       "\n",
       "    Latitude   Longitude  Unnamed: 13  Unnamed: 14 Unnamed: 15  \n",
       "0  40.058324  -74.405661          NaN          NaN         NaN  \n",
       "1  37.774930 -122.419416          NaN          NaN         NaN  \n",
       "2  32.715329 -117.157255          NaN          NaN         NaN  \n",
       "3  30.267153  -97.743061          NaN          NaN         NaN  \n",
       "4  32.715329 -117.157255          NaN          NaN         NaN  "
      ]
     },
     "execution_count": 228,
     "metadata": {},
     "output_type": "execute_result"
    }
   ],
   "source": [
    "\n",
    "\n",
    "#Dataset#4:  Read the PRC Data Breach Chronology.csv\" file.  It contains the Security incidents in the US \n",
    "#collected by a non-profit. 9015 records.  Oldest date of incident January 2005 and the latest October 2019. \n",
    "#No data in 2020.  These are all incidents in the US.\n",
    "\n",
    "PRCBreach_df = pd.read_csv(\"PRC Data Breach Chronology.csv\")\n",
    "PRCBreach_df.head()\n"
   ]
  },
  {
   "cell_type": "code",
   "execution_count": 229,
   "id": "eb74a1f2",
   "metadata": {},
   "outputs": [
    {
     "name": "stdout",
     "output_type": "stream",
     "text": [
      "<class 'pandas.core.frame.DataFrame'>\n",
      "RangeIndex: 9015 entries, 0 to 9014\n",
      "Data columns (total 16 columns):\n",
      " #   Column                   Non-Null Count  Dtype  \n",
      "---  ------                   --------------  -----  \n",
      " 0   Date Made Public         9015 non-null   object \n",
      " 1   Company                  9015 non-null   object \n",
      " 2   City                     5690 non-null   object \n",
      " 3   State                    8436 non-null   object \n",
      " 4   Type of breach           8926 non-null   object \n",
      " 5   Type of organization     9015 non-null   object \n",
      " 6   Total Records            9009 non-null   object \n",
      " 7   Description of incident  9012 non-null   object \n",
      " 8   Information Source       8962 non-null   object \n",
      " 9   Source URL               3607 non-null   object \n",
      " 10  Year of Breach           9015 non-null   int64  \n",
      " 11  Latitude                 6541 non-null   float64\n",
      " 12  Longitude                6541 non-null   float64\n",
      " 13  Unnamed: 13              0 non-null      float64\n",
      " 14  Unnamed: 14              0 non-null      float64\n",
      " 15  Unnamed: 15              1 non-null      object \n",
      "dtypes: float64(4), int64(1), object(11)\n",
      "memory usage: 1.1+ MB\n"
     ]
    }
   ],
   "source": [
    "PRCBreach_df.info()"
   ]
  },
  {
   "cell_type": "code",
   "execution_count": 230,
   "id": "eb8202a0",
   "metadata": {},
   "outputs": [
    {
     "data": {
      "text/plain": [
       "2019"
      ]
     },
     "execution_count": 230,
     "metadata": {},
     "output_type": "execute_result"
    }
   ],
   "source": [
    "PRCBreach_df['Year of Breach'].max()"
   ]
  },
  {
   "cell_type": "code",
   "execution_count": 231,
   "id": "465cd15f",
   "metadata": {},
   "outputs": [
    {
     "data": {
      "text/plain": [
       "2005"
      ]
     },
     "execution_count": 231,
     "metadata": {},
     "output_type": "execute_result"
    }
   ],
   "source": [
    "PRCBreach_df['Year of Breach'].min()\n"
   ]
  },
  {
   "cell_type": "code",
   "execution_count": 232,
   "id": "04f0674d",
   "metadata": {},
   "outputs": [
    {
     "name": "stdout",
     "output_type": "stream",
     "text": [
      "<class 'pandas.core.frame.DataFrame'>\n",
      "Int64Index: 2533 entries, 0 to 8962\n",
      "Data columns (total 2 columns):\n",
      " #   Column          Non-Null Count  Dtype \n",
      "---  ------          --------------  ----- \n",
      " 0   Year of Breach  2533 non-null   int64 \n",
      " 1   Type of breach  2533 non-null   object\n",
      "dtypes: int64(1), object(1)\n",
      "memory usage: 59.4+ KB\n"
     ]
    },
    {
     "data": {
      "text/plain": [
       "2019"
      ]
     },
     "execution_count": 232,
     "metadata": {},
     "output_type": "execute_result"
    }
   ],
   "source": [
    "##Analyzing the file as shown above, found out that not every record is a cyber breach.  We will filter only those records \n",
    "#where cyberincidents happened.  THere are total 2533 records as opposed to 9015 in the original dataset.\n",
    "df_PRC= PRCBreach_df[(PRCBreach_df['Type of breach'] == 'HACK')]\n",
    "PRCBreach_final_df = df_PRC[[\"Year of Breach\",\"Type of breach\"]]\n",
    "\n",
    "PRCBreach_final_df.head()\n",
    "PRCBreach_final_df.info()\n",
    "\n",
    "PRCBreach_final_df[\"Year of Breach\"].min()\n",
    "PRCBreach_final_df[\"Year of Breach\"].max()"
   ]
  },
  {
   "cell_type": "code",
   "execution_count": 233,
   "id": "94bf126d",
   "metadata": {},
   "outputs": [
    {
     "data": {
      "text/html": [
       "<div>\n",
       "<style scoped>\n",
       "    .dataframe tbody tr th:only-of-type {\n",
       "        vertical-align: middle;\n",
       "    }\n",
       "\n",
       "    .dataframe tbody tr th {\n",
       "        vertical-align: top;\n",
       "    }\n",
       "\n",
       "    .dataframe thead th {\n",
       "        text-align: right;\n",
       "    }\n",
       "</style>\n",
       "<table border=\"1\" class=\"dataframe\">\n",
       "  <thead>\n",
       "    <tr style=\"text-align: right;\">\n",
       "      <th></th>\n",
       "      <th>Year of Breach</th>\n",
       "      <th>Type of breach</th>\n",
       "    </tr>\n",
       "  </thead>\n",
       "  <tbody>\n",
       "    <tr>\n",
       "      <th>0</th>\n",
       "      <td>2006</td>\n",
       "      <td>HACK</td>\n",
       "    </tr>\n",
       "    <tr>\n",
       "      <th>3</th>\n",
       "      <td>2012</td>\n",
       "      <td>HACK</td>\n",
       "    </tr>\n",
       "    <tr>\n",
       "      <th>8</th>\n",
       "      <td>2012</td>\n",
       "      <td>HACK</td>\n",
       "    </tr>\n",
       "    <tr>\n",
       "      <th>15</th>\n",
       "      <td>2012</td>\n",
       "      <td>HACK</td>\n",
       "    </tr>\n",
       "    <tr>\n",
       "      <th>16</th>\n",
       "      <td>2012</td>\n",
       "      <td>HACK</td>\n",
       "    </tr>\n",
       "  </tbody>\n",
       "</table>\n",
       "</div>"
      ],
      "text/plain": [
       "    Year of Breach Type of breach\n",
       "0             2006           HACK\n",
       "3             2012           HACK\n",
       "8             2012           HACK\n",
       "15            2012           HACK\n",
       "16            2012           HACK"
      ]
     },
     "execution_count": 233,
     "metadata": {},
     "output_type": "execute_result"
    }
   ],
   "source": [
    "PRCBreach_final_df.head()"
   ]
  },
  {
   "cell_type": "markdown",
   "id": "45f42ce6",
   "metadata": {},
   "source": [
    "HISTOGRAMS/PLOTS Of VARIABLES"
   ]
  },
  {
   "cell_type": "code",
   "execution_count": 235,
   "id": "81e8650e",
   "metadata": {},
   "outputs": [
    {
     "data": {
      "text/html": [
       "<div>\n",
       "<style scoped>\n",
       "    .dataframe tbody tr th:only-of-type {\n",
       "        vertical-align: middle;\n",
       "    }\n",
       "\n",
       "    .dataframe tbody tr th {\n",
       "        vertical-align: top;\n",
       "    }\n",
       "\n",
       "    .dataframe thead th {\n",
       "        text-align: right;\n",
       "    }\n",
       "</style>\n",
       "<table border=\"1\" class=\"dataframe\">\n",
       "  <thead>\n",
       "    <tr style=\"text-align: right;\">\n",
       "      <th></th>\n",
       "      <th>Year of Breach</th>\n",
       "      <th>Type of breach</th>\n",
       "    </tr>\n",
       "  </thead>\n",
       "  <tbody>\n",
       "    <tr>\n",
       "      <th>count</th>\n",
       "      <td>2533.000000</td>\n",
       "      <td>2533</td>\n",
       "    </tr>\n",
       "    <tr>\n",
       "      <th>unique</th>\n",
       "      <td>NaN</td>\n",
       "      <td>1</td>\n",
       "    </tr>\n",
       "    <tr>\n",
       "      <th>top</th>\n",
       "      <td>NaN</td>\n",
       "      <td>HACK</td>\n",
       "    </tr>\n",
       "    <tr>\n",
       "      <th>freq</th>\n",
       "      <td>NaN</td>\n",
       "      <td>2533</td>\n",
       "    </tr>\n",
       "    <tr>\n",
       "      <th>mean</th>\n",
       "      <td>2013.680221</td>\n",
       "      <td>NaN</td>\n",
       "    </tr>\n",
       "    <tr>\n",
       "      <th>std</th>\n",
       "      <td>3.330823</td>\n",
       "      <td>NaN</td>\n",
       "    </tr>\n",
       "    <tr>\n",
       "      <th>min</th>\n",
       "      <td>2005.000000</td>\n",
       "      <td>NaN</td>\n",
       "    </tr>\n",
       "    <tr>\n",
       "      <th>25%</th>\n",
       "      <td>2012.000000</td>\n",
       "      <td>NaN</td>\n",
       "    </tr>\n",
       "    <tr>\n",
       "      <th>50%</th>\n",
       "      <td>2014.000000</td>\n",
       "      <td>NaN</td>\n",
       "    </tr>\n",
       "    <tr>\n",
       "      <th>75%</th>\n",
       "      <td>2016.000000</td>\n",
       "      <td>NaN</td>\n",
       "    </tr>\n",
       "    <tr>\n",
       "      <th>max</th>\n",
       "      <td>2019.000000</td>\n",
       "      <td>NaN</td>\n",
       "    </tr>\n",
       "  </tbody>\n",
       "</table>\n",
       "</div>"
      ],
      "text/plain": [
       "        Year of Breach Type of breach\n",
       "count      2533.000000           2533\n",
       "unique             NaN              1\n",
       "top                NaN           HACK\n",
       "freq               NaN           2533\n",
       "mean       2013.680221            NaN\n",
       "std           3.330823            NaN\n",
       "min        2005.000000            NaN\n",
       "25%        2012.000000            NaN\n",
       "50%        2014.000000            NaN\n",
       "75%        2016.000000            NaN\n",
       "max        2019.000000            NaN"
      ]
     },
     "execution_count": 235,
     "metadata": {},
     "output_type": "execute_result"
    }
   ],
   "source": [
    "PRCBreach_final_df.describe(include='all')"
   ]
  },
  {
   "cell_type": "code",
   "execution_count": 29,
   "id": "6ac068af",
   "metadata": {},
   "outputs": [
    {
     "data": {
      "image/png": "[encoded data removed]",
      "text/plain": [
       "<Figure size 432x288 with 1 Axes>"
      ]
     },
     "metadata": {
      "needs_background": "light"
     },
     "output_type": "display_data"
    }
   ],
   "source": [
    "#Dataset1:  NAME (CVEs vs. Year)\n",
    "\n",
    "\n",
    "\n",
    "\n",
    "dfallitems=Y.astype(float)\n",
    "#where Y was calculated above as Y=allitems['Year']. Year was extracted from the description field of the vulnerability.\n",
    "# The plot shows that the number of vulnerabilities are increasing by year.\n",
    "\n",
    "dfallitems.plot()\n",
    "plt.show()\n",
    "\n"
   ]
  },
  {
   "cell_type": "code",
   "execution_count": 30,
   "id": "2ee55553",
   "metadata": {},
   "outputs": [
    {
     "data": {
      "text/plain": [
       "(array([ 1579.,  1243.,     0.,  1573.,  2436.,     0.,  1600.,  2779.,\n",
       "            0.,  4899.,  7254.,     0.,  6763.,  7321.,     0.,  5160.,\n",
       "         5340.,     0.,  5336.,  6723.,     0.,  7493., 10453.,     0.,\n",
       "         9573., 11322.,     0., 19395., 21859.,     0., 21460., 31086.,\n",
       "            0., 30002.,  4030.]),\n",
       " array([1999.        , 1999.65714286, 2000.31428571, 2000.97142857,\n",
       "        2001.62857143, 2002.28571429, 2002.94285714, 2003.6       ,\n",
       "        2004.25714286, 2004.91428571, 2005.57142857, 2006.22857143,\n",
       "        2006.88571429, 2007.54285714, 2008.2       , 2008.85714286,\n",
       "        2009.51428571, 2010.17142857, 2010.82857143, 2011.48571429,\n",
       "        2012.14285714, 2012.8       , 2013.45714286, 2014.11428571,\n",
       "        2014.77142857, 2015.42857143, 2016.08571429, 2016.74285714,\n",
       "        2017.4       , 2018.05714286, 2018.71428571, 2019.37142857,\n",
       "        2020.02857143, 2020.68571429, 2021.34285714, 2022.        ]),\n",
       " <BarContainer object of 35 artists>)"
      ]
     },
     "execution_count": 30,
     "metadata": {},
     "output_type": "execute_result"
    },
    {
     "data": {
      "image/png": "[encoded data removed]",
      "text/plain": [
       "<Figure size 432x288 with 1 Axes>"
      ]
     },
     "metadata": {
      "needs_background": "light"
     },
     "output_type": "display_data"
    }
   ],
   "source": [
    "#Another way of showing it via Histogram.\n",
    "plt.hist(dfallitems, bins=35, label = 'Data')"
   ]
  },
  {
   "cell_type": "code",
   "execution_count": 31,
   "id": "04701f66",
   "metadata": {},
   "outputs": [],
   "source": [
    "#Dataset2 - cyber-operations-incidents.csv containing the CVS of cyber incidents from 2005 to 2020 (Incidents (Name) vs.\n",
    "#Year (I computed this variable from the date field))\n",
    "\n",
    "#As seen above I had to create the Year field and extracting it from the Date field so I can compare with the no. on \n",
    "#incidents\n"
   ]
  },
  {
   "cell_type": "code",
   "execution_count": 190,
   "id": "a124eaab",
   "metadata": {},
   "outputs": [
    {
     "data": {
      "text/plain": [
       "(array([ 1.,  0.,  3.,  0., 10.,  0.,  0.,  7.,  0.,  4.,  0.,  9.,  0.,\n",
       "         0., 15.,  0., 12.,  0., 19.,  0.,  0., 35.,  0., 34.,  0., 33.,\n",
       "         0.,  0., 46.,  0., 81.,  0., 77.,  0., 88.]),\n",
       " array([2005.        , 2005.42857143, 2005.85714286, 2006.28571429,\n",
       "        2006.71428571, 2007.14285714, 2007.57142857, 2008.        ,\n",
       "        2008.42857143, 2008.85714286, 2009.28571429, 2009.71428571,\n",
       "        2010.14285714, 2010.57142857, 2011.        , 2011.42857143,\n",
       "        2011.85714286, 2012.28571429, 2012.71428571, 2013.14285714,\n",
       "        2013.57142857, 2014.        , 2014.42857143, 2014.85714286,\n",
       "        2015.28571429, 2015.71428571, 2016.14285714, 2016.57142857,\n",
       "        2017.        , 2017.42857143, 2017.85714286, 2018.28571429,\n",
       "        2018.71428571, 2019.14285714, 2019.57142857, 2020.        ]),\n",
       " <BarContainer object of 35 artists>)"
      ]
     },
     "execution_count": 190,
     "metadata": {},
     "output_type": "execute_result"
    },
    {
     "data": {
      "image/png": "[encoded data removed]",
      "text/plain": [
       "<Figure size 432x288 with 1 Axes>"
      ]
     },
     "metadata": {
      "needs_background": "light"
     },
     "output_type": "display_data"
    }
   ],
   "source": [
    "X=cyberopsfinal_df['Year']\n",
    "dfcyberopsfinal_df=X.astype(float)\n",
    "plt.hist(dfcyberopsfinal_df, bins=35, label = 'Data')\n",
    "\n"
   ]
  },
  {
   "cell_type": "code",
   "execution_count": 33,
   "id": "dcb439d3",
   "metadata": {},
   "outputs": [],
   "source": [
    "#  In this dataset, we also had a type of incident field.  We wanted to see which type of incident was more pronounced in our data\n",
    "\n",
    "#Make another histogram by Type\n"
   ]
  },
  {
   "cell_type": "code",
   "execution_count": 34,
   "id": "d7c21d04",
   "metadata": {},
   "outputs": [
    {
     "data": {
      "text/html": [
       "<div>\n",
       "<style scoped>\n",
       "    .dataframe tbody tr th:only-of-type {\n",
       "        vertical-align: middle;\n",
       "    }\n",
       "\n",
       "    .dataframe tbody tr th {\n",
       "        vertical-align: top;\n",
       "    }\n",
       "\n",
       "    .dataframe thead th {\n",
       "        text-align: right;\n",
       "    }\n",
       "</style>\n",
       "<table border=\"1\" class=\"dataframe\">\n",
       "  <thead>\n",
       "    <tr style=\"text-align: right;\">\n",
       "      <th></th>\n",
       "      <th>Year</th>\n",
       "      <th>Category</th>\n",
       "      <th>Description</th>\n",
       "      <th>Title</th>\n",
       "      <th>Affiliations</th>\n",
       "      <th>Victims</th>\n",
       "      <th>Sponsor</th>\n",
       "    </tr>\n",
       "    <tr>\n",
       "      <th>Type</th>\n",
       "      <th></th>\n",
       "      <th></th>\n",
       "      <th></th>\n",
       "      <th></th>\n",
       "      <th></th>\n",
       "      <th></th>\n",
       "      <th></th>\n",
       "    </tr>\n",
       "  </thead>\n",
       "  <tbody>\n",
       "    <tr>\n",
       "      <th>Data destruction</th>\n",
       "      <td>14</td>\n",
       "      <td>14</td>\n",
       "      <td>14</td>\n",
       "      <td>14</td>\n",
       "      <td>11</td>\n",
       "      <td>13</td>\n",
       "      <td>12</td>\n",
       "    </tr>\n",
       "    <tr>\n",
       "      <th>Defacement</th>\n",
       "      <td>5</td>\n",
       "      <td>5</td>\n",
       "      <td>5</td>\n",
       "      <td>5</td>\n",
       "      <td>3</td>\n",
       "      <td>5</td>\n",
       "      <td>5</td>\n",
       "    </tr>\n",
       "    <tr>\n",
       "      <th>Denial of service</th>\n",
       "      <td>18</td>\n",
       "      <td>18</td>\n",
       "      <td>18</td>\n",
       "      <td>18</td>\n",
       "      <td>6</td>\n",
       "      <td>18</td>\n",
       "      <td>18</td>\n",
       "    </tr>\n",
       "    <tr>\n",
       "      <th>Doxing</th>\n",
       "      <td>6</td>\n",
       "      <td>6</td>\n",
       "      <td>6</td>\n",
       "      <td>6</td>\n",
       "      <td>6</td>\n",
       "      <td>6</td>\n",
       "      <td>6</td>\n",
       "    </tr>\n",
       "    <tr>\n",
       "      <th>Espionage</th>\n",
       "      <td>371</td>\n",
       "      <td>361</td>\n",
       "      <td>371</td>\n",
       "      <td>371</td>\n",
       "      <td>270</td>\n",
       "      <td>353</td>\n",
       "      <td>338</td>\n",
       "    </tr>\n",
       "    <tr>\n",
       "      <th>Financial Theft</th>\n",
       "      <td>7</td>\n",
       "      <td>7</td>\n",
       "      <td>7</td>\n",
       "      <td>7</td>\n",
       "      <td>7</td>\n",
       "      <td>7</td>\n",
       "      <td>7</td>\n",
       "    </tr>\n",
       "    <tr>\n",
       "      <th>Sabotage</th>\n",
       "      <td>22</td>\n",
       "      <td>22</td>\n",
       "      <td>22</td>\n",
       "      <td>22</td>\n",
       "      <td>17</td>\n",
       "      <td>22</td>\n",
       "      <td>21</td>\n",
       "    </tr>\n",
       "  </tbody>\n",
       "</table>\n",
       "</div>"
      ],
      "text/plain": [
       "                   Year  Category  Description  Title  Affiliations  Victims  \\\n",
       "Type                                                                           \n",
       "Data destruction     14        14           14     14            11       13   \n",
       "Defacement            5         5            5      5             3        5   \n",
       "Denial of service    18        18           18     18             6       18   \n",
       "Doxing                6         6            6      6             6        6   \n",
       "Espionage           371       361          371    371           270      353   \n",
       "Financial Theft       7         7            7      7             7        7   \n",
       "Sabotage             22        22           22     22            17       22   \n",
       "\n",
       "                   Sponsor  \n",
       "Type                        \n",
       "Data destruction        12  \n",
       "Defacement               5  \n",
       "Denial of service       18  \n",
       "Doxing                   6  \n",
       "Espionage              338  \n",
       "Financial Theft          7  \n",
       "Sabotage                21  "
      ]
     },
     "execution_count": 34,
     "metadata": {},
     "output_type": "execute_result"
    }
   ],
   "source": [
    "Type_category=cyberopsfinal_df.groupby(['Type']).count()\n",
    "Type_category"
   ]
  },
  {
   "cell_type": "code",
   "execution_count": 35,
   "id": "9a80e697",
   "metadata": {},
   "outputs": [
    {
     "data": {
      "text/html": [
       "<div>\n",
       "<style scoped>\n",
       "    .dataframe tbody tr th:only-of-type {\n",
       "        vertical-align: middle;\n",
       "    }\n",
       "\n",
       "    .dataframe tbody tr th {\n",
       "        vertical-align: top;\n",
       "    }\n",
       "\n",
       "    .dataframe thead th {\n",
       "        text-align: right;\n",
       "    }\n",
       "</style>\n",
       "<table border=\"1\" class=\"dataframe\">\n",
       "  <thead>\n",
       "    <tr style=\"text-align: right;\">\n",
       "      <th></th>\n",
       "      <th>Type</th>\n",
       "      <th>Count</th>\n",
       "    </tr>\n",
       "  </thead>\n",
       "  <tbody>\n",
       "    <tr>\n",
       "      <th>0</th>\n",
       "      <td>Data destruction</td>\n",
       "      <td>14</td>\n",
       "    </tr>\n",
       "    <tr>\n",
       "      <th>1</th>\n",
       "      <td>Defacement</td>\n",
       "      <td>5</td>\n",
       "    </tr>\n",
       "    <tr>\n",
       "      <th>2</th>\n",
       "      <td>Denial of service</td>\n",
       "      <td>18</td>\n",
       "    </tr>\n",
       "    <tr>\n",
       "      <th>3</th>\n",
       "      <td>Doxing</td>\n",
       "      <td>6</td>\n",
       "    </tr>\n",
       "    <tr>\n",
       "      <th>4</th>\n",
       "      <td>Espionage</td>\n",
       "      <td>371</td>\n",
       "    </tr>\n",
       "  </tbody>\n",
       "</table>\n",
       "</div>"
      ],
      "text/plain": [
       "                Type  Count\n",
       "0   Data destruction     14\n",
       "1         Defacement      5\n",
       "2  Denial of service     18\n",
       "3             Doxing      6\n",
       "4          Espionage    371"
      ]
     },
     "execution_count": 35,
     "metadata": {},
     "output_type": "execute_result"
    }
   ],
   "source": [
    "df4=cyberopsfinal_df.groupby(['Type']).size().reset_index(name='Count')\n",
    "df4.head()\n",
    "# reset_index() converts the above series back to dataframe. name='Count' changes 0 label for count column to \"Count\""
   ]
  },
  {
   "cell_type": "code",
   "execution_count": 36,
   "id": "e0ecce94",
   "metadata": {},
   "outputs": [
    {
     "data": {
      "text/html": [
       "<div>\n",
       "<style scoped>\n",
       "    .dataframe tbody tr th:only-of-type {\n",
       "        vertical-align: middle;\n",
       "    }\n",
       "\n",
       "    .dataframe tbody tr th {\n",
       "        vertical-align: top;\n",
       "    }\n",
       "\n",
       "    .dataframe thead th {\n",
       "        text-align: right;\n",
       "    }\n",
       "</style>\n",
       "<table border=\"1\" class=\"dataframe\">\n",
       "  <thead>\n",
       "    <tr style=\"text-align: right;\">\n",
       "      <th></th>\n",
       "      <th>Year</th>\n",
       "      <th>Type</th>\n",
       "      <th>Count2</th>\n",
       "    </tr>\n",
       "  </thead>\n",
       "  <tbody>\n",
       "    <tr>\n",
       "      <th>0</th>\n",
       "      <td>2005</td>\n",
       "      <td>Espionage</td>\n",
       "      <td>1</td>\n",
       "    </tr>\n",
       "    <tr>\n",
       "      <th>1</th>\n",
       "      <td>2006</td>\n",
       "      <td>Espionage</td>\n",
       "      <td>3</td>\n",
       "    </tr>\n",
       "    <tr>\n",
       "      <th>2</th>\n",
       "      <td>2007</td>\n",
       "      <td>Denial of service</td>\n",
       "      <td>3</td>\n",
       "    </tr>\n",
       "    <tr>\n",
       "      <th>3</th>\n",
       "      <td>2007</td>\n",
       "      <td>Espionage</td>\n",
       "      <td>7</td>\n",
       "    </tr>\n",
       "    <tr>\n",
       "      <th>4</th>\n",
       "      <td>2008</td>\n",
       "      <td>Denial of service</td>\n",
       "      <td>1</td>\n",
       "    </tr>\n",
       "  </tbody>\n",
       "</table>\n",
       "</div>"
      ],
      "text/plain": [
       "   Year               Type  Count2\n",
       "0  2005          Espionage       1\n",
       "1  2006          Espionage       3\n",
       "2  2007  Denial of service       3\n",
       "3  2007          Espionage       7\n",
       "4  2008  Denial of service       1"
      ]
     },
     "execution_count": 36,
     "metadata": {},
     "output_type": "execute_result"
    }
   ],
   "source": [
    "df5=cyberopsfinal_df.groupby(['Year', 'Type']).size().reset_index(name=\"Count2\")\n",
    "df5.head()\n",
    "\n"
   ]
  },
  {
   "cell_type": "code",
   "execution_count": 37,
   "id": "3bf6b558",
   "metadata": {},
   "outputs": [
    {
     "data": {
      "image/png": "[encoded data removed]",
      "text/plain": [
       "<Figure size 432x288 with 1 Axes>"
      ]
     },
     "metadata": {
      "needs_background": "light"
     },
     "output_type": "display_data"
    }
   ],
   "source": [
    "df5.plot()\n",
    "plt.show()\n",
    "\n"
   ]
  },
  {
   "cell_type": "code",
   "execution_count": 188,
   "id": "715d8057",
   "metadata": {},
   "outputs": [
    {
     "data": {
      "text/plain": [
       "<AxesSubplot:title={'center':'Frequency by Type of Cyber Incident - Dataset2'}>"
      ]
     },
     "execution_count": 188,
     "metadata": {},
     "output_type": "execute_result"
    },
    {
     "data": {
      "image/png": "[encoded data removed]",
      "text/plain": [
       "<Figure size 432x288 with 1 Axes>"
      ]
     },
     "metadata": {
      "needs_background": "light"
     },
     "output_type": "display_data"
    }
   ],
   "source": [
    "cyberopsfinal_df[\"Type\"].value_counts().plot(kind='barh', title=\"Frequency by Type of Cyber Incident - Dataset2\")\n",
    "# As you can see Espionage has the most occurances.\n",
    "\n",
    "\n",
    "\n"
   ]
  },
  {
   "cell_type": "code",
   "execution_count": 39,
   "id": "b77e4e01",
   "metadata": {},
   "outputs": [],
   "source": [
    "# Dataset3: Read the Security Incidents file.  This dataset looks at the data security incidents which have been \n",
    "#reported to the Information Commissioners Office (ICO)."
   ]
  },
  {
   "cell_type": "code",
   "execution_count": 40,
   "id": "9e726631",
   "metadata": {},
   "outputs": [
    {
     "data": {
      "text/plain": [
       "Unauthorised access                   7\n",
       "Brute Force                           7\n",
       "Hardware/software misconfiguration    7\n",
       "Malware                               7\n",
       "Other cyber incident                  7\n",
       "Phishing                              7\n",
       "Ransomware                            7\n",
       "Denial of service                     1\n",
       "Name: Incident Type, dtype: int64"
      ]
     },
     "execution_count": 40,
     "metadata": {},
     "output_type": "execute_result"
    }
   ],
   "source": [
    "Secincidentfinal_df['Incident Type'].value_counts()"
   ]
  },
  {
   "cell_type": "code",
   "execution_count": 187,
   "id": "de2daa19",
   "metadata": {},
   "outputs": [
    {
     "data": {
      "text/plain": [
       "<AxesSubplot:title={'center':'Frequency by Type of Cyber Incident = Dataset3'}>"
      ]
     },
     "execution_count": 187,
     "metadata": {},
     "output_type": "execute_result"
    },
    {
     "data": {
      "image/png": "[encoded data removed]",
      "text/plain": [
       "<Figure size 432x288 with 1 Axes>"
      ]
     },
     "metadata": {
      "needs_background": "light"
     },
     "output_type": "display_data"
    }
   ],
   "source": [
    "Secincidentfinal_df['Incident Type'].value_counts().plot(kind='barh', title=\"Frequency by Type of Cyber Incident = Dataset3\")\n"
   ]
  },
  {
   "cell_type": "code",
   "execution_count": 42,
   "id": "c881c4c0",
   "metadata": {},
   "outputs": [
    {
     "data": {
      "text/plain": [
       "<AxesSubplot:title={'center':'Frequency by Year of Cyber Incident'}>"
      ]
     },
     "execution_count": 42,
     "metadata": {},
     "output_type": "execute_result"
    },
    {
     "data": {
      "image/png": "[encoded data removed]",
      "text/plain": [
       "<Figure size 432x288 with 1 Axes>"
      ]
     },
     "metadata": {
      "needs_background": "light"
     },
     "output_type": "display_data"
    }
   ],
   "source": [
    "Secincidentfinal_df['Year'].value_counts().plot(kind='barh', title=\"Frequency by Year of Cyber Incident\")\n",
    "\n",
    "#SHows that there were more incidents in 2020 compared to 2021."
   ]
  },
  {
   "cell_type": "code",
   "execution_count": 43,
   "id": "acc48089",
   "metadata": {},
   "outputs": [
    {
     "data": {
      "text/plain": [
       "<AxesSubplot:title={'center':'Frequency by Year of Cyber Incident'}>"
      ]
     },
     "execution_count": 43,
     "metadata": {},
     "output_type": "execute_result"
    },
    {
     "data": {
      "image/png": "[encoded data removed]",
      "text/plain": [
       "<Figure size 432x288 with 1 Axes>"
      ]
     },
     "metadata": {
      "needs_background": "light"
     },
     "output_type": "display_data"
    }
   ],
   "source": [
    "dfsecincidents=Secincidentfinal_df['Year'].astype(float)\n",
    "dfsecincidents.value_counts().plot(kind='barh', title=\"Frequency by Year of Cyber Incident\")\n",
    "#redid the graph with Year as a float.  Same results"
   ]
  },
  {
   "cell_type": "code",
   "execution_count": 186,
   "id": "092d9397",
   "metadata": {},
   "outputs": [
    {
     "data": {
      "text/plain": [
       "<AxesSubplot:title={'center':'Frequency by Year of Cyber Incident-Dataset3'}>"
      ]
     },
     "execution_count": 186,
     "metadata": {},
     "output_type": "execute_result"
    },
    {
     "data": {
      "image/png": "[encoded data removed]",
      "text/plain": [
       "<Figure size 432x288 with 1 Axes>"
      ]
     },
     "metadata": {
      "needs_background": "light"
     },
     "output_type": "display_data"
    }
   ],
   "source": [
    "Secincidentfinal_df['Year'].value_counts().plot(kind='barh', title=\"Frequency by Year of Cyber Incident-Dataset3\")"
   ]
  },
  {
   "cell_type": "code",
   "execution_count": 45,
   "id": "ad0e61cd",
   "metadata": {},
   "outputs": [],
   "source": [
    "# Dataset4: Read the PRC Data Breach Chronology.csv\" file.  It contains the Security incidents in the US \n",
    "#collected by a non-profit. 9015 records.  Oldest date of incident January 2005 and the latest October 2019. \n",
    "#No data in 2020.  These are all incidents in the US."
   ]
  },
  {
   "cell_type": "code",
   "execution_count": 185,
   "id": "1a823b34",
   "metadata": {
    "scrolled": true
   },
   "outputs": [
    {
     "data": {
      "text/plain": [
       "<AxesSubplot:title={'center':'Frequency by Year of Cyber Incident- Dataset4'}>"
      ]
     },
     "execution_count": 185,
     "metadata": {},
     "output_type": "execute_result"
    },
    {
     "data": {
      "image/png": "[encoded data removed]",
      "text/plain": [
       "<Figure size 432x288 with 1 Axes>"
      ]
     },
     "metadata": {
      "needs_background": "light"
     },
     "output_type": "display_data"
    }
   ],
   "source": [
    "PRCBreach_final_df['Year of Breach'].value_counts().plot(kind='barh', title=\"Frequency by Year of Cyber Incident- Dataset4\")\n",
    "\n",
    "#This dataset shows that the highest hacking incidents happened in 2014 and 2015.  2019 was the lowest.  No data provided in 2020.\n",
    "#  Feel this dataset may not have accurate or complete information.  We may not use this dataset in our analysis."
   ]
  },
  {
   "cell_type": "code",
   "execution_count": 184,
   "id": "44983fb9",
   "metadata": {},
   "outputs": [
    {
     "data": {
      "text/plain": [
       "<AxesSubplot:title={'center':'Frequency by Year of Cyber Incident-Combined Dataset'}>"
      ]
     },
     "execution_count": 184,
     "metadata": {},
     "output_type": "execute_result"
    },
    {
     "data": {
      "image/png": "[encoded data removed]",
      "text/plain": [
       "<Figure size 432x288 with 1 Axes>"
      ]
     },
     "metadata": {
      "needs_background": "light"
     },
     "output_type": "display_data"
    }
   ],
   "source": [
    "#Combined Dataset:  Histogram of the combined dataset of the two incidents datasets (Cyber Operations and Security Incidents)\n",
    "\n",
    "big_df ['Year'].value_counts().plot(kind='barh', title=\"Frequency by Year of Cyber Incident-Combined Dataset\")\n",
    "\n",
    "#See code below how big_df was created by merging two datasets (Dataset2 - CyberOps and Dataset3 = SecIncidents above)"
   ]
  },
  {
   "cell_type": "code",
   "execution_count": null,
   "id": "b652882b",
   "metadata": {},
   "outputs": [],
   "source": []
  },
  {
   "cell_type": "code",
   "execution_count": 47,
   "id": "01f955b9",
   "metadata": {},
   "outputs": [],
   "source": [
    "#PMF:  Dataset2 on field Type\n",
    "#Type_category=cyberopsfinal_df.groupby(['Type']).count()\n",
    "#Type_category"
   ]
  },
  {
   "cell_type": "code",
   "execution_count": 58,
   "id": "43cfc7bf",
   "metadata": {},
   "outputs": [
    {
     "data": {
      "text/html": [
       "<div>\n",
       "<style scoped>\n",
       "    .dataframe tbody tr th:only-of-type {\n",
       "        vertical-align: middle;\n",
       "    }\n",
       "\n",
       "    .dataframe tbody tr th {\n",
       "        vertical-align: top;\n",
       "    }\n",
       "\n",
       "    .dataframe thead th {\n",
       "        text-align: right;\n",
       "    }\n",
       "</style>\n",
       "<table border=\"1\" class=\"dataframe\">\n",
       "  <thead>\n",
       "    <tr style=\"text-align: right;\">\n",
       "      <th></th>\n",
       "      <th>Year</th>\n",
       "      <th>Category</th>\n",
       "      <th>Type</th>\n",
       "      <th>Description</th>\n",
       "      <th>Title</th>\n",
       "      <th>Affiliations</th>\n",
       "      <th>Victims</th>\n",
       "      <th>Sponsor</th>\n",
       "    </tr>\n",
       "  </thead>\n",
       "  <tbody>\n",
       "    <tr>\n",
       "      <th>0</th>\n",
       "      <td>2020</td>\n",
       "      <td>Government</td>\n",
       "      <td>Espionage</td>\n",
       "      <td>The suspected Russian hackers conducted a week...</td>\n",
       "      <td>Attack on Austrian foreign ministry</td>\n",
       "      <td>Turla</td>\n",
       "      <td>Austrian Foreign Ministry</td>\n",
       "      <td>Russian Federation</td>\n",
       "    </tr>\n",
       "    <tr>\n",
       "      <th>1</th>\n",
       "      <td>2020</td>\n",
       "      <td>Government</td>\n",
       "      <td>Espionage</td>\n",
       "      <td>The suspected North Korean threat actor Konni ...</td>\n",
       "      <td>Spear-phishing campaign against unnamed U.S. g...</td>\n",
       "      <td>Konni Group</td>\n",
       "      <td>Employees of the U.S. government</td>\n",
       "      <td>Korea (Democratic People's Republic of)</td>\n",
       "    </tr>\n",
       "    <tr>\n",
       "      <th>2</th>\n",
       "      <td>2020</td>\n",
       "      <td>Private sector</td>\n",
       "      <td>Data destruction</td>\n",
       "      <td>Responsible for attacking infrastructure that ...</td>\n",
       "      <td>Australian Signals Directorate</td>\n",
       "      <td>NaN</td>\n",
       "      <td>NaN</td>\n",
       "      <td>Australia</td>\n",
       "    </tr>\n",
       "    <tr>\n",
       "      <th>3</th>\n",
       "      <td>2020</td>\n",
       "      <td>Military</td>\n",
       "      <td>Espionage</td>\n",
       "      <td>The Hamas-associated threat actor APT-C-23 tar...</td>\n",
       "      <td>Catfishing of Israeli soldiers</td>\n",
       "      <td>APT-C-23</td>\n",
       "      <td>Israeli Defense Forces (IDF) soldiers</td>\n",
       "      <td>Palestine, State of</td>\n",
       "    </tr>\n",
       "    <tr>\n",
       "      <th>4</th>\n",
       "      <td>2020</td>\n",
       "      <td>Government, Private sector</td>\n",
       "      <td>Espionage</td>\n",
       "      <td>Iranian hackers attacked high-end networking e...</td>\n",
       "      <td>Targeting of U.S. companies and government age...</td>\n",
       "      <td>Fox Kitten</td>\n",
       "      <td>U.S. government agencies, U.S. companies</td>\n",
       "      <td>Iran (Islamic Republic of)</td>\n",
       "    </tr>\n",
       "  </tbody>\n",
       "</table>\n",
       "</div>"
      ],
      "text/plain": [
       "   Year                    Category              Type  \\\n",
       "0  2020                  Government         Espionage   \n",
       "1  2020                  Government         Espionage   \n",
       "2  2020              Private sector  Data destruction   \n",
       "3  2020                    Military         Espionage   \n",
       "4  2020  Government, Private sector         Espionage   \n",
       "\n",
       "                                         Description  \\\n",
       "0  The suspected Russian hackers conducted a week...   \n",
       "1  The suspected North Korean threat actor Konni ...   \n",
       "2  Responsible for attacking infrastructure that ...   \n",
       "3  The Hamas-associated threat actor APT-C-23 tar...   \n",
       "4  Iranian hackers attacked high-end networking e...   \n",
       "\n",
       "                                               Title Affiliations  \\\n",
       "0                Attack on Austrian foreign ministry        Turla   \n",
       "1  Spear-phishing campaign against unnamed U.S. g...  Konni Group   \n",
       "2                     Australian Signals Directorate          NaN   \n",
       "3                     Catfishing of Israeli soldiers     APT-C-23   \n",
       "4  Targeting of U.S. companies and government age...   Fox Kitten   \n",
       "\n",
       "                                    Victims  \\\n",
       "0                 Austrian Foreign Ministry   \n",
       "1          Employees of the U.S. government   \n",
       "2                                       NaN   \n",
       "3     Israeli Defense Forces (IDF) soldiers   \n",
       "4  U.S. government agencies, U.S. companies   \n",
       "\n",
       "                                   Sponsor  \n",
       "0                       Russian Federation  \n",
       "1  Korea (Democratic People's Republic of)  \n",
       "2                                Australia  \n",
       "3                      Palestine, State of  \n",
       "4               Iran (Islamic Republic of)  "
      ]
     },
     "execution_count": 58,
     "metadata": {},
     "output_type": "execute_result"
    }
   ],
   "source": [
    "cyberopsfinal_df.head()"
   ]
  },
  {
   "cell_type": "code",
   "execution_count": 48,
   "id": "733efb76",
   "metadata": {
    "scrolled": true
   },
   "outputs": [
    {
     "data": {
      "text/plain": [
       "Espionage            371\n",
       "Sabotage              22\n",
       "Denial of service     18\n",
       "Data destruction      14\n",
       "Financial Theft        7\n",
       "Doxing                 6\n",
       "Defacement             5\n",
       "Name: Type, dtype: int64"
      ]
     },
     "execution_count": 48,
     "metadata": {},
     "output_type": "execute_result"
    }
   ],
   "source": [
    "df_1 = cyberopsfinal_df[\"Type\"].value_counts()\n",
    "df_1"
   ]
  },
  {
   "cell_type": "code",
   "execution_count": 49,
   "id": "984534ea",
   "metadata": {},
   "outputs": [
    {
     "data": {
      "text/plain": [
       "7"
      ]
     },
     "execution_count": 49,
     "metadata": {},
     "output_type": "execute_result"
    }
   ],
   "source": [
    "sum1 = len(cyberopsfinal_df[\"Type\"].value_counts())\n",
    "sum1"
   ]
  },
  {
   "cell_type": "code",
   "execution_count": 50,
   "id": "386a7aa6",
   "metadata": {},
   "outputs": [],
   "source": [
    "df_2=pd.DataFrame(df_1)"
   ]
  },
  {
   "cell_type": "code",
   "execution_count": 51,
   "id": "d634e692",
   "metadata": {},
   "outputs": [],
   "source": [
    "df_2[\"item\"]=df_2.index"
   ]
  },
  {
   "cell_type": "code",
   "execution_count": 52,
   "id": "3051c5e0",
   "metadata": {},
   "outputs": [
    {
     "data": {
      "text/html": [
       "<div>\n",
       "<style scoped>\n",
       "    .dataframe tbody tr th:only-of-type {\n",
       "        vertical-align: middle;\n",
       "    }\n",
       "\n",
       "    .dataframe tbody tr th {\n",
       "        vertical-align: top;\n",
       "    }\n",
       "\n",
       "    .dataframe thead th {\n",
       "        text-align: right;\n",
       "    }\n",
       "</style>\n",
       "<table border=\"1\" class=\"dataframe\">\n",
       "  <thead>\n",
       "    <tr style=\"text-align: right;\">\n",
       "      <th></th>\n",
       "      <th>Type</th>\n",
       "      <th>item</th>\n",
       "      <th>probability</th>\n",
       "    </tr>\n",
       "  </thead>\n",
       "  <tbody>\n",
       "    <tr>\n",
       "      <th>Espionage</th>\n",
       "      <td>371</td>\n",
       "      <td>Espionage</td>\n",
       "      <td>53.000000</td>\n",
       "    </tr>\n",
       "    <tr>\n",
       "      <th>Sabotage</th>\n",
       "      <td>22</td>\n",
       "      <td>Sabotage</td>\n",
       "      <td>3.142857</td>\n",
       "    </tr>\n",
       "    <tr>\n",
       "      <th>Denial of service</th>\n",
       "      <td>18</td>\n",
       "      <td>Denial of service</td>\n",
       "      <td>2.571429</td>\n",
       "    </tr>\n",
       "    <tr>\n",
       "      <th>Data destruction</th>\n",
       "      <td>14</td>\n",
       "      <td>Data destruction</td>\n",
       "      <td>2.000000</td>\n",
       "    </tr>\n",
       "    <tr>\n",
       "      <th>Financial Theft</th>\n",
       "      <td>7</td>\n",
       "      <td>Financial Theft</td>\n",
       "      <td>1.000000</td>\n",
       "    </tr>\n",
       "    <tr>\n",
       "      <th>Doxing</th>\n",
       "      <td>6</td>\n",
       "      <td>Doxing</td>\n",
       "      <td>0.857143</td>\n",
       "    </tr>\n",
       "    <tr>\n",
       "      <th>Defacement</th>\n",
       "      <td>5</td>\n",
       "      <td>Defacement</td>\n",
       "      <td>0.714286</td>\n",
       "    </tr>\n",
       "  </tbody>\n",
       "</table>\n",
       "</div>"
      ],
      "text/plain": [
       "                   Type               item  probability\n",
       "Espionage           371          Espionage    53.000000\n",
       "Sabotage             22           Sabotage     3.142857\n",
       "Denial of service    18  Denial of service     2.571429\n",
       "Data destruction     14   Data destruction     2.000000\n",
       "Financial Theft       7    Financial Theft     1.000000\n",
       "Doxing                6             Doxing     0.857143\n",
       "Defacement            5         Defacement     0.714286"
      ]
     },
     "execution_count": 52,
     "metadata": {},
     "output_type": "execute_result"
    }
   ],
   "source": [
    "df_2['probability']=df_2['Type']/sum1\n",
    "df_2"
   ]
  },
  {
   "cell_type": "code",
   "execution_count": 53,
   "id": "b38867c3",
   "metadata": {},
   "outputs": [
    {
     "data": {
      "image/png": "[encoded data removed]",
      "text/plain": [
       "<Figure size 432x288 with 1 Axes>"
      ]
     },
     "metadata": {
      "needs_background": "light"
     },
     "output_type": "display_data"
    }
   ],
   "source": [
    "plt.bar(df_2['item'], df_2['probability'], color='r')\n",
    "plt.show()"
   ]
  },
  {
   "cell_type": "code",
   "execution_count": 54,
   "id": "95483f89",
   "metadata": {},
   "outputs": [],
   "source": [
    "#CDF:  Dataset2 on field Type\n",
    "import seaborn as sns\n",
    "sns.set()"
   ]
  },
  {
   "cell_type": "code",
   "execution_count": 55,
   "id": "4d8af96d",
   "metadata": {},
   "outputs": [],
   "source": [
    "#first create normal distribution and generate random values\n",
    "np.random.seed(0)\n",
    "X_rand = np.random.normal(loc=0, scale=1.0, size=1000)\n"
   ]
  },
  {
   "cell_type": "code",
   "execution_count": 56,
   "id": "b1bbd79f",
   "metadata": {},
   "outputs": [
    {
     "data": {
      "text/plain": [
       "(array([  3.,   6.,   9.,  11.,  30.,  40.,  59.,  87., 103., 114., 116.,\n",
       "        123.,  83.,  77.,  48.,  38.,  22.,  16.,  11.,   4.]),\n",
       " array([-3.04614305, -2.75586815, -2.46559324, -2.17531833, -1.88504342,\n",
       "        -1.59476851, -1.3044936 , -1.0142187 , -0.72394379, -0.43366888,\n",
       "        -0.14339397,  0.14688094,  0.43715585,  0.72743075,  1.01770566,\n",
       "         1.30798057,  1.59825548,  1.88853039,  2.1788053 ,  2.46908021,\n",
       "         2.75935511]),\n",
       " <BarContainer object of 20 artists>)"
      ]
     },
     "execution_count": 56,
     "metadata": {},
     "output_type": "execute_result"
    },
    {
     "data": {
      "image/png": "[encoded data removed]",
      "text/plain": [
       "<Figure size 432x288 with 1 Axes>"
      ]
     },
     "metadata": {},
     "output_type": "display_data"
    }
   ],
   "source": [
    "#Now visualize the above\n",
    "plt.hist(X_rand, bins=20)"
   ]
  },
  {
   "cell_type": "code",
   "execution_count": 57,
   "id": "1af91882",
   "metadata": {},
   "outputs": [
    {
     "name": "stderr",
     "output_type": "stream",
     "text": [
      "C:\\Users\\saima\\anaconda3\\envs\\srahmanzaiDSC530\\lib\\site-packages\\seaborn\\distributions.py:2619: FutureWarning: `distplot` is a deprecated function and will be removed in a future version. Please adapt your code to use either `displot` (a figure-level function with similar flexibility) or `histplot` (an axes-level function for histograms).\n",
      "  warnings.warn(msg, FutureWarning)\n"
     ]
    },
    {
     "data": {
      "text/plain": [
       "<AxesSubplot:>"
      ]
     },
     "execution_count": 57,
     "metadata": {},
     "output_type": "execute_result"
    },
    {
     "data": {
      "image/png": "[encoded data removed]",
      "text/plain": [
       "<Figure size 432x288 with 1 Axes>"
      ]
     },
     "metadata": {},
     "output_type": "display_data"
    }
   ],
   "source": [
    "#Or\n",
    "sns.distplot(X_rand, bins=20, kde=False)"
   ]
  },
  {
   "cell_type": "code",
   "execution_count": 58,
   "id": "01e3618d",
   "metadata": {},
   "outputs": [
    {
     "data": {
      "text/plain": [
       "<AxesSubplot:>"
      ]
     },
     "execution_count": 58,
     "metadata": {},
     "output_type": "execute_result"
    },
    {
     "data": {
      "image/png": "[encoded data removed]",
      "text/plain": [
       "<Figure size 432x288 with 1 Axes>"
      ]
     },
     "metadata": {},
     "output_type": "display_data"
    }
   ],
   "source": [
    "sns.distplot(X_rand, fit=stats.norm, kde=False)"
   ]
  },
  {
   "cell_type": "code",
   "execution_count": 59,
   "id": "25d95b6e",
   "metadata": {},
   "outputs": [],
   "source": [
    "#Distribution fitting"
   ]
  },
  {
   "cell_type": "code",
   "execution_count": 60,
   "id": "8d2e47a6",
   "metadata": {},
   "outputs": [
    {
     "data": {
      "text/plain": [
       "(-0.045256707490195384, 0.9870331586690257)"
      ]
     },
     "execution_count": 60,
     "metadata": {},
     "output_type": "execute_result"
    }
   ],
   "source": [
    "loc, scale=stats.norm.fit(X_rand)\n",
    "loc, scale"
   ]
  },
  {
   "cell_type": "code",
   "execution_count": 61,
   "id": "6355dd70",
   "metadata": {},
   "outputs": [],
   "source": [
    "#Calculate PDF\n",
    "#linear space value of x\n",
    "\n",
    "x=np.linspace(start=-5, stop=5, num=100)"
   ]
  },
  {
   "cell_type": "code",
   "execution_count": 62,
   "id": "b1669a18",
   "metadata": {},
   "outputs": [],
   "source": [
    "#pdf\n",
    "pdf=stats.norm.pdf(x, loc=loc, scale=scale)"
   ]
  },
  {
   "cell_type": "code",
   "execution_count": 63,
   "id": "b8087904",
   "metadata": {},
   "outputs": [
    {
     "data": {
      "text/plain": [
       "Text(0, 0.5, 'PDF')"
      ]
     },
     "execution_count": 63,
     "metadata": {},
     "output_type": "execute_result"
    },
    {
     "data": {
      "image/png": "[encoded data removed]",
      "text/plain": [
       "<Figure size 432x288 with 1 Axes>"
      ]
     },
     "metadata": {},
     "output_type": "display_data"
    }
   ],
   "source": [
    "#plot\n",
    "plt.plot(x,pdf,color='black')\n",
    "plt.xlabel('X')\n",
    "plt.ylabel('PDF')"
   ]
  },
  {
   "cell_type": "code",
   "execution_count": 64,
   "id": "8f297302",
   "metadata": {},
   "outputs": [],
   "source": [
    "#CDF\n",
    "\n",
    "#cdf=stats.norm.cdf(x, loc=loc, scale=scale)\n",
    "#cdf = stats.norm.cdf(df_1, loc=loc, scale=scale)\n",
    "\n",
    "#cdf1=stats.norm.cdf(df_1, loc=loc, scale=scale)\n",
    "#cdf1"
   ]
  },
  {
   "cell_type": "code",
   "execution_count": 65,
   "id": "c1753cfd",
   "metadata": {},
   "outputs": [
    {
     "data": {
      "text/plain": [
       "63.285714285714285"
      ]
     },
     "execution_count": 65,
     "metadata": {},
     "output_type": "execute_result"
    }
   ],
   "source": [
    "mu=df_1.mean()\n",
    "mu\n",
    "#where df_1 is cyberopsfinal_df[\"Type\"].value_counts()"
   ]
  },
  {
   "cell_type": "code",
   "execution_count": 66,
   "id": "220de775",
   "metadata": {},
   "outputs": [
    {
     "data": {
      "text/plain": [
       "135.84269614240617"
      ]
     },
     "execution_count": 66,
     "metadata": {},
     "output_type": "execute_result"
    }
   ],
   "source": [
    "sigma=df_1.std()\n",
    "sigma"
   ]
  },
  {
   "cell_type": "code",
   "execution_count": 67,
   "id": "68f88cf0",
   "metadata": {},
   "outputs": [],
   "source": [
    "cdf=stats.norm.cdf(x, loc=mu, scale=sigma)"
   ]
  },
  {
   "cell_type": "code",
   "execution_count": 68,
   "id": "12f595c4",
   "metadata": {},
   "outputs": [],
   "source": [
    "x=np.linspace(start=5, stop=375, num=100)"
   ]
  },
  {
   "cell_type": "code",
   "execution_count": 69,
   "id": "2ce49a46",
   "metadata": {},
   "outputs": [
    {
     "data": {
      "text/plain": [
       "Espionage            371\n",
       "Sabotage              22\n",
       "Denial of service     18\n",
       "Data destruction      14\n",
       "Financial Theft        7\n",
       "Doxing                 6\n",
       "Defacement             5\n",
       "Name: Type, dtype: int64"
      ]
     },
     "execution_count": 69,
     "metadata": {},
     "output_type": "execute_result"
    }
   ],
   "source": [
    "df_1 = cyberopsfinal_df[\"Type\"].value_counts()\n",
    "df_1"
   ]
  },
  {
   "cell_type": "code",
   "execution_count": 70,
   "id": "4c498d44",
   "metadata": {},
   "outputs": [
    {
     "data": {
      "image/png": "[encoded data removed]",
      "text/plain": [
       "<Figure size 432x288 with 1 Axes>"
      ]
     },
     "metadata": {},
     "output_type": "display_data"
    }
   ],
   "source": [
    "#plot\n",
    "plt.hist(df_1, density=True, cumulative= True)\n",
    "plt.plot(x,cdf,color='black')\n",
    "\n",
    "plt.xlabel('X')\n",
    "plt.ylabel('CDF = P(x<=X)')\n",
    "plt.show()\n"
   ]
  },
  {
   "cell_type": "code",
   "execution_count": 71,
   "id": "9263a220",
   "metadata": {},
   "outputs": [],
   "source": [
    "#For Analytics Distribution, I will create a pareto chart of variable Type in the dataframe cyberopsfinal_df"
   ]
  },
  {
   "cell_type": "code",
   "execution_count": 72,
   "id": "1d4fdb74",
   "metadata": {},
   "outputs": [],
   "source": [
    "df_1 = cyberopsfinal_df[\"Type\"].value_counts()\n",
    "\n"
   ]
  },
  {
   "cell_type": "code",
   "execution_count": 85,
   "id": "9a0d1105",
   "metadata": {},
   "outputs": [],
   "source": [
    "df_2=pd.DataFrame(df_1)\n"
   ]
  },
  {
   "cell_type": "code",
   "execution_count": 73,
   "id": "26a698cb",
   "metadata": {},
   "outputs": [],
   "source": [
    "df_2[\"item\"]=df_2.index\n"
   ]
  },
  {
   "cell_type": "code",
   "execution_count": 74,
   "id": "cdce3f55",
   "metadata": {},
   "outputs": [
    {
     "data": {
      "text/html": [
       "<div>\n",
       "<style scoped>\n",
       "    .dataframe tbody tr th:only-of-type {\n",
       "        vertical-align: middle;\n",
       "    }\n",
       "\n",
       "    .dataframe tbody tr th {\n",
       "        vertical-align: top;\n",
       "    }\n",
       "\n",
       "    .dataframe thead th {\n",
       "        text-align: right;\n",
       "    }\n",
       "</style>\n",
       "<table border=\"1\" class=\"dataframe\">\n",
       "  <thead>\n",
       "    <tr style=\"text-align: right;\">\n",
       "      <th></th>\n",
       "      <th>Type</th>\n",
       "      <th>item</th>\n",
       "      <th>probability</th>\n",
       "    </tr>\n",
       "  </thead>\n",
       "  <tbody>\n",
       "    <tr>\n",
       "      <th>Espionage</th>\n",
       "      <td>371</td>\n",
       "      <td>Espionage</td>\n",
       "      <td>53.000000</td>\n",
       "    </tr>\n",
       "    <tr>\n",
       "      <th>Sabotage</th>\n",
       "      <td>22</td>\n",
       "      <td>Sabotage</td>\n",
       "      <td>3.142857</td>\n",
       "    </tr>\n",
       "    <tr>\n",
       "      <th>Denial of service</th>\n",
       "      <td>18</td>\n",
       "      <td>Denial of service</td>\n",
       "      <td>2.571429</td>\n",
       "    </tr>\n",
       "    <tr>\n",
       "      <th>Data destruction</th>\n",
       "      <td>14</td>\n",
       "      <td>Data destruction</td>\n",
       "      <td>2.000000</td>\n",
       "    </tr>\n",
       "    <tr>\n",
       "      <th>Financial Theft</th>\n",
       "      <td>7</td>\n",
       "      <td>Financial Theft</td>\n",
       "      <td>1.000000</td>\n",
       "    </tr>\n",
       "    <tr>\n",
       "      <th>Doxing</th>\n",
       "      <td>6</td>\n",
       "      <td>Doxing</td>\n",
       "      <td>0.857143</td>\n",
       "    </tr>\n",
       "    <tr>\n",
       "      <th>Defacement</th>\n",
       "      <td>5</td>\n",
       "      <td>Defacement</td>\n",
       "      <td>0.714286</td>\n",
       "    </tr>\n",
       "  </tbody>\n",
       "</table>\n",
       "</div>"
      ],
      "text/plain": [
       "                   Type               item  probability\n",
       "Espionage           371          Espionage    53.000000\n",
       "Sabotage             22           Sabotage     3.142857\n",
       "Denial of service    18  Denial of service     2.571429\n",
       "Data destruction     14   Data destruction     2.000000\n",
       "Financial Theft       7    Financial Theft     1.000000\n",
       "Doxing                6             Doxing     0.857143\n",
       "Defacement            5         Defacement     0.714286"
      ]
     },
     "execution_count": 74,
     "metadata": {},
     "output_type": "execute_result"
    }
   ],
   "source": [
    "df_3=df_2.sort_values(by='Type', ascending=False)\n",
    "df_3"
   ]
  },
  {
   "cell_type": "code",
   "execution_count": 75,
   "id": "5d19f2e1",
   "metadata": {},
   "outputs": [],
   "source": [
    "df_3[\"cumpercentage\"]=df_3[\"Type\"].cumsum()/df_3[\"Type\"].sum()*100"
   ]
  },
  {
   "cell_type": "code",
   "execution_count": 76,
   "id": "1d88eb72",
   "metadata": {},
   "outputs": [
    {
     "name": "stderr",
     "output_type": "stream",
     "text": [
      "C:\\Users\\saima\\AppData\\Local\\Temp/ipykernel_21752/542301559.py:6: UserWarning: FixedFormatter should only be used together with FixedLocator\n",
      "  ax1.set_xticklabels(df_3[\"item\"], rotation=45)\n"
     ]
    },
    {
     "data": {
      "image/png": "[encoded data removed]",
      "text/plain": [
       "<Figure size 432x288 with 2 Axes>"
      ]
     },
     "metadata": {},
     "output_type": "display_data"
    }
   ],
   "source": [
    "fig, ax1=plt.subplots()\n",
    "ax1.bar(df_3.item, df_3[\"Type\"], color=\"C0\")\n",
    "ax1.set_ylabel(\"Incident Type\", color=\"C0\")\n",
    "ax1.tick_params(axis=\"y\", color=\"C0\")\n",
    "ax1.set_xlabel(\"Type to Focus on\")\n",
    "ax1.set_xticklabels(df_3[\"item\"], rotation=45)\n",
    "ax2=ax1.twinx()\n",
    "ax2.plot(df_3.item, df_3[\"cumpercentage\"], color=\"C1\", marker=\"D\", ms=7)\n",
    "#ax2.yaxis.set_major_formatter(formatter)\n",
    "ax2.tick_params(axis=\"y\", color=\"C1\")\n",
    "plt.show()"
   ]
  },
  {
   "cell_type": "code",
   "execution_count": 77,
   "id": "e2d7cc4d",
   "metadata": {},
   "outputs": [],
   "source": [
    "#Based on the above Paretto Distribution, Espionage Type is significant and\n",
    "#need to be addressed to tackle this Cyber Incident Type"
   ]
  },
  {
   "cell_type": "code",
   "execution_count": 78,
   "id": "eb617881",
   "metadata": {},
   "outputs": [],
   "source": [
    "# Merging two incident files together and then analyzing the results (Cyber Ops and Sec_Incident files)>  I extracted \n",
    "# two fields from each file Year and Type.  I also renamed the Type names to make sure they are the same before merging."
   ]
  },
  {
   "cell_type": "code",
   "execution_count": 116,
   "id": "8d7c776d",
   "metadata": {},
   "outputs": [
    {
     "name": "stdout",
     "output_type": "stream",
     "text": [
      "<class 'pandas.core.frame.DataFrame'>\n",
      "Int64Index: 474 entries, 0 to 473\n",
      "Data columns (total 2 columns):\n",
      " #   Column  Non-Null Count  Dtype \n",
      "---  ------  --------------  ----- \n",
      " 0   Year    474 non-null    object\n",
      " 1   Type    443 non-null    object\n",
      "dtypes: object(2)\n",
      "memory usage: 11.1+ KB\n"
     ]
    }
   ],
   "source": [
    "df3_cyberops = cyberopsfinal_df[[\"Year\", \"Type\"]]\n",
    "\n",
    "\n",
    "df3_cyberops.info()\n"
   ]
  },
  {
   "cell_type": "code",
   "execution_count": 81,
   "id": "3b438705",
   "metadata": {},
   "outputs": [
    {
     "name": "stdout",
     "output_type": "stream",
     "text": [
      "<class 'pandas.core.frame.DataFrame'>\n",
      "Int64Index: 50 entries, 0 to 139\n",
      "Data columns (total 2 columns):\n",
      " #   Column  Non-Null Count  Dtype \n",
      "---  ------  --------------  ----- \n",
      " 0   Year    50 non-null     object\n",
      " 1   Type    50 non-null     object\n",
      "dtypes: object(2)\n",
      "memory usage: 1.2+ KB\n"
     ]
    },
    {
     "name": "stderr",
     "output_type": "stream",
     "text": [
      "C:\\Users\\saima\\anaconda3\\envs\\srahmanzaiDSC530\\lib\\site-packages\\pandas\\core\\frame.py:5039: SettingWithCopyWarning: \n",
      "A value is trying to be set on a copy of a slice from a DataFrame\n",
      "\n",
      "See the caveats in the documentation: https://pandas.pydata.org/pandas-docs/stable/user_guide/indexing.html#returning-a-view-versus-a-copy\n",
      "  return super().rename(\n"
     ]
    }
   ],
   "source": [
    "df4_Secincident = Secincidentfinal_df[[\"Year\", \"Incident Type\"]]\n",
    "df4_Secincident.rename( columns={\"Incident Type\":\"Type\" } ,inplace=True)\n",
    "df4_Secincident.info()"
   ]
  },
  {
   "cell_type": "code",
   "execution_count": 82,
   "id": "92f8af92",
   "metadata": {
    "scrolled": true
   },
   "outputs": [
    {
     "name": "stdout",
     "output_type": "stream",
     "text": [
      "<class 'pandas.core.frame.DataFrame'>\n",
      "RangeIndex: 524 entries, 0 to 523\n",
      "Data columns (total 2 columns):\n",
      " #   Column  Non-Null Count  Dtype \n",
      "---  ------  --------------  ----- \n",
      " 0   Year    524 non-null    object\n",
      " 1   Type    493 non-null    object\n",
      "dtypes: object(2)\n",
      "memory usage: 8.3+ KB\n"
     ]
    },
    {
     "data": {
      "text/html": [
       "<div>\n",
       "<style scoped>\n",
       "    .dataframe tbody tr th:only-of-type {\n",
       "        vertical-align: middle;\n",
       "    }\n",
       "\n",
       "    .dataframe tbody tr th {\n",
       "        vertical-align: top;\n",
       "    }\n",
       "\n",
       "    .dataframe thead th {\n",
       "        text-align: right;\n",
       "    }\n",
       "</style>\n",
       "<table border=\"1\" class=\"dataframe\">\n",
       "  <thead>\n",
       "    <tr style=\"text-align: right;\">\n",
       "      <th></th>\n",
       "      <th>Year</th>\n",
       "      <th>Type</th>\n",
       "    </tr>\n",
       "  </thead>\n",
       "  <tbody>\n",
       "    <tr>\n",
       "      <th>0</th>\n",
       "      <td>2020</td>\n",
       "      <td>Espionage</td>\n",
       "    </tr>\n",
       "    <tr>\n",
       "      <th>1</th>\n",
       "      <td>2020</td>\n",
       "      <td>Espionage</td>\n",
       "    </tr>\n",
       "    <tr>\n",
       "      <th>2</th>\n",
       "      <td>2020</td>\n",
       "      <td>Data destruction</td>\n",
       "    </tr>\n",
       "    <tr>\n",
       "      <th>3</th>\n",
       "      <td>2020</td>\n",
       "      <td>Espionage</td>\n",
       "    </tr>\n",
       "    <tr>\n",
       "      <th>4</th>\n",
       "      <td>2020</td>\n",
       "      <td>Espionage</td>\n",
       "    </tr>\n",
       "    <tr>\n",
       "      <th>...</th>\n",
       "      <td>...</td>\n",
       "      <td>...</td>\n",
       "    </tr>\n",
       "    <tr>\n",
       "      <th>519</th>\n",
       "      <td>2020</td>\n",
       "      <td>Malware</td>\n",
       "    </tr>\n",
       "    <tr>\n",
       "      <th>520</th>\n",
       "      <td>2020</td>\n",
       "      <td>Other cyber incident</td>\n",
       "    </tr>\n",
       "    <tr>\n",
       "      <th>521</th>\n",
       "      <td>2020</td>\n",
       "      <td>Phishing</td>\n",
       "    </tr>\n",
       "    <tr>\n",
       "      <th>522</th>\n",
       "      <td>2020</td>\n",
       "      <td>Ransomware</td>\n",
       "    </tr>\n",
       "    <tr>\n",
       "      <th>523</th>\n",
       "      <td>2020</td>\n",
       "      <td>Unauthorised access</td>\n",
       "    </tr>\n",
       "  </tbody>\n",
       "</table>\n",
       "<p>524 rows × 2 columns</p>\n",
       "</div>"
      ],
      "text/plain": [
       "     Year                  Type\n",
       "0    2020             Espionage\n",
       "1    2020             Espionage\n",
       "2    2020      Data destruction\n",
       "3    2020             Espionage\n",
       "4    2020             Espionage\n",
       "..    ...                   ...\n",
       "519  2020               Malware\n",
       "520  2020  Other cyber incident\n",
       "521  2020              Phishing\n",
       "522  2020            Ransomware\n",
       "523  2020   Unauthorised access\n",
       "\n",
       "[524 rows x 2 columns]"
      ]
     },
     "execution_count": 82,
     "metadata": {},
     "output_type": "execute_result"
    }
   ],
   "source": [
    "big_df = pd.concat([df3_cyberops, df4_Secincident], ignore_index=True)\n",
    "big_df.info()\n",
    "big_df\n",
    "\n",
    "\n",
    "\n",
    "\n"
   ]
  },
  {
   "cell_type": "code",
   "execution_count": 83,
   "id": "6903a681",
   "metadata": {},
   "outputs": [
    {
     "data": {
      "image/png": "[encoded data removed]",
      "text/plain": [
       "<Figure size 432x288 with 1 Axes>"
      ]
     },
     "metadata": {},
     "output_type": "display_data"
    }
   ],
   "source": [
    "# Create scatterplot of the combined dataset and focus on the two variables Year and Type of incident\n",
    "\n",
    "import matplotlib.pyplot as plt\n",
    "import seaborn as sns\n",
    "import pandas as pd\n",
    "from pandas import Series, DataFrame\n",
    "\n",
    "from pylab import rcParams\n",
    "from pandas.plotting import scatter_matrix\n",
    "\n",
    "\n",
    "\n",
    "df5=big_df.groupby(['Year', 'Type']).size().reset_index(name=\"Count2\")\n",
    "df5.head()\n",
    "\n",
    "df5.plot(kind='scatter', x='Type', y='Year', c='darkgrey')\n",
    "plt.xticks(rotation=90)\n",
    "plt.xlabel(\"\")\n",
    "plt.show()\n",
    "#The scatterchart below shows a strong positive linear relationship between variables Year and Type of incidents.  As Years pass, the incidents increase. Espionage having the most\n",
    "#frequency or use almost every year.\n"
   ]
  },
  {
   "cell_type": "code",
   "execution_count": 84,
   "id": "efbbf0eb",
   "metadata": {},
   "outputs": [
    {
     "data": {
      "image/png": "[encoded data removed]",
      "text/plain": [
       "<Figure size 432x288 with 1 Axes>"
      ]
     },
     "metadata": {},
     "output_type": "display_data"
    }
   ],
   "source": [
    "#We had one dataset that showed vulnerabilities.  One of my hypothesis that vulnerabilities increase with as years grow.  I\n",
    "#drew a scatter plot diagram between the year and the number of vulnerabilities.  The scatter plot shows a strong positive linear\n",
    "#relationship as shown below.\n",
    "\n",
    "import matplotlib.pyplot as plt\n",
    "import seaborn as sns\n",
    "import pandas as pd\n",
    "from pandas import Series, DataFrame\n",
    "\n",
    "from pylab import rcParams\n",
    "from pandas.plotting import scatter_matrix\n",
    "\n",
    "df6=allitems.groupby(['Year']).size().reset_index(name=\"Count2\")\n",
    "df6.head()\n",
    "df6.tail()\n",
    "\n",
    "\n",
    "df6.plot(kind='scatter', x='Count2', y='Year', c='darkgrey')\n",
    "plt.xticks(rotation=90)\n",
    "plt.xlabel(\"\")\n",
    "plt.show()"
   ]
  },
  {
   "cell_type": "code",
   "execution_count": 98,
   "id": "7ac8db69",
   "metadata": {},
   "outputs": [
    {
     "data": {
      "image/png": "[encoded data removed]",
      "text/plain": [
       "<Figure size 432x288 with 1 Axes>"
      ]
     },
     "metadata": {
      "needs_background": "light"
     },
     "output_type": "display_data"
    }
   ],
   "source": [
    "#Hypothesis Testing:Onthe Vulnerabilities Dataset:\n",
    "\n",
    "FirstSample = df6[1:30]['Year_int']\n",
    "SecondSample = df6[1:30]['Count2']\n",
    "pyplot.plot(FirstSample, SecondSample)\n",
    "pyplot.show()\n"
   ]
  },
  {
   "cell_type": "code",
   "execution_count": 99,
   "id": "75d35f13",
   "metadata": {},
   "outputs": [
    {
     "name": "stdout",
     "output_type": "stream",
     "text": [
      "stat=0.760836, p=0.000025\n",
      "Dependent Samples\n"
     ]
    }
   ],
   "source": [
    "#Hypothesis testing using Pearson Correlation between the Year and Type count variables for the vulnerabiltiy dataset\n",
    "from scipy.stats import pearsonr\n",
    "stat, p = pearsonr(FirstSample, SecondSample)\n",
    "print('stat=%3f, p=%5f' % (stat, p))\n",
    "\n",
    "if p > 0.05:\n",
    "    print('Independent Samples')\n",
    "else:\n",
    "    print('Dependent Samples')"
   ]
  },
  {
   "cell_type": "code",
   "execution_count": null,
   "id": "81dacb8e",
   "metadata": {},
   "outputs": [],
   "source": [
    "#Covariance, Pearson’s correlation,\n",
    "#We calculated the Covariance, Pearson's correlation on the vulnerability dataset first showing Security incidents by \n",
    "#time over the years."
   ]
  },
  {
   "cell_type": "code",
   "execution_count": 174,
   "id": "4ef844cb",
   "metadata": {},
   "outputs": [
    {
     "name": "stdout",
     "output_type": "stream",
     "text": [
      "<class 'pandas.core.frame.DataFrame'>\n",
      "RangeIndex: 24 entries, 0 to 23\n",
      "Data columns (total 3 columns):\n",
      " #   Column    Non-Null Count  Dtype \n",
      "---  ------    --------------  ----- \n",
      " 0   Year      24 non-null     object\n",
      " 1   Count2    24 non-null     int64 \n",
      " 2   Year_int  24 non-null     int32 \n",
      "dtypes: int32(1), int64(1), object(1)\n",
      "memory usage: 608.0+ bytes\n"
     ]
    },
    {
     "data": {
      "text/html": [
       "<div>\n",
       "<style scoped>\n",
       "    .dataframe tbody tr th:only-of-type {\n",
       "        vertical-align: middle;\n",
       "    }\n",
       "\n",
       "    .dataframe tbody tr th {\n",
       "        vertical-align: top;\n",
       "    }\n",
       "\n",
       "    .dataframe thead th {\n",
       "        text-align: right;\n",
       "    }\n",
       "</style>\n",
       "<table border=\"1\" class=\"dataframe\">\n",
       "  <thead>\n",
       "    <tr style=\"text-align: right;\">\n",
       "      <th></th>\n",
       "      <th>Count2</th>\n",
       "      <th>Year_int</th>\n",
       "    </tr>\n",
       "  </thead>\n",
       "  <tbody>\n",
       "    <tr>\n",
       "      <th>Count2</th>\n",
       "      <td>1.000000</td>\n",
       "      <td>0.766761</td>\n",
       "    </tr>\n",
       "    <tr>\n",
       "      <th>Year_int</th>\n",
       "      <td>0.766761</td>\n",
       "      <td>1.000000</td>\n",
       "    </tr>\n",
       "  </tbody>\n",
       "</table>\n",
       "</div>"
      ],
      "text/plain": [
       "            Count2  Year_int\n",
       "Count2    1.000000  0.766761\n",
       "Year_int  0.766761  1.000000"
      ]
     },
     "execution_count": 174,
     "metadata": {},
     "output_type": "execute_result"
    }
   ],
   "source": [
    "#Correlation on Vulnerability dataset\n",
    "\n",
    "df6.head()\n",
    "df6['Year_int'] = df6['Year'].astype('int')\n",
    "df6.info()\n",
    "df6.corr()"
   ]
  },
  {
   "cell_type": "code",
   "execution_count": 175,
   "id": "139b9f7d",
   "metadata": {},
   "outputs": [
    {
     "data": {
      "text/html": [
       "<div>\n",
       "<style scoped>\n",
       "    .dataframe tbody tr th:only-of-type {\n",
       "        vertical-align: middle;\n",
       "    }\n",
       "\n",
       "    .dataframe tbody tr th {\n",
       "        vertical-align: top;\n",
       "    }\n",
       "\n",
       "    .dataframe thead th {\n",
       "        text-align: right;\n",
       "    }\n",
       "</style>\n",
       "<table border=\"1\" class=\"dataframe\">\n",
       "  <thead>\n",
       "    <tr style=\"text-align: right;\">\n",
       "      <th></th>\n",
       "      <th>Count2</th>\n",
       "      <th>Year_int</th>\n",
       "    </tr>\n",
       "  </thead>\n",
       "  <tbody>\n",
       "    <tr>\n",
       "      <th>Count2</th>\n",
       "      <td>7.691212e+07</td>\n",
       "      <td>47549.108696</td>\n",
       "    </tr>\n",
       "    <tr>\n",
       "      <th>Year_int</th>\n",
       "      <td>4.754911e+04</td>\n",
       "      <td>50.000000</td>\n",
       "    </tr>\n",
       "  </tbody>\n",
       "</table>\n",
       "</div>"
      ],
      "text/plain": [
       "                Count2      Year_int\n",
       "Count2    7.691212e+07  47549.108696\n",
       "Year_int  4.754911e+04     50.000000"
      ]
     },
     "execution_count": 175,
     "metadata": {},
     "output_type": "execute_result"
    }
   ],
   "source": [
    "# Covariance for the Vulnerabiliies dataset\n",
    "df6.cov()\n",
    "#Covariance is a part of statistics and it is the measure of the \n",
    "#relationship between two random variables or random problems."
   ]
  },
  {
   "cell_type": "code",
   "execution_count": null,
   "id": "e159d103",
   "metadata": {},
   "outputs": [],
   "source": [
    "#The Pearson correlation coefficient, often referred to as Pearson’s r, is a measure of linear correlation between two \n",
    "#variables. This means that the Pearson correlation coefficient measures a normalized measurement of covariance \n",
    "#(i.e., a value between -1 and 1 that shows how much variables vary together)."
   ]
  },
  {
   "cell_type": "code",
   "execution_count": 179,
   "id": "68d71c25",
   "metadata": {},
   "outputs": [
    {
     "data": {
      "text/html": [
       "<div>\n",
       "<style scoped>\n",
       "    .dataframe tbody tr th:only-of-type {\n",
       "        vertical-align: middle;\n",
       "    }\n",
       "\n",
       "    .dataframe tbody tr th {\n",
       "        vertical-align: top;\n",
       "    }\n",
       "\n",
       "    .dataframe thead th {\n",
       "        text-align: right;\n",
       "    }\n",
       "</style>\n",
       "<table border=\"1\" class=\"dataframe\">\n",
       "  <thead>\n",
       "    <tr style=\"text-align: right;\">\n",
       "      <th></th>\n",
       "      <th>Year</th>\n",
       "      <th>Count2</th>\n",
       "      <th>Year_int</th>\n",
       "    </tr>\n",
       "  </thead>\n",
       "  <tbody>\n",
       "    <tr>\n",
       "      <th>0</th>\n",
       "      <td>1999</td>\n",
       "      <td>1579</td>\n",
       "      <td>1999</td>\n",
       "    </tr>\n",
       "    <tr>\n",
       "      <th>1</th>\n",
       "      <td>2000</td>\n",
       "      <td>1243</td>\n",
       "      <td>2000</td>\n",
       "    </tr>\n",
       "    <tr>\n",
       "      <th>2</th>\n",
       "      <td>2001</td>\n",
       "      <td>1573</td>\n",
       "      <td>2001</td>\n",
       "    </tr>\n",
       "    <tr>\n",
       "      <th>3</th>\n",
       "      <td>2002</td>\n",
       "      <td>2436</td>\n",
       "      <td>2002</td>\n",
       "    </tr>\n",
       "    <tr>\n",
       "      <th>4</th>\n",
       "      <td>2003</td>\n",
       "      <td>1600</td>\n",
       "      <td>2003</td>\n",
       "    </tr>\n",
       "  </tbody>\n",
       "</table>\n",
       "</div>"
      ],
      "text/plain": [
       "   Year  Count2  Year_int\n",
       "0  1999    1579      1999\n",
       "1  2000    1243      2000\n",
       "2  2001    1573      2001\n",
       "3  2002    2436      2002\n",
       "4  2003    1600      2003"
      ]
     },
     "execution_count": 179,
     "metadata": {},
     "output_type": "execute_result"
    }
   ],
   "source": [
    "##### Regression Analysis for variables in the vulnerability dataset.  \n",
    "\n",
    "df6.head()"
   ]
  },
  {
   "cell_type": "code",
   "execution_count": 180,
   "id": "c5f92ce7",
   "metadata": {},
   "outputs": [
    {
     "data": {
      "text/html": [
       "<table class=\"simpletable\">\n",
       "<caption>OLS Regression Results</caption>\n",
       "<tr>\n",
       "  <th>Dep. Variable:</th>        <td>Year_int</td>     <th>  R-squared:         </th> <td>   0.588</td>\n",
       "</tr>\n",
       "<tr>\n",
       "  <th>Model:</th>                   <td>OLS</td>       <th>  Adj. R-squared:    </th> <td>   0.569</td>\n",
       "</tr>\n",
       "<tr>\n",
       "  <th>Method:</th>             <td>Least Squares</td>  <th>  F-statistic:       </th> <td>   31.39</td>\n",
       "</tr>\n",
       "<tr>\n",
       "  <th>Date:</th>             <td>Fri, 04 Mar 2022</td> <th>  Prob (F-statistic):</th> <td>1.24e-05</td>\n",
       "</tr>\n",
       "<tr>\n",
       "  <th>Time:</th>                 <td>01:07:23</td>     <th>  Log-Likelihood:    </th> <td> -69.850</td>\n",
       "</tr>\n",
       "<tr>\n",
       "  <th>No. Observations:</th>      <td>    24</td>      <th>  AIC:               </th> <td>   143.7</td>\n",
       "</tr>\n",
       "<tr>\n",
       "  <th>Df Residuals:</th>          <td>    22</td>      <th>  BIC:               </th> <td>   146.1</td>\n",
       "</tr>\n",
       "<tr>\n",
       "  <th>Df Model:</th>              <td>     1</td>      <th>                     </th>     <td> </td>   \n",
       "</tr>\n",
       "<tr>\n",
       "  <th>Covariance Type:</th>      <td>nonrobust</td>    <th>                     </th>     <td> </td>   \n",
       "</tr>\n",
       "</table>\n",
       "<table class=\"simpletable\">\n",
       "<tr>\n",
       "      <td></td>         <th>coef</th>     <th>std err</th>      <th>t</th>      <th>P>|t|</th>  <th>[0.025</th>    <th>0.975]</th>  \n",
       "</tr>\n",
       "<tr>\n",
       "  <th>Intercept</th> <td> 2004.6609</td> <td>    1.408</td> <td> 1423.295</td> <td> 0.000</td> <td> 2001.740</td> <td> 2007.582</td>\n",
       "</tr>\n",
       "<tr>\n",
       "  <th>Count2</th>    <td>    0.0006</td> <td>    0.000</td> <td>    5.602</td> <td> 0.000</td> <td>    0.000</td> <td>    0.001</td>\n",
       "</tr>\n",
       "</table>\n",
       "<table class=\"simpletable\">\n",
       "<tr>\n",
       "  <th>Omnibus:</th>       <td>14.103</td> <th>  Durbin-Watson:     </th> <td>   0.746</td>\n",
       "</tr>\n",
       "<tr>\n",
       "  <th>Prob(Omnibus):</th> <td> 0.001</td> <th>  Jarque-Bera (JB):  </th> <td>  14.692</td>\n",
       "</tr>\n",
       "<tr>\n",
       "  <th>Skew:</th>          <td> 1.331</td> <th>  Prob(JB):          </th> <td>0.000645</td>\n",
       "</tr>\n",
       "<tr>\n",
       "  <th>Kurtosis:</th>      <td> 5.757</td> <th>  Cond. No.          </th> <td>1.90e+04</td>\n",
       "</tr>\n",
       "</table><br/><br/>Notes:<br/>[1] Standard Errors assume that the covariance matrix of the errors is correctly specified.<br/>[2] The condition number is large, 1.9e+04. This might indicate that there are<br/>strong multicollinearity or other numerical problems."
      ],
      "text/plain": [
       "<class 'statsmodels.iolib.summary.Summary'>\n",
       "\"\"\"\n",
       "                            OLS Regression Results                            \n",
       "==============================================================================\n",
       "Dep. Variable:               Year_int   R-squared:                       0.588\n",
       "Model:                            OLS   Adj. R-squared:                  0.569\n",
       "Method:                 Least Squares   F-statistic:                     31.39\n",
       "Date:                Fri, 04 Mar 2022   Prob (F-statistic):           1.24e-05\n",
       "Time:                        01:07:23   Log-Likelihood:                -69.850\n",
       "No. Observations:                  24   AIC:                             143.7\n",
       "Df Residuals:                      22   BIC:                             146.1\n",
       "Df Model:                           1                                         \n",
       "Covariance Type:            nonrobust                                         \n",
       "==============================================================================\n",
       "                 coef    std err          t      P>|t|      [0.025      0.975]\n",
       "------------------------------------------------------------------------------\n",
       "Intercept   2004.6609      1.408   1423.295      0.000    2001.740    2007.582\n",
       "Count2         0.0006      0.000      5.602      0.000       0.000       0.001\n",
       "==============================================================================\n",
       "Omnibus:                       14.103   Durbin-Watson:                   0.746\n",
       "Prob(Omnibus):                  0.001   Jarque-Bera (JB):               14.692\n",
       "Skew:                           1.331   Prob(JB):                     0.000645\n",
       "Kurtosis:                       5.757   Cond. No.                     1.90e+04\n",
       "==============================================================================\n",
       "\n",
       "Notes:\n",
       "[1] Standard Errors assume that the covariance matrix of the errors is correctly specified.\n",
       "[2] The condition number is large, 1.9e+04. This might indicate that there are\n",
       "strong multicollinearity or other numerical problems.\n",
       "\"\"\""
      ]
     },
     "execution_count": 180,
     "metadata": {},
     "output_type": "execute_result"
    }
   ],
   "source": [
    "reg2=ols(\"Year_int ~ Count2\", df6).fit()\n",
    "reg2.summary()"
   ]
  },
  {
   "cell_type": "code",
   "execution_count": null,
   "id": "706c44dd",
   "metadata": {},
   "outputs": [],
   "source": []
  },
  {
   "cell_type": "code",
   "execution_count": 100,
   "id": "ecc0d9ba",
   "metadata": {},
   "outputs": [],
   "source": [
    "#Hypothesis testing using Pearson Correlation on the combined datset by Year and Count of how many incidents by Year. \n",
    "#In order to do that, first I had to prep the file make some numeric conversions as Hypothesis works on numeric fields as \n",
    "#shown below.\n",
    "\n"
   ]
  },
  {
   "cell_type": "code",
   "execution_count": null,
   "id": "9793753d",
   "metadata": {},
   "outputs": [],
   "source": [
    "#testing df5 again using encoding to change categoricl variables to numeric so I can \n",
    "#run statistic commands, remove N/As etc."
   ]
  },
  {
   "cell_type": "code",
   "execution_count": 160,
   "id": "cdbd5ef0",
   "metadata": {},
   "outputs": [
    {
     "name": "stdout",
     "output_type": "stream",
     "text": [
      "<class 'pandas.core.frame.DataFrame'>\n",
      "RangeIndex: 524 entries, 0 to 523\n",
      "Data columns (total 3 columns):\n",
      " #   Column    Non-Null Count  Dtype \n",
      "---  ------    --------------  ----- \n",
      " 0   Year      524 non-null    object\n",
      " 1   Type      493 non-null    object\n",
      " 2   Year_int  524 non-null    int32 \n",
      "dtypes: int32(1), object(2)\n",
      "memory usage: 10.4+ KB\n"
     ]
    },
    {
     "data": {
      "text/plain": [
       "Year        0\n",
       "Type        0\n",
       "Year_int    0\n",
       "dtype: int64"
      ]
     },
     "execution_count": 160,
     "metadata": {},
     "output_type": "execute_result"
    }
   ],
   "source": [
    "big_df = pd.concat([df3_cyberops, df4_Secincident], ignore_index=True)\n",
    "big_df['Year_int'] = big_df['Year'].astype('int')\n",
    "big_df.info()\n",
    "big_df.isnull().sum()\n",
    "big_df.dropna(inplace=True)\n",
    "big_df.isnull().sum()\n"
   ]
  },
  {
   "cell_type": "code",
   "execution_count": 161,
   "id": "bd34b9c7",
   "metadata": {},
   "outputs": [
    {
     "data": {
      "text/plain": [
       "array(['Espionage', 'Data destruction', 'Financial Theft', 'Sabotage',\n",
       "       'Defacement', 'Denial of service', 'Doxing', 'Unauthorised access',\n",
       "       'Brute Force', 'Hardware/software misconfiguration', 'Malware',\n",
       "       'Other cyber incident', 'Phishing', 'Ransomware'], dtype=object)"
      ]
     },
     "execution_count": 161,
     "metadata": {},
     "output_type": "execute_result"
    }
   ],
   "source": [
    "big_df.Type.unique()"
   ]
  },
  {
   "cell_type": "code",
   "execution_count": 162,
   "id": "ddc861f4",
   "metadata": {},
   "outputs": [
    {
     "data": {
      "text/plain": [
       "0       5\n",
       "1       5\n",
       "2       1\n",
       "3       5\n",
       "4       5\n",
       "       ..\n",
       "488     8\n",
       "489     9\n",
       "490    10\n",
       "491    11\n",
       "492    13\n",
       "Name: Type_Num, Length: 493, dtype: int32"
      ]
     },
     "execution_count": 162,
     "metadata": {},
     "output_type": "execute_result"
    }
   ],
   "source": [
    "#!pip install scikit-learn\n",
    "from sklearn.preprocessing import LabelEncoder\n",
    "le= LabelEncoder()\n",
    "df=le.fit_transform(big_df['Type'])\n",
    "df\n",
    "series=pd.Series((df), name=\"Type_Num\")\n",
    "series\n"
   ]
  },
  {
   "cell_type": "code",
   "execution_count": 163,
   "id": "35801512",
   "metadata": {},
   "outputs": [
    {
     "data": {
      "text/html": [
       "<div>\n",
       "<style scoped>\n",
       "    .dataframe tbody tr th:only-of-type {\n",
       "        vertical-align: middle;\n",
       "    }\n",
       "\n",
       "    .dataframe tbody tr th {\n",
       "        vertical-align: top;\n",
       "    }\n",
       "\n",
       "    .dataframe thead th {\n",
       "        text-align: right;\n",
       "    }\n",
       "</style>\n",
       "<table border=\"1\" class=\"dataframe\">\n",
       "  <thead>\n",
       "    <tr style=\"text-align: right;\">\n",
       "      <th></th>\n",
       "      <th>Year</th>\n",
       "      <th>Type</th>\n",
       "      <th>Year_int</th>\n",
       "      <th>Type_Num</th>\n",
       "    </tr>\n",
       "  </thead>\n",
       "  <tbody>\n",
       "    <tr>\n",
       "      <th>0</th>\n",
       "      <td>2020</td>\n",
       "      <td>Espionage</td>\n",
       "      <td>2020.0</td>\n",
       "      <td>5.0</td>\n",
       "    </tr>\n",
       "    <tr>\n",
       "      <th>1</th>\n",
       "      <td>2020</td>\n",
       "      <td>Espionage</td>\n",
       "      <td>2020.0</td>\n",
       "      <td>5.0</td>\n",
       "    </tr>\n",
       "    <tr>\n",
       "      <th>2</th>\n",
       "      <td>2020</td>\n",
       "      <td>Data destruction</td>\n",
       "      <td>2020.0</td>\n",
       "      <td>1.0</td>\n",
       "    </tr>\n",
       "    <tr>\n",
       "      <th>3</th>\n",
       "      <td>2020</td>\n",
       "      <td>Espionage</td>\n",
       "      <td>2020.0</td>\n",
       "      <td>5.0</td>\n",
       "    </tr>\n",
       "    <tr>\n",
       "      <th>4</th>\n",
       "      <td>2020</td>\n",
       "      <td>Espionage</td>\n",
       "      <td>2020.0</td>\n",
       "      <td>5.0</td>\n",
       "    </tr>\n",
       "    <tr>\n",
       "      <th>...</th>\n",
       "      <td>...</td>\n",
       "      <td>...</td>\n",
       "      <td>...</td>\n",
       "      <td>...</td>\n",
       "    </tr>\n",
       "    <tr>\n",
       "      <th>519</th>\n",
       "      <td>2020</td>\n",
       "      <td>Malware</td>\n",
       "      <td>2020.0</td>\n",
       "      <td>NaN</td>\n",
       "    </tr>\n",
       "    <tr>\n",
       "      <th>520</th>\n",
       "      <td>2020</td>\n",
       "      <td>Other cyber incident</td>\n",
       "      <td>2020.0</td>\n",
       "      <td>NaN</td>\n",
       "    </tr>\n",
       "    <tr>\n",
       "      <th>521</th>\n",
       "      <td>2020</td>\n",
       "      <td>Phishing</td>\n",
       "      <td>2020.0</td>\n",
       "      <td>NaN</td>\n",
       "    </tr>\n",
       "    <tr>\n",
       "      <th>522</th>\n",
       "      <td>2020</td>\n",
       "      <td>Ransomware</td>\n",
       "      <td>2020.0</td>\n",
       "      <td>NaN</td>\n",
       "    </tr>\n",
       "    <tr>\n",
       "      <th>523</th>\n",
       "      <td>2020</td>\n",
       "      <td>Unauthorised access</td>\n",
       "      <td>2020.0</td>\n",
       "      <td>NaN</td>\n",
       "    </tr>\n",
       "  </tbody>\n",
       "</table>\n",
       "<p>524 rows × 4 columns</p>\n",
       "</div>"
      ],
      "text/plain": [
       "     Year                  Type  Year_int  Type_Num\n",
       "0    2020             Espionage    2020.0       5.0\n",
       "1    2020             Espionage    2020.0       5.0\n",
       "2    2020      Data destruction    2020.0       1.0\n",
       "3    2020             Espionage    2020.0       5.0\n",
       "4    2020             Espionage    2020.0       5.0\n",
       "..    ...                   ...       ...       ...\n",
       "519  2020               Malware    2020.0       NaN\n",
       "520  2020  Other cyber incident    2020.0       NaN\n",
       "521  2020              Phishing    2020.0       NaN\n",
       "522  2020            Ransomware    2020.0       NaN\n",
       "523  2020   Unauthorised access    2020.0       NaN\n",
       "\n",
       "[524 rows x 4 columns]"
      ]
     },
     "execution_count": 163,
     "metadata": {},
     "output_type": "execute_result"
    }
   ],
   "source": [
    "big_df=pd.concat([big_df, series], axis=1)\n",
    "\n",
    "big_df\n"
   ]
  },
  {
   "cell_type": "code",
   "execution_count": 164,
   "id": "419efe2e",
   "metadata": {},
   "outputs": [
    {
     "data": {
      "text/html": [
       "<div>\n",
       "<style scoped>\n",
       "    .dataframe tbody tr th:only-of-type {\n",
       "        vertical-align: middle;\n",
       "    }\n",
       "\n",
       "    .dataframe tbody tr th {\n",
       "        vertical-align: top;\n",
       "    }\n",
       "\n",
       "    .dataframe thead th {\n",
       "        text-align: right;\n",
       "    }\n",
       "</style>\n",
       "<table border=\"1\" class=\"dataframe\">\n",
       "  <thead>\n",
       "    <tr style=\"text-align: right;\">\n",
       "      <th></th>\n",
       "      <th>Year</th>\n",
       "      <th>Type</th>\n",
       "      <th>Year_int</th>\n",
       "      <th>Type_Num</th>\n",
       "    </tr>\n",
       "  </thead>\n",
       "  <tbody>\n",
       "    <tr>\n",
       "      <th>0</th>\n",
       "      <td>2020</td>\n",
       "      <td>Espionage</td>\n",
       "      <td>2020.0</td>\n",
       "      <td>5.0</td>\n",
       "    </tr>\n",
       "    <tr>\n",
       "      <th>1</th>\n",
       "      <td>2020</td>\n",
       "      <td>Espionage</td>\n",
       "      <td>2020.0</td>\n",
       "      <td>5.0</td>\n",
       "    </tr>\n",
       "    <tr>\n",
       "      <th>2</th>\n",
       "      <td>2020</td>\n",
       "      <td>Data destruction</td>\n",
       "      <td>2020.0</td>\n",
       "      <td>1.0</td>\n",
       "    </tr>\n",
       "    <tr>\n",
       "      <th>3</th>\n",
       "      <td>2020</td>\n",
       "      <td>Espionage</td>\n",
       "      <td>2020.0</td>\n",
       "      <td>5.0</td>\n",
       "    </tr>\n",
       "    <tr>\n",
       "      <th>4</th>\n",
       "      <td>2020</td>\n",
       "      <td>Espionage</td>\n",
       "      <td>2020.0</td>\n",
       "      <td>5.0</td>\n",
       "    </tr>\n",
       "    <tr>\n",
       "      <th>...</th>\n",
       "      <td>...</td>\n",
       "      <td>...</td>\n",
       "      <td>...</td>\n",
       "      <td>...</td>\n",
       "    </tr>\n",
       "    <tr>\n",
       "      <th>488</th>\n",
       "      <td>2019</td>\n",
       "      <td>Brute Force</td>\n",
       "      <td>2019.0</td>\n",
       "      <td>8.0</td>\n",
       "    </tr>\n",
       "    <tr>\n",
       "      <th>489</th>\n",
       "      <td>2019</td>\n",
       "      <td>Hardware/software misconfiguration</td>\n",
       "      <td>2019.0</td>\n",
       "      <td>9.0</td>\n",
       "    </tr>\n",
       "    <tr>\n",
       "      <th>490</th>\n",
       "      <td>2019</td>\n",
       "      <td>Malware</td>\n",
       "      <td>2019.0</td>\n",
       "      <td>10.0</td>\n",
       "    </tr>\n",
       "    <tr>\n",
       "      <th>491</th>\n",
       "      <td>2019</td>\n",
       "      <td>Other cyber incident</td>\n",
       "      <td>2019.0</td>\n",
       "      <td>11.0</td>\n",
       "    </tr>\n",
       "    <tr>\n",
       "      <th>492</th>\n",
       "      <td>2019</td>\n",
       "      <td>Phishing</td>\n",
       "      <td>2019.0</td>\n",
       "      <td>13.0</td>\n",
       "    </tr>\n",
       "  </tbody>\n",
       "</table>\n",
       "<p>462 rows × 4 columns</p>\n",
       "</div>"
      ],
      "text/plain": [
       "     Year                                Type  Year_int  Type_Num\n",
       "0    2020                           Espionage    2020.0       5.0\n",
       "1    2020                           Espionage    2020.0       5.0\n",
       "2    2020                    Data destruction    2020.0       1.0\n",
       "3    2020                           Espionage    2020.0       5.0\n",
       "4    2020                           Espionage    2020.0       5.0\n",
       "..    ...                                 ...       ...       ...\n",
       "488  2019                         Brute Force    2019.0       8.0\n",
       "489  2019  Hardware/software misconfiguration    2019.0       9.0\n",
       "490  2019                             Malware    2019.0      10.0\n",
       "491  2019                Other cyber incident    2019.0      11.0\n",
       "492  2019                            Phishing    2019.0      13.0\n",
       "\n",
       "[462 rows x 4 columns]"
      ]
     },
     "execution_count": 164,
     "metadata": {},
     "output_type": "execute_result"
    }
   ],
   "source": [
    "big_df.isnull().sum()\n",
    "big_df.dropna(inplace=True)\n",
    "big_df.isnull().sum()\n",
    "big_df\n"
   ]
  },
  {
   "cell_type": "code",
   "execution_count": 165,
   "id": "89900a10",
   "metadata": {},
   "outputs": [
    {
     "data": {
      "text/plain": [
       "array(['2020', '2019', '2018', '2017', '2016', '2015', '2014', '2013',\n",
       "       '2012', '2011', '2010', '2009', '2008', '2007', '2006', '2005'],\n",
       "      dtype=object)"
      ]
     },
     "execution_count": 165,
     "metadata": {},
     "output_type": "execute_result"
    }
   ],
   "source": [
    "big_df.Year.unique()"
   ]
  },
  {
   "cell_type": "code",
   "execution_count": 166,
   "id": "5232ae83",
   "metadata": {},
   "outputs": [
    {
     "data": {
      "text/html": [
       "<div>\n",
       "<style scoped>\n",
       "    .dataframe tbody tr th:only-of-type {\n",
       "        vertical-align: middle;\n",
       "    }\n",
       "\n",
       "    .dataframe tbody tr th {\n",
       "        vertical-align: top;\n",
       "    }\n",
       "\n",
       "    .dataframe thead th {\n",
       "        text-align: right;\n",
       "    }\n",
       "</style>\n",
       "<table border=\"1\" class=\"dataframe\">\n",
       "  <thead>\n",
       "    <tr style=\"text-align: right;\">\n",
       "      <th></th>\n",
       "      <th>Year_int</th>\n",
       "      <th>Count</th>\n",
       "    </tr>\n",
       "  </thead>\n",
       "  <tbody>\n",
       "    <tr>\n",
       "      <th>0</th>\n",
       "      <td>2005.0</td>\n",
       "      <td>1</td>\n",
       "    </tr>\n",
       "    <tr>\n",
       "      <th>1</th>\n",
       "      <td>2006.0</td>\n",
       "      <td>3</td>\n",
       "    </tr>\n",
       "    <tr>\n",
       "      <th>2</th>\n",
       "      <td>2007.0</td>\n",
       "      <td>10</td>\n",
       "    </tr>\n",
       "    <tr>\n",
       "      <th>3</th>\n",
       "      <td>2008.0</td>\n",
       "      <td>7</td>\n",
       "    </tr>\n",
       "    <tr>\n",
       "      <th>4</th>\n",
       "      <td>2009.0</td>\n",
       "      <td>4</td>\n",
       "    </tr>\n",
       "    <tr>\n",
       "      <th>5</th>\n",
       "      <td>2010.0</td>\n",
       "      <td>9</td>\n",
       "    </tr>\n",
       "    <tr>\n",
       "      <th>6</th>\n",
       "      <td>2011.0</td>\n",
       "      <td>14</td>\n",
       "    </tr>\n",
       "    <tr>\n",
       "      <th>7</th>\n",
       "      <td>2012.0</td>\n",
       "      <td>12</td>\n",
       "    </tr>\n",
       "    <tr>\n",
       "      <th>8</th>\n",
       "      <td>2013.0</td>\n",
       "      <td>19</td>\n",
       "    </tr>\n",
       "    <tr>\n",
       "      <th>9</th>\n",
       "      <td>2014.0</td>\n",
       "      <td>34</td>\n",
       "    </tr>\n",
       "    <tr>\n",
       "      <th>10</th>\n",
       "      <td>2015.0</td>\n",
       "      <td>33</td>\n",
       "    </tr>\n",
       "    <tr>\n",
       "      <th>11</th>\n",
       "      <td>2016.0</td>\n",
       "      <td>33</td>\n",
       "    </tr>\n",
       "    <tr>\n",
       "      <th>12</th>\n",
       "      <td>2017.0</td>\n",
       "      <td>45</td>\n",
       "    </tr>\n",
       "    <tr>\n",
       "      <th>13</th>\n",
       "      <td>2018.0</td>\n",
       "      <td>76</td>\n",
       "    </tr>\n",
       "    <tr>\n",
       "      <th>14</th>\n",
       "      <td>2019.0</td>\n",
       "      <td>85</td>\n",
       "    </tr>\n",
       "    <tr>\n",
       "      <th>15</th>\n",
       "      <td>2020.0</td>\n",
       "      <td>77</td>\n",
       "    </tr>\n",
       "  </tbody>\n",
       "</table>\n",
       "</div>"
      ],
      "text/plain": [
       "    Year_int  Count\n",
       "0     2005.0      1\n",
       "1     2006.0      3\n",
       "2     2007.0     10\n",
       "3     2008.0      7\n",
       "4     2009.0      4\n",
       "5     2010.0      9\n",
       "6     2011.0     14\n",
       "7     2012.0     12\n",
       "8     2013.0     19\n",
       "9     2014.0     34\n",
       "10    2015.0     33\n",
       "11    2016.0     33\n",
       "12    2017.0     45\n",
       "13    2018.0     76\n",
       "14    2019.0     85\n",
       "15    2020.0     77"
      ]
     },
     "execution_count": 166,
     "metadata": {},
     "output_type": "execute_result"
    }
   ],
   "source": [
    "grouped_df = big_df.groupby(['Year_int']).size().reset_index(name=\"Count\")\n",
    "grouped_df"
   ]
  },
  {
   "cell_type": "code",
   "execution_count": 156,
   "id": "f9519f85",
   "metadata": {},
   "outputs": [
    {
     "data": {
      "image/png": "[encoded data removed]",
      "text/plain": [
       "<Figure size 432x288 with 1 Axes>"
      ]
     },
     "metadata": {
      "needs_background": "light"
     },
     "output_type": "display_data"
    }
   ],
   "source": [
    "#Hypothesis Testing:Onthe combined dataset:\n",
    "import matplotlib\n",
    "from matplotlib import pyplot\n",
    "%matplotlib inline\n",
    "\n",
    "FirstSample = grouped_df[1:100]['Year_int']\n",
    "SecondSample = grouped_df[1:100]['Count']\n",
    "pyplot.plot(FirstSample, SecondSample)\n",
    "pyplot.show()"
   ]
  },
  {
   "cell_type": "code",
   "execution_count": 167,
   "id": "80afcea0",
   "metadata": {},
   "outputs": [
    {
     "name": "stdout",
     "output_type": "stream",
     "text": [
      "stat=0.913623, p=0.000002\n",
      "Dependent Samples\n"
     ]
    }
   ],
   "source": [
    "#Hypothesis testing using Pearson Correlation between teh Year and Type variables for the combined dataset\n",
    "from scipy.stats import pearsonr\n",
    "stat, p = pearsonr(FirstSample, SecondSample)\n",
    "print('stat=%3f, p=%5f' % (stat, p))\n",
    "\n",
    "if p > 0.05:\n",
    "    print('Independent Samples')\n",
    "else:\n",
    "    print('Dependent Samples')"
   ]
  },
  {
   "cell_type": "code",
   "execution_count": 168,
   "id": "5a086a22",
   "metadata": {},
   "outputs": [
    {
     "data": {
      "text/html": [
       "<div>\n",
       "<style scoped>\n",
       "    .dataframe tbody tr th:only-of-type {\n",
       "        vertical-align: middle;\n",
       "    }\n",
       "\n",
       "    .dataframe tbody tr th {\n",
       "        vertical-align: top;\n",
       "    }\n",
       "\n",
       "    .dataframe thead th {\n",
       "        text-align: right;\n",
       "    }\n",
       "</style>\n",
       "<table border=\"1\" class=\"dataframe\">\n",
       "  <thead>\n",
       "    <tr style=\"text-align: right;\">\n",
       "      <th></th>\n",
       "      <th>Year_int</th>\n",
       "      <th>Count</th>\n",
       "    </tr>\n",
       "  </thead>\n",
       "  <tbody>\n",
       "    <tr>\n",
       "      <th>Year_int</th>\n",
       "      <td>1.000000</td>\n",
       "      <td>0.910558</td>\n",
       "    </tr>\n",
       "    <tr>\n",
       "      <th>Count</th>\n",
       "      <td>0.910558</td>\n",
       "      <td>1.000000</td>\n",
       "    </tr>\n",
       "  </tbody>\n",
       "</table>\n",
       "</div>"
      ],
      "text/plain": [
       "          Year_int     Count\n",
       "Year_int  1.000000  0.910558\n",
       "Count     0.910558  1.000000"
      ]
     },
     "execution_count": 168,
     "metadata": {},
     "output_type": "execute_result"
    }
   ],
   "source": [
    "#correlation of combined file\n",
    "\n",
    "grouped_df.head()\n",
    "\n",
    "grouped_df.corr()"
   ]
  },
  {
   "cell_type": "code",
   "execution_count": 169,
   "id": "077b61b5",
   "metadata": {},
   "outputs": [
    {
     "data": {
      "text/html": [
       "<div>\n",
       "<style scoped>\n",
       "    .dataframe tbody tr th:only-of-type {\n",
       "        vertical-align: middle;\n",
       "    }\n",
       "\n",
       "    .dataframe tbody tr th {\n",
       "        vertical-align: top;\n",
       "    }\n",
       "\n",
       "    .dataframe thead th {\n",
       "        text-align: right;\n",
       "    }\n",
       "</style>\n",
       "<table border=\"1\" class=\"dataframe\">\n",
       "  <thead>\n",
       "    <tr style=\"text-align: right;\">\n",
       "      <th></th>\n",
       "      <th>Year_int</th>\n",
       "      <th>Count</th>\n",
       "    </tr>\n",
       "  </thead>\n",
       "  <tbody>\n",
       "    <tr>\n",
       "      <th>Year_int</th>\n",
       "      <td>22.666667</td>\n",
       "      <td>122.133333</td>\n",
       "    </tr>\n",
       "    <tr>\n",
       "      <th>Count</th>\n",
       "      <td>122.133333</td>\n",
       "      <td>793.716667</td>\n",
       "    </tr>\n",
       "  </tbody>\n",
       "</table>\n",
       "</div>"
      ],
      "text/plain": [
       "            Year_int       Count\n",
       "Year_int   22.666667  122.133333\n",
       "Count     122.133333  793.716667"
      ]
     },
     "execution_count": 169,
     "metadata": {},
     "output_type": "execute_result"
    }
   ],
   "source": [
    "#covariance of combined file\n",
    "grouped_df.cov()"
   ]
  },
  {
   "cell_type": "code",
   "execution_count": 170,
   "id": "60536bae",
   "metadata": {},
   "outputs": [
    {
     "data": {
      "text/html": [
       "<div>\n",
       "<style scoped>\n",
       "    .dataframe tbody tr th:only-of-type {\n",
       "        vertical-align: middle;\n",
       "    }\n",
       "\n",
       "    .dataframe tbody tr th {\n",
       "        vertical-align: top;\n",
       "    }\n",
       "\n",
       "    .dataframe thead th {\n",
       "        text-align: right;\n",
       "    }\n",
       "</style>\n",
       "<table border=\"1\" class=\"dataframe\">\n",
       "  <thead>\n",
       "    <tr style=\"text-align: right;\">\n",
       "      <th></th>\n",
       "      <th>Year_int</th>\n",
       "      <th>Count</th>\n",
       "    </tr>\n",
       "  </thead>\n",
       "  <tbody>\n",
       "    <tr>\n",
       "      <th>0</th>\n",
       "      <td>2005.0</td>\n",
       "      <td>1</td>\n",
       "    </tr>\n",
       "    <tr>\n",
       "      <th>1</th>\n",
       "      <td>2006.0</td>\n",
       "      <td>3</td>\n",
       "    </tr>\n",
       "    <tr>\n",
       "      <th>2</th>\n",
       "      <td>2007.0</td>\n",
       "      <td>10</td>\n",
       "    </tr>\n",
       "    <tr>\n",
       "      <th>3</th>\n",
       "      <td>2008.0</td>\n",
       "      <td>7</td>\n",
       "    </tr>\n",
       "    <tr>\n",
       "      <th>4</th>\n",
       "      <td>2009.0</td>\n",
       "      <td>4</td>\n",
       "    </tr>\n",
       "  </tbody>\n",
       "</table>\n",
       "</div>"
      ],
      "text/plain": [
       "   Year_int  Count\n",
       "0    2005.0      1\n",
       "1    2006.0      3\n",
       "2    2007.0     10\n",
       "3    2008.0      7\n",
       "4    2009.0      4"
      ]
     },
     "execution_count": 170,
     "metadata": {},
     "output_type": "execute_result"
    }
   ],
   "source": [
    "##### Regression Analysis for variables in the combined dataset.  This includes Incident Type Independent variable and\n",
    "#Year Dependent variable\n",
    "\n",
    "import pandas as pd\n",
    "from statsmodels.formula.api import ols\n",
    "from scipy import stats\n",
    "import statsmodels.api as sm\n",
    "\n",
    "grouped_df.head()"
   ]
  },
  {
   "cell_type": "code",
   "execution_count": 173,
   "id": "a90e774a",
   "metadata": {},
   "outputs": [
    {
     "name": "stderr",
     "output_type": "stream",
     "text": [
      "C:\\Users\\saima\\anaconda3\\envs\\srahmanzaiDSC530\\lib\\site-packages\\scipy\\stats\\stats.py:1541: UserWarning: kurtosistest only valid for n>=20 ... continuing anyway, n=16\n",
      "  warnings.warn(\"kurtosistest only valid for n>=20 ... continuing \"\n"
     ]
    },
    {
     "data": {
      "text/html": [
       "<table class=\"simpletable\">\n",
       "<caption>OLS Regression Results</caption>\n",
       "<tr>\n",
       "  <th>Dep. Variable:</th>        <td>Year_int</td>     <th>  R-squared:         </th> <td>   0.829</td>\n",
       "</tr>\n",
       "<tr>\n",
       "  <th>Model:</th>                   <td>OLS</td>       <th>  Adj. R-squared:    </th> <td>   0.817</td>\n",
       "</tr>\n",
       "<tr>\n",
       "  <th>Method:</th>             <td>Least Squares</td>  <th>  F-statistic:       </th> <td>   67.93</td>\n",
       "</tr>\n",
       "<tr>\n",
       "  <th>Date:</th>             <td>Fri, 04 Mar 2022</td> <th>  Prob (F-statistic):</th> <td>9.67e-07</td>\n",
       "</tr>\n",
       "<tr>\n",
       "  <th>Time:</th>                 <td>00:50:56</td>     <th>  Log-Likelihood:    </th> <td> -33.020</td>\n",
       "</tr>\n",
       "<tr>\n",
       "  <th>No. Observations:</th>      <td>    16</td>      <th>  AIC:               </th> <td>   70.04</td>\n",
       "</tr>\n",
       "<tr>\n",
       "  <th>Df Residuals:</th>          <td>    14</td>      <th>  BIC:               </th> <td>   71.58</td>\n",
       "</tr>\n",
       "<tr>\n",
       "  <th>Df Model:</th>              <td>     1</td>      <th>                     </th>     <td> </td>   \n",
       "</tr>\n",
       "<tr>\n",
       "  <th>Covariance Type:</th>      <td>nonrobust</td>    <th>                     </th>     <td> </td>   \n",
       "</tr>\n",
       "</table>\n",
       "<table class=\"simpletable\">\n",
       "<tr>\n",
       "      <td></td>         <th>coef</th>     <th>std err</th>      <th>t</th>      <th>P>|t|</th>  <th>[0.025</th>    <th>0.975]</th>  \n",
       "</tr>\n",
       "<tr>\n",
       "  <th>Intercept</th> <td> 2008.0569</td> <td>    0.742</td> <td> 2707.646</td> <td> 0.000</td> <td> 2006.466</td> <td> 2009.647</td>\n",
       "</tr>\n",
       "<tr>\n",
       "  <th>Count</th>     <td>    0.1539</td> <td>    0.019</td> <td>    8.242</td> <td> 0.000</td> <td>    0.114</td> <td>    0.194</td>\n",
       "</tr>\n",
       "</table>\n",
       "<table class=\"simpletable\">\n",
       "<tr>\n",
       "  <th>Omnibus:</th>       <td> 3.229</td> <th>  Durbin-Watson:     </th> <td>   0.528</td>\n",
       "</tr>\n",
       "<tr>\n",
       "  <th>Prob(Omnibus):</th> <td> 0.199</td> <th>  Jarque-Bera (JB):  </th> <td>   1.295</td>\n",
       "</tr>\n",
       "<tr>\n",
       "  <th>Skew:</th>          <td>-0.238</td> <th>  Prob(JB):          </th> <td>   0.523</td>\n",
       "</tr>\n",
       "<tr>\n",
       "  <th>Kurtosis:</th>      <td> 1.690</td> <th>  Cond. No.          </th> <td>    57.9</td>\n",
       "</tr>\n",
       "</table><br/><br/>Notes:<br/>[1] Standard Errors assume that the covariance matrix of the errors is correctly specified."
      ],
      "text/plain": [
       "<class 'statsmodels.iolib.summary.Summary'>\n",
       "\"\"\"\n",
       "                            OLS Regression Results                            \n",
       "==============================================================================\n",
       "Dep. Variable:               Year_int   R-squared:                       0.829\n",
       "Model:                            OLS   Adj. R-squared:                  0.817\n",
       "Method:                 Least Squares   F-statistic:                     67.93\n",
       "Date:                Fri, 04 Mar 2022   Prob (F-statistic):           9.67e-07\n",
       "Time:                        00:50:56   Log-Likelihood:                -33.020\n",
       "No. Observations:                  16   AIC:                             70.04\n",
       "Df Residuals:                      14   BIC:                             71.58\n",
       "Df Model:                           1                                         \n",
       "Covariance Type:            nonrobust                                         \n",
       "==============================================================================\n",
       "                 coef    std err          t      P>|t|      [0.025      0.975]\n",
       "------------------------------------------------------------------------------\n",
       "Intercept   2008.0569      0.742   2707.646      0.000    2006.466    2009.647\n",
       "Count          0.1539      0.019      8.242      0.000       0.114       0.194\n",
       "==============================================================================\n",
       "Omnibus:                        3.229   Durbin-Watson:                   0.528\n",
       "Prob(Omnibus):                  0.199   Jarque-Bera (JB):                1.295\n",
       "Skew:                          -0.238   Prob(JB):                        0.523\n",
       "Kurtosis:                       1.690   Cond. No.                         57.9\n",
       "==============================================================================\n",
       "\n",
       "Notes:\n",
       "[1] Standard Errors assume that the covariance matrix of the errors is correctly specified.\n",
       "\"\"\""
      ]
     },
     "execution_count": 173,
     "metadata": {},
     "output_type": "execute_result"
    }
   ],
   "source": [
    "reg=ols(\"Year_int ~ Count\", grouped_df).fit()\n",
    "reg.summary()"
   ]
  },
  {
   "cell_type": "code",
   "execution_count": null,
   "id": "4e4532f5",
   "metadata": {},
   "outputs": [],
   "source": [
    "#PMF, CDF etc. on Combined file below.  It was done earlier on Dataset2"
   ]
  },
  {
   "cell_type": "code",
   "execution_count": null,
   "id": "bbf5bd2d",
   "metadata": {},
   "outputs": [],
   "source": [
    "#PMF:  Comvined dataset on field Type\n",
    "#Type_category=cyberopsfinal_df.groupby(['Type']).count()\n",
    "#Type_category"
   ]
  },
  {
   "cell_type": "code",
   "execution_count": 191,
   "id": "f4a2aaa7",
   "metadata": {},
   "outputs": [
    {
     "data": {
      "text/plain": [
       "Espionage                             371\n",
       "Sabotage                               22\n",
       "Denial of service                      18\n",
       "Data destruction                       14\n",
       "Financial Theft                         7\n",
       "Doxing                                  6\n",
       "Defacement                              5\n",
       "Brute Force                             3\n",
       "Hardware/software misconfiguration      3\n",
       "Malware                                 3\n",
       "Other cyber incident                    3\n",
       "Phishing                                3\n",
       "Unauthorised access                     2\n",
       "Ransomware                              2\n",
       "Name: Type, dtype: int64"
      ]
     },
     "execution_count": 191,
     "metadata": {},
     "output_type": "execute_result"
    }
   ],
   "source": [
    "df_1 = big_df[\"Type\"].value_counts()\n",
    "df_1"
   ]
  },
  {
   "cell_type": "code",
   "execution_count": 192,
   "id": "3f3921f2",
   "metadata": {},
   "outputs": [
    {
     "data": {
      "text/plain": [
       "14"
      ]
     },
     "execution_count": 192,
     "metadata": {},
     "output_type": "execute_result"
    }
   ],
   "source": [
    "sum1 = len(big_df[\"Type\"].value_counts())\n",
    "sum1"
   ]
  },
  {
   "cell_type": "code",
   "execution_count": 193,
   "id": "6ad4611b",
   "metadata": {},
   "outputs": [],
   "source": [
    "df_2=pd.DataFrame(df_1)"
   ]
  },
  {
   "cell_type": "code",
   "execution_count": 194,
   "id": "619e1d14",
   "metadata": {},
   "outputs": [],
   "source": [
    "df_2[\"item\"]=df_2.index"
   ]
  },
  {
   "cell_type": "code",
   "execution_count": 195,
   "id": "2f7bf15c",
   "metadata": {},
   "outputs": [
    {
     "data": {
      "text/html": [
       "<div>\n",
       "<style scoped>\n",
       "    .dataframe tbody tr th:only-of-type {\n",
       "        vertical-align: middle;\n",
       "    }\n",
       "\n",
       "    .dataframe tbody tr th {\n",
       "        vertical-align: top;\n",
       "    }\n",
       "\n",
       "    .dataframe thead th {\n",
       "        text-align: right;\n",
       "    }\n",
       "</style>\n",
       "<table border=\"1\" class=\"dataframe\">\n",
       "  <thead>\n",
       "    <tr style=\"text-align: right;\">\n",
       "      <th></th>\n",
       "      <th>Type</th>\n",
       "      <th>item</th>\n",
       "      <th>probability</th>\n",
       "    </tr>\n",
       "  </thead>\n",
       "  <tbody>\n",
       "    <tr>\n",
       "      <th>Espionage</th>\n",
       "      <td>371</td>\n",
       "      <td>Espionage</td>\n",
       "      <td>26.500000</td>\n",
       "    </tr>\n",
       "    <tr>\n",
       "      <th>Sabotage</th>\n",
       "      <td>22</td>\n",
       "      <td>Sabotage</td>\n",
       "      <td>1.571429</td>\n",
       "    </tr>\n",
       "    <tr>\n",
       "      <th>Denial of service</th>\n",
       "      <td>18</td>\n",
       "      <td>Denial of service</td>\n",
       "      <td>1.285714</td>\n",
       "    </tr>\n",
       "    <tr>\n",
       "      <th>Data destruction</th>\n",
       "      <td>14</td>\n",
       "      <td>Data destruction</td>\n",
       "      <td>1.000000</td>\n",
       "    </tr>\n",
       "    <tr>\n",
       "      <th>Financial Theft</th>\n",
       "      <td>7</td>\n",
       "      <td>Financial Theft</td>\n",
       "      <td>0.500000</td>\n",
       "    </tr>\n",
       "    <tr>\n",
       "      <th>Doxing</th>\n",
       "      <td>6</td>\n",
       "      <td>Doxing</td>\n",
       "      <td>0.428571</td>\n",
       "    </tr>\n",
       "    <tr>\n",
       "      <th>Defacement</th>\n",
       "      <td>5</td>\n",
       "      <td>Defacement</td>\n",
       "      <td>0.357143</td>\n",
       "    </tr>\n",
       "    <tr>\n",
       "      <th>Brute Force</th>\n",
       "      <td>3</td>\n",
       "      <td>Brute Force</td>\n",
       "      <td>0.214286</td>\n",
       "    </tr>\n",
       "    <tr>\n",
       "      <th>Hardware/software misconfiguration</th>\n",
       "      <td>3</td>\n",
       "      <td>Hardware/software misconfiguration</td>\n",
       "      <td>0.214286</td>\n",
       "    </tr>\n",
       "    <tr>\n",
       "      <th>Malware</th>\n",
       "      <td>3</td>\n",
       "      <td>Malware</td>\n",
       "      <td>0.214286</td>\n",
       "    </tr>\n",
       "    <tr>\n",
       "      <th>Other cyber incident</th>\n",
       "      <td>3</td>\n",
       "      <td>Other cyber incident</td>\n",
       "      <td>0.214286</td>\n",
       "    </tr>\n",
       "    <tr>\n",
       "      <th>Phishing</th>\n",
       "      <td>3</td>\n",
       "      <td>Phishing</td>\n",
       "      <td>0.214286</td>\n",
       "    </tr>\n",
       "    <tr>\n",
       "      <th>Unauthorised access</th>\n",
       "      <td>2</td>\n",
       "      <td>Unauthorised access</td>\n",
       "      <td>0.142857</td>\n",
       "    </tr>\n",
       "    <tr>\n",
       "      <th>Ransomware</th>\n",
       "      <td>2</td>\n",
       "      <td>Ransomware</td>\n",
       "      <td>0.142857</td>\n",
       "    </tr>\n",
       "  </tbody>\n",
       "</table>\n",
       "</div>"
      ],
      "text/plain": [
       "                                    Type                                item  \\\n",
       "Espionage                            371                           Espionage   \n",
       "Sabotage                              22                            Sabotage   \n",
       "Denial of service                     18                   Denial of service   \n",
       "Data destruction                      14                    Data destruction   \n",
       "Financial Theft                        7                     Financial Theft   \n",
       "Doxing                                 6                              Doxing   \n",
       "Defacement                             5                          Defacement   \n",
       "Brute Force                            3                         Brute Force   \n",
       "Hardware/software misconfiguration     3  Hardware/software misconfiguration   \n",
       "Malware                                3                             Malware   \n",
       "Other cyber incident                   3                Other cyber incident   \n",
       "Phishing                               3                            Phishing   \n",
       "Unauthorised access                    2                 Unauthorised access   \n",
       "Ransomware                             2                          Ransomware   \n",
       "\n",
       "                                    probability  \n",
       "Espionage                             26.500000  \n",
       "Sabotage                               1.571429  \n",
       "Denial of service                      1.285714  \n",
       "Data destruction                       1.000000  \n",
       "Financial Theft                        0.500000  \n",
       "Doxing                                 0.428571  \n",
       "Defacement                             0.357143  \n",
       "Brute Force                            0.214286  \n",
       "Hardware/software misconfiguration     0.214286  \n",
       "Malware                                0.214286  \n",
       "Other cyber incident                   0.214286  \n",
       "Phishing                               0.214286  \n",
       "Unauthorised access                    0.142857  \n",
       "Ransomware                             0.142857  "
      ]
     },
     "execution_count": 195,
     "metadata": {},
     "output_type": "execute_result"
    }
   ],
   "source": [
    "df_2['probability']=df_2['Type']/sum1\n",
    "df_2"
   ]
  },
  {
   "cell_type": "code",
   "execution_count": 197,
   "id": "0dd08044",
   "metadata": {},
   "outputs": [
    {
     "data": {
      "image/png": "[encoded data removed]",
      "text/plain": [
       "<Figure size 432x288 with 1 Axes>"
      ]
     },
     "metadata": {
      "needs_background": "light"
     },
     "output_type": "display_data"
    }
   ],
   "source": [
    "plt.bar(df_2['item'], df_2['probability'], color='r')\n",
    "plt.xticks(rotation=90)\n",
    "plt.show()"
   ]
  },
  {
   "cell_type": "code",
   "execution_count": 198,
   "id": "68424cba",
   "metadata": {},
   "outputs": [],
   "source": [
    "#CDF:  Combined Dataset on field Type\n",
    "import seaborn as sns\n",
    "sns.set()"
   ]
  },
  {
   "cell_type": "code",
   "execution_count": 199,
   "id": "44eb2e60",
   "metadata": {},
   "outputs": [],
   "source": [
    "#first create normal distribution and generate random values\n",
    "np.random.seed(0)\n",
    "X_rand = np.random.normal(loc=0, scale=1.0, size=1000)"
   ]
  },
  {
   "cell_type": "code",
   "execution_count": 200,
   "id": "f39139ef",
   "metadata": {},
   "outputs": [
    {
     "data": {
      "text/plain": [
       "(array([  3.,   6.,   9.,  11.,  30.,  40.,  59.,  87., 103., 114., 116.,\n",
       "        123.,  83.,  77.,  48.,  38.,  22.,  16.,  11.,   4.]),\n",
       " array([-3.04614305, -2.75586815, -2.46559324, -2.17531833, -1.88504342,\n",
       "        -1.59476851, -1.3044936 , -1.0142187 , -0.72394379, -0.43366888,\n",
       "        -0.14339397,  0.14688094,  0.43715585,  0.72743075,  1.01770566,\n",
       "         1.30798057,  1.59825548,  1.88853039,  2.1788053 ,  2.46908021,\n",
       "         2.75935511]),\n",
       " <BarContainer object of 20 artists>)"
      ]
     },
     "execution_count": 200,
     "metadata": {},
     "output_type": "execute_result"
    },
    {
     "data": {
      "image/png": "[encoded data removed]",
      "text/plain": [
       "<Figure size 432x288 with 1 Axes>"
      ]
     },
     "metadata": {},
     "output_type": "display_data"
    }
   ],
   "source": [
    "#Now visualize the above\n",
    "plt.hist(X_rand, bins=20)"
   ]
  },
  {
   "cell_type": "code",
   "execution_count": 201,
   "id": "d2350377",
   "metadata": {},
   "outputs": [
    {
     "name": "stderr",
     "output_type": "stream",
     "text": [
      "C:\\Users\\saima\\anaconda3\\envs\\srahmanzaiDSC530\\lib\\site-packages\\seaborn\\distributions.py:2619: FutureWarning: `distplot` is a deprecated function and will be removed in a future version. Please adapt your code to use either `displot` (a figure-level function with similar flexibility) or `histplot` (an axes-level function for histograms).\n",
      "  warnings.warn(msg, FutureWarning)\n"
     ]
    },
    {
     "data": {
      "text/plain": [
       "<AxesSubplot:>"
      ]
     },
     "execution_count": 201,
     "metadata": {},
     "output_type": "execute_result"
    },
    {
     "data": {
      "image/png": "[encoded data removed]",
      "text/plain": [
       "<Figure size 432x288 with 1 Axes>"
      ]
     },
     "metadata": {},
     "output_type": "display_data"
    }
   ],
   "source": [
    "#Or\n",
    "sns.distplot(X_rand, bins=20, kde=False)"
   ]
  },
  {
   "cell_type": "code",
   "execution_count": 202,
   "id": "8f5622a9",
   "metadata": {},
   "outputs": [
    {
     "data": {
      "text/plain": [
       "<AxesSubplot:>"
      ]
     },
     "execution_count": 202,
     "metadata": {},
     "output_type": "execute_result"
    },
    {
     "data": {
      "image/png": "[encoded data removed]",
      "text/plain": [
       "<Figure size 432x288 with 1 Axes>"
      ]
     },
     "metadata": {},
     "output_type": "display_data"
    }
   ],
   "source": [
    "sns.distplot(X_rand, fit=stats.norm, kde=False)"
   ]
  },
  {
   "cell_type": "code",
   "execution_count": 203,
   "id": "b2a87649",
   "metadata": {},
   "outputs": [],
   "source": [
    "#Distribution fitting"
   ]
  },
  {
   "cell_type": "code",
   "execution_count": 204,
   "id": "5b8ee064",
   "metadata": {},
   "outputs": [
    {
     "data": {
      "text/plain": [
       "(-0.045256707490195384, 0.9870331586690257)"
      ]
     },
     "execution_count": 204,
     "metadata": {},
     "output_type": "execute_result"
    }
   ],
   "source": [
    "loc, scale=stats.norm.fit(X_rand)\n",
    "loc, scale"
   ]
  },
  {
   "cell_type": "code",
   "execution_count": 206,
   "id": "b066acd5",
   "metadata": {},
   "outputs": [],
   "source": [
    "#Calculate PDF\n",
    "#linear space value of x\n",
    "\n",
    "x=np.linspace(start=-5, stop=5, num=100)"
   ]
  },
  {
   "cell_type": "code",
   "execution_count": 207,
   "id": "2e7a137f",
   "metadata": {},
   "outputs": [],
   "source": [
    "#pdf\n",
    "pdf=stats.norm.pdf(x, loc=loc, scale=scale)"
   ]
  },
  {
   "cell_type": "code",
   "execution_count": 208,
   "id": "6399303f",
   "metadata": {},
   "outputs": [
    {
     "data": {
      "text/plain": [
       "Text(0, 0.5, 'PDF')"
      ]
     },
     "execution_count": 208,
     "metadata": {},
     "output_type": "execute_result"
    },
    {
     "data": {
      "image/png": "[encoded data removed]",
      "text/plain": [
       "<Figure size 432x288 with 1 Axes>"
      ]
     },
     "metadata": {},
     "output_type": "display_data"
    }
   ],
   "source": [
    "#plot\n",
    "plt.plot(x,pdf,color='black')\n",
    "plt.xlabel('X')\n",
    "plt.ylabel('PDF')"
   ]
  },
  {
   "cell_type": "code",
   "execution_count": 209,
   "id": "b46ecf4d",
   "metadata": {},
   "outputs": [],
   "source": [
    "#CDF\n",
    "\n",
    "#cdf=stats.norm.cdf(x, loc=loc, scale=scale)\n",
    "#cdf = stats.norm.cdf(df_1, loc=loc, scale=scale)\n",
    "\n",
    "#cdf1=stats.norm.cdf(df_1, loc=loc, scale=scale)\n",
    "#cdf1"
   ]
  },
  {
   "cell_type": "code",
   "execution_count": 210,
   "id": "62ac0051",
   "metadata": {},
   "outputs": [
    {
     "data": {
      "text/plain": [
       "33.0"
      ]
     },
     "execution_count": 210,
     "metadata": {},
     "output_type": "execute_result"
    }
   ],
   "source": [
    "mu=df_1.mean()\n",
    "mu\n",
    "#where df_1 is cyberopsfinal_df[\"Type\"].value_counts()"
   ]
  },
  {
   "cell_type": "code",
   "execution_count": 211,
   "id": "7f34e5c3",
   "metadata": {},
   "outputs": [
    {
     "data": {
      "text/plain": [
       "97.4924060159007"
      ]
     },
     "execution_count": 211,
     "metadata": {},
     "output_type": "execute_result"
    }
   ],
   "source": [
    "sigma=df_1.std()\n",
    "sigma"
   ]
  },
  {
   "cell_type": "code",
   "execution_count": 212,
   "id": "bd1f1236",
   "metadata": {},
   "outputs": [],
   "source": [
    "cdf=stats.norm.cdf(x, loc=mu, scale=sigma)"
   ]
  },
  {
   "cell_type": "code",
   "execution_count": 213,
   "id": "5a68cb3a",
   "metadata": {},
   "outputs": [],
   "source": [
    "x=np.linspace(start=5, stop=375, num=100)"
   ]
  },
  {
   "cell_type": "code",
   "execution_count": 214,
   "id": "f3e78519",
   "metadata": {},
   "outputs": [
    {
     "data": {
      "text/plain": [
       "Espionage            371\n",
       "Sabotage              22\n",
       "Denial of service     18\n",
       "Data destruction      14\n",
       "Financial Theft        7\n",
       "Doxing                 6\n",
       "Defacement             5\n",
       "Name: Type, dtype: int64"
      ]
     },
     "execution_count": 214,
     "metadata": {},
     "output_type": "execute_result"
    }
   ],
   "source": [
    "df_1 = cyberopsfinal_df[\"Type\"].value_counts()\n",
    "df_1"
   ]
  },
  {
   "cell_type": "code",
   "execution_count": 215,
   "id": "cb1db3d5",
   "metadata": {},
   "outputs": [
    {
     "data": {
      "image/png": "[encoded data removed]",
      "text/plain": [
       "<Figure size 432x288 with 1 Axes>"
      ]
     },
     "metadata": {},
     "output_type": "display_data"
    }
   ],
   "source": [
    "#plot\n",
    "plt.hist(df_1, density=True, cumulative= True)\n",
    "plt.plot(x,cdf,color='black')\n",
    "\n",
    "plt.xlabel('X')\n",
    "plt.ylabel('CDF = P(x<=X)')\n",
    "plt.show()"
   ]
  },
  {
   "cell_type": "code",
   "execution_count": 216,
   "id": "42ae1239",
   "metadata": {},
   "outputs": [],
   "source": [
    "#For Analytics Distribution, I will create a pareto chart of variable Type in the dataframe cyberopsfinal_df"
   ]
  },
  {
   "cell_type": "code",
   "execution_count": 217,
   "id": "8765e4a7",
   "metadata": {},
   "outputs": [],
   "source": [
    "df_1 = big_df[\"Type\"].value_counts()"
   ]
  },
  {
   "cell_type": "code",
   "execution_count": 218,
   "id": "09257fdb",
   "metadata": {},
   "outputs": [],
   "source": [
    "df_2=pd.DataFrame(df_1)"
   ]
  },
  {
   "cell_type": "code",
   "execution_count": 219,
   "id": "b11461e9",
   "metadata": {},
   "outputs": [],
   "source": [
    "df_2[\"item\"]=df_2.index"
   ]
  },
  {
   "cell_type": "code",
   "execution_count": 220,
   "id": "942c867c",
   "metadata": {},
   "outputs": [
    {
     "data": {
      "text/html": [
       "<div>\n",
       "<style scoped>\n",
       "    .dataframe tbody tr th:only-of-type {\n",
       "        vertical-align: middle;\n",
       "    }\n",
       "\n",
       "    .dataframe tbody tr th {\n",
       "        vertical-align: top;\n",
       "    }\n",
       "\n",
       "    .dataframe thead th {\n",
       "        text-align: right;\n",
       "    }\n",
       "</style>\n",
       "<table border=\"1\" class=\"dataframe\">\n",
       "  <thead>\n",
       "    <tr style=\"text-align: right;\">\n",
       "      <th></th>\n",
       "      <th>Type</th>\n",
       "      <th>item</th>\n",
       "    </tr>\n",
       "  </thead>\n",
       "  <tbody>\n",
       "    <tr>\n",
       "      <th>Espionage</th>\n",
       "      <td>371</td>\n",
       "      <td>Espionage</td>\n",
       "    </tr>\n",
       "    <tr>\n",
       "      <th>Sabotage</th>\n",
       "      <td>22</td>\n",
       "      <td>Sabotage</td>\n",
       "    </tr>\n",
       "    <tr>\n",
       "      <th>Denial of service</th>\n",
       "      <td>18</td>\n",
       "      <td>Denial of service</td>\n",
       "    </tr>\n",
       "    <tr>\n",
       "      <th>Data destruction</th>\n",
       "      <td>14</td>\n",
       "      <td>Data destruction</td>\n",
       "    </tr>\n",
       "    <tr>\n",
       "      <th>Financial Theft</th>\n",
       "      <td>7</td>\n",
       "      <td>Financial Theft</td>\n",
       "    </tr>\n",
       "    <tr>\n",
       "      <th>Doxing</th>\n",
       "      <td>6</td>\n",
       "      <td>Doxing</td>\n",
       "    </tr>\n",
       "    <tr>\n",
       "      <th>Defacement</th>\n",
       "      <td>5</td>\n",
       "      <td>Defacement</td>\n",
       "    </tr>\n",
       "    <tr>\n",
       "      <th>Brute Force</th>\n",
       "      <td>3</td>\n",
       "      <td>Brute Force</td>\n",
       "    </tr>\n",
       "    <tr>\n",
       "      <th>Hardware/software misconfiguration</th>\n",
       "      <td>3</td>\n",
       "      <td>Hardware/software misconfiguration</td>\n",
       "    </tr>\n",
       "    <tr>\n",
       "      <th>Malware</th>\n",
       "      <td>3</td>\n",
       "      <td>Malware</td>\n",
       "    </tr>\n",
       "    <tr>\n",
       "      <th>Other cyber incident</th>\n",
       "      <td>3</td>\n",
       "      <td>Other cyber incident</td>\n",
       "    </tr>\n",
       "    <tr>\n",
       "      <th>Phishing</th>\n",
       "      <td>3</td>\n",
       "      <td>Phishing</td>\n",
       "    </tr>\n",
       "    <tr>\n",
       "      <th>Unauthorised access</th>\n",
       "      <td>2</td>\n",
       "      <td>Unauthorised access</td>\n",
       "    </tr>\n",
       "    <tr>\n",
       "      <th>Ransomware</th>\n",
       "      <td>2</td>\n",
       "      <td>Ransomware</td>\n",
       "    </tr>\n",
       "  </tbody>\n",
       "</table>\n",
       "</div>"
      ],
      "text/plain": [
       "                                    Type                                item\n",
       "Espionage                            371                           Espionage\n",
       "Sabotage                              22                            Sabotage\n",
       "Denial of service                     18                   Denial of service\n",
       "Data destruction                      14                    Data destruction\n",
       "Financial Theft                        7                     Financial Theft\n",
       "Doxing                                 6                              Doxing\n",
       "Defacement                             5                          Defacement\n",
       "Brute Force                            3                         Brute Force\n",
       "Hardware/software misconfiguration     3  Hardware/software misconfiguration\n",
       "Malware                                3                             Malware\n",
       "Other cyber incident                   3                Other cyber incident\n",
       "Phishing                               3                            Phishing\n",
       "Unauthorised access                    2                 Unauthorised access\n",
       "Ransomware                             2                          Ransomware"
      ]
     },
     "execution_count": 220,
     "metadata": {},
     "output_type": "execute_result"
    }
   ],
   "source": [
    "df_3=df_2.sort_values(by='Type', ascending=False)\n",
    "df_3"
   ]
  },
  {
   "cell_type": "code",
   "execution_count": 221,
   "id": "b0c20be3",
   "metadata": {},
   "outputs": [],
   "source": [
    "df_3[\"cumpercentage\"]=df_3[\"Type\"].cumsum()/df_3[\"Type\"].sum()*100"
   ]
  },
  {
   "cell_type": "code",
   "execution_count": 222,
   "id": "8d4c8ddd",
   "metadata": {},
   "outputs": [
    {
     "name": "stderr",
     "output_type": "stream",
     "text": [
      "C:\\Users\\saima\\AppData\\Local\\Temp/ipykernel_21752/542301559.py:6: UserWarning: FixedFormatter should only be used together with FixedLocator\n",
      "  ax1.set_xticklabels(df_3[\"item\"], rotation=45)\n"
     ]
    },
    {
     "data": {
      "image/png": "[encoded data removed]",
      "text/plain": [
       "<Figure size 432x288 with 2 Axes>"
      ]
     },
     "metadata": {},
     "output_type": "display_data"
    }
   ],
   "source": [
    "fig, ax1=plt.subplots()\n",
    "ax1.bar(df_3.item, df_3[\"Type\"], color=\"C0\")\n",
    "ax1.set_ylabel(\"Incident Type\", color=\"C0\")\n",
    "ax1.tick_params(axis=\"y\", color=\"C0\")\n",
    "ax1.set_xlabel(\"Type to Focus on\")\n",
    "ax1.set_xticklabels(df_3[\"item\"], rotation=45)\n",
    "ax2=ax1.twinx()\n",
    "ax2.plot(df_3.item, df_3[\"cumpercentage\"], color=\"C1\", marker=\"D\", ms=7)\n",
    "#ax2.yaxis.set_major_formatter(formatter)\n",
    "ax2.tick_params(axis=\"y\", color=\"C1\")\n",
    "plt.show()"
   ]
  },
  {
   "cell_type": "code",
   "execution_count": null,
   "id": "a5dbf4d8",
   "metadata": {},
   "outputs": [],
   "source": [
    "#Based on the above Paretto Distribution, Espionage Type, even for the combined dataset is significant and\n",
    "#need to be addressed to tackle this Cyber Incident Type"
   ]
  },
  {
   "cell_type": "code",
   "execution_count": null,
   "id": "d575b103",
   "metadata": {},
   "outputs": [],
   "source": []
  }
 ],
 "metadata": {
  "kernelspec": {
   "display_name": "Python 3 (ipykernel)",
   "language": "python",
   "name": "python3"
  },
  "language_info": {
   "codemirror_mode": {
    "name": "ipython",
    "version": 3
   },
   "file_extension": ".py",
   "mimetype": "text/x-python",
   "name": "python",
   "nbconvert_exporter": "python",
   "pygments_lexer": "ipython3",
   "version": "3.9.7"
  }
 },
 "nbformat": 4,
 "nbformat_minor": 5
}
